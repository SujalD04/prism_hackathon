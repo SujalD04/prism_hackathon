{
  "nbformat": 4,
  "nbformat_minor": 0,
  "metadata": {
    "colab": {
      "provenance": []
    },
    "kernelspec": {
      "name": "python3",
      "display_name": "Python 3"
    },
    "language_info": {
      "name": "python"
    }
  },
  "cells": [
    {
      "cell_type": "code",
      "source": [
        "!pip install pandas tqdm"
      ],
      "metadata": {
        "colab": {
          "base_uri": "https://localhost:8080/"
        },
        "id": "NfkEbKZw6A95",
        "outputId": "fa2d4e01-70b2-42e4-cdd7-48467625c060"
      },
      "execution_count": 1,
      "outputs": [
        {
          "output_type": "stream",
          "name": "stdout",
          "text": [
            "Requirement already satisfied: pandas in /usr/local/lib/python3.12/dist-packages (2.2.2)\n",
            "Requirement already satisfied: tqdm in /usr/local/lib/python3.12/dist-packages (4.67.1)\n",
            "Requirement already satisfied: numpy>=1.26.0 in /usr/local/lib/python3.12/dist-packages (from pandas) (2.0.2)\n",
            "Requirement already satisfied: python-dateutil>=2.8.2 in /usr/local/lib/python3.12/dist-packages (from pandas) (2.9.0.post0)\n",
            "Requirement already satisfied: pytz>=2020.1 in /usr/local/lib/python3.12/dist-packages (from pandas) (2025.2)\n",
            "Requirement already satisfied: tzdata>=2022.7 in /usr/local/lib/python3.12/dist-packages (from pandas) (2025.2)\n",
            "Requirement already satisfied: six>=1.5 in /usr/local/lib/python3.12/dist-packages (from python-dateutil>=2.8.2->pandas) (1.17.0)\n"
          ]
        }
      ]
    },
    {
      "cell_type": "code",
      "source": [
        "import pandas as pd\n",
        "import numpy as np\n",
        "import random\n",
        "from datetime import datetime, timedelta, timezone\n",
        "from tqdm import tqdm"
      ],
      "metadata": {
        "id": "U8NLjsanaioO"
      },
      "execution_count": 2,
      "outputs": []
    },
    {
      "cell_type": "code",
      "source": [
        "# --- Simulation Parameters ---\n",
        "N_REFRIGERATORS = 100\n",
        "SIMULATION_YEARS = 2\n",
        "DATA_INTERVAL_MINUTES = 10\n",
        "FAILURE_RATE = 0.05\n",
        "DEGRADATION_PERIOD_DAYS = 60\n",
        "LABELING_WINDOW_DAYS = 30"
      ],
      "metadata": {
        "id": "xcU2BvKhalx5"
      },
      "execution_count": 15,
      "outputs": []
    },
    {
      "cell_type": "code",
      "source": [
        "def generate_simulation_data():\n",
        "    \"\"\"\n",
        "    Generates a large, labeled time-series dataset for a fleet of simulated refrigerators.\n",
        "    (Corrected Version)\n",
        "    \"\"\"\n",
        "    print(\"Starting data simulation...\")\n",
        "\n",
        "    # --- Setup Timeframe ---\n",
        "    end_date = datetime.now(timezone.utc)\n",
        "    start_date = end_date - timedelta(days=365 * SIMULATION_YEARS)\n",
        "\n",
        "    # --- Create Fridge Metadata ---\n",
        "    fridge_ids = [f\"fridge_{i:03}\" for i in range(N_REFRIGERATORS)]\n",
        "    n_failing_fridges = int(N_REFRIGERATORS * FAILURE_RATE)\n",
        "\n",
        "    failing_fridge_ids = random.sample(fridge_ids, k=n_failing_fridges)\n",
        "    fridge_metadata = []\n",
        "\n",
        "    print(f\"\\n{n_failing_fridges} refrigerators are programmed to fail.\")\n",
        "\n",
        "    for fridge_id in fridge_ids:\n",
        "        is_failing = fridge_id in failing_fridge_ids\n",
        "        failure_date = None\n",
        "        if is_failing:\n",
        "            failure_timestamp = random.uniform(\n",
        "                (start_date + timedelta(days=DEGRADATION_PERIOD_DAYS + 90)).timestamp(),\n",
        "                end_date.timestamp()\n",
        "            )\n",
        "            failure_date = datetime.fromtimestamp(failure_timestamp, tz=timezone.utc)\n",
        "\n",
        "        fridge_metadata.append({\n",
        "            \"fridge_id\": fridge_id,\n",
        "            \"is_failing\": is_failing,\n",
        "            \"failure_date\": failure_date,\n",
        "            \"ambient_noise\": random.uniform(-1.5, 1.5) # FIX: Add unique noise for each fridge\n",
        "        })\n",
        "\n",
        "    df_meta = pd.DataFrame(fridge_metadata)\n",
        "    all_data = []\n",
        "\n",
        "    # --- Main Simulation Loop ---\n",
        "    for _, fridge in tqdm(df_meta.iterrows(), total=df_meta.shape[0], desc=\"Simulating Refrigerators\"):\n",
        "        timestamp = start_date\n",
        "        temp_setpoint = random.uniform(3.5, 4.5)\n",
        "\n",
        "        while timestamp < end_date:\n",
        "            days_to_failure = float('inf')\n",
        "            if fridge['is_failing'] and pd.notna(fridge['failure_date']):\n",
        "                days_to_failure = (fridge['failure_date'] - timestamp).total_seconds() / (24 * 3600)\n",
        "\n",
        "            # --- Apply Degradation Logic ---\n",
        "            degradation_factor = 0.0\n",
        "            if 0 < days_to_failure <= DEGRADATION_PERIOD_DAYS:\n",
        "                degradation_factor = 1 - (days_to_failure / DEGRADATION_PERIOD_DAYS)\n",
        "\n",
        "            # --- Generate Sensor Readings ---\n",
        "            temp_current = temp_setpoint + random.uniform(-0.5, 0.5)\n",
        "            compressor_on = 1 if temp_current > temp_setpoint else 0\n",
        "\n",
        "            temp_current += degradation_factor * 3.0\n",
        "            compressor_duty_cycle_modifier = degradation_factor * 0.4\n",
        "            if random.random() < compressor_duty_cycle_modifier:\n",
        "                compressor_on = 1\n",
        "\n",
        "            energy_kwh = (0.005 + degradation_factor * 0.005) if compressor_on else 0.0001\n",
        "            door_open = random.choices([0, 1], weights=[99, 1], k=1)[0]\n",
        "            voltage = random.uniform(225.0, 245.0)\n",
        "\n",
        "            # FIX: Use the unique ambient noise for this fridge\n",
        "            base_ambient_temp = 22.0 + (5 * np.sin(2 * np.pi * timestamp.timetuple().tm_yday / 365.25))\n",
        "            ambient_temp = base_ambient_temp + fridge['ambient_noise']\n",
        "\n",
        "            # --- Generate the Target Label (Corrected Logic) ---\n",
        "            failed_in_next_30d = 1 if 0 < days_to_failure <= LABELING_WINDOW_DAYS else 0\n",
        "\n",
        "            all_data.append({\n",
        "                \"fridge_id\": fridge['fridge_id'],\n",
        "                \"timestamp\": timestamp,\n",
        "                \"temperature_current_c\": round(temp_current, 2),\n",
        "                \"compressor_on\": compressor_on,\n",
        "                \"door_open\": door_open,\n",
        "                \"energy_consumption_kwh\": round(energy_kwh, 5),\n",
        "                \"voltage_v\": round(voltage, 1),\n",
        "                \"ambient_temp_c\": round(ambient_temp, 2),\n",
        "                \"failed_in_next_30d\": failed_in_next_30d\n",
        "            })\n",
        "\n",
        "            timestamp += timedelta(minutes=DATA_INTERVAL_MINUTES)\n",
        "\n",
        "    # --- Finalize Dataset ---\n",
        "    print(\"\\nFinalizing dataset...\")\n",
        "    df_final = pd.DataFrame(all_data)\n",
        "\n",
        "    output_filename = \"refrigerator_telemetry_data_v2.csv\"\n",
        "    df_final.to_csv(output_filename, index=False)\n",
        "    print(f\"Simulation complete. Dataset saved to '{output_filename}'.\")\n",
        "    print(f\"Total data points generated: {len(df_final)}\")\n",
        "\n",
        "    # --- Verification Step ---\n",
        "    print(\"\\nVerification of the 'failed_in_next_30d' label distribution:\")\n",
        "    print(df_final['failed_in_next_30d'].value_counts())\n",
        "\n",
        "\n",
        "if __name__ == \"__main__\":\n",
        "    generate_simulation_data()"
      ],
      "metadata": {
        "colab": {
          "base_uri": "https://localhost:8080/"
        },
        "id": "7sXGsBUcd_s4",
        "outputId": "db12360c-2a0e-4c7e-8dc3-d5ba75be33ac"
      },
      "execution_count": 5,
      "outputs": [
        {
          "output_type": "stream",
          "name": "stdout",
          "text": [
            "Starting data simulation...\n",
            "\n",
            "5 refrigerators are programmed to fail.\n"
          ]
        },
        {
          "output_type": "stream",
          "name": "stderr",
          "text": [
            "Simulating Refrigerators: 100%|██████████| 100/100 [05:07<00:00,  3.08s/it]\n"
          ]
        },
        {
          "output_type": "stream",
          "name": "stdout",
          "text": [
            "\n",
            "Finalizing dataset...\n",
            "Simulation complete. Dataset saved to 'refrigerator_telemetry_data_v2.csv'.\n",
            "Total data points generated: 10512000\n",
            "\n",
            "Verification of the 'failed_in_next_30d' label distribution:\n",
            "failed_in_next_30d\n",
            "0    10490400\n",
            "1       21600\n",
            "Name: count, dtype: int64\n"
          ]
        }
      ]
    },
    {
      "cell_type": "code",
      "source": [
        "import pandas as pd\n",
        "import random\n",
        "from tqdm import tqdm\n",
        "from datetime import timedelta, datetime, timezone\n",
        "import os"
      ],
      "metadata": {
        "id": "dOnOAfjN_wii"
      },
      "execution_count": 3,
      "outputs": []
    },
    {
      "cell_type": "code",
      "source": [
        "INPUT_CSV = \"/content/refrigerator_telemetry_data_v2.csv\"\n",
        "OUTPUT_CSV = \"refrigerator_telemetry_smaller.csv\"\n",
        "\n",
        "# The period to extract for each failure event (should include degradation + labeling window)\n",
        "FAILURE_WINDOW_DAYS = 90\n",
        "# How many healthy fridges to include in the sample\n",
        "N_HEALTHY_SAMPLES = 15\n",
        "# How much data to take from each healthy fridge\n",
        "HEALTHY_SAMPLE_DAYS = 90\n",
        "\n",
        "def create_sampled_dataset():\n",
        "    \"\"\"\n",
        "    Creates a smaller, high-value dataset by keeping all failure events\n",
        "    and sampling a representative portion of healthy data.\n",
        "    \"\"\"\n",
        "    print(\"--- Step 1: Loading Full Dataset (Memory Optimized) ---\")\n",
        "\n",
        "    try:\n",
        "        dtype_map = {\n",
        "            'temperature_current_c': 'float32', 'compressor_on': 'int8', 'door_open': 'int8',\n",
        "            'energy_consumption_kwh': 'float32', 'voltage_v': 'float32',\n",
        "            'ambient_temp_c': 'float32', 'failed_in_next_30d': 'int8'\n",
        "        }\n",
        "        df = pd.read_csv(INPUT_CSV, dtype=dtype_map, parse_dates=['timestamp'])\n",
        "    except FileNotFoundError:\n",
        "        print(f\"Error: The file '{INPUT_CSV}' was not found.\")\n",
        "        print(\"Please run the 'create_dataset_v2.py' script first.\")\n",
        "        return\n",
        "\n",
        "    df.sort_values(by=['fridge_id', 'timestamp'], inplace=True)\n",
        "    print(f\"Loaded {len(df)} total data points from {df['fridge_id'].nunique()} fridges.\")\n",
        "\n",
        "    # --- Step 2: Identify Failing and Healthy Fridges ---\n",
        "    all_fridge_ids = set(df['fridge_id'].unique())\n",
        "    failing_fridge_ids = set(df[df['failed_in_next_30d'] == 1]['fridge_id'].unique())\n",
        "    healthy_fridge_ids = list(all_fridge_ids - failing_fridge_ids)\n",
        "\n",
        "    print(f\"\\nFound {len(failing_fridge_ids)} failing fridges and {len(healthy_fridge_ids)} healthy fridges.\")\n",
        "\n",
        "    all_sampled_dfs = []\n",
        "\n",
        "    # --- Step 3: Extract All Failure Events ---\n",
        "    print(f\"\\nExtracting {FAILURE_WINDOW_DAYS}-day windows for all failure events...\")\n",
        "    for fridge_id in tqdm(failing_fridge_ids, desc=\"Processing Failing Fridges\"):\n",
        "        fridge_df = df[df['fridge_id'] == fridge_id]\n",
        "\n",
        "        # Find the last moment the fridge was labeled for failure\n",
        "        last_failure_label_time = fridge_df[fridge_df['failed_in_next_30d'] == 1]['timestamp'].max()\n",
        "\n",
        "        # Extract the 90-day window leading up to that point\n",
        "        start_date = last_failure_label_time - timedelta(days=FAILURE_WINDOW_DAYS)\n",
        "\n",
        "        failure_window_df = fridge_df[(fridge_df['timestamp'] >= start_date) & (fridge_df['timestamp'] <= last_failure_label_time)]\n",
        "        all_sampled_dfs.append(failure_window_df)\n",
        "\n",
        "    # --- Step 4: Sample Healthy Data ---\n",
        "    print(f\"\\nSampling {HEALTHY_SAMPLE_DAYS}-day windows from {N_HEALTHY_SAMPLES} healthy fridges...\")\n",
        "    sampled_healthy_ids = random.sample(healthy_fridge_ids, k=min(N_HEALTHY_SAMPLES, len(healthy_fridge_ids)))\n",
        "\n",
        "    for fridge_id in tqdm(sampled_healthy_ids, desc=\"Processing Healthy Fridges\"):\n",
        "        fridge_df = df[df['fridge_id'] == fridge_id]\n",
        "\n",
        "        # Pick a random start date for the sample, ensuring we can get a full 90-day chunk\n",
        "        min_date = fridge_df['timestamp'].min()\n",
        "        max_date = fridge_df['timestamp'].max() - timedelta(days=HEALTHY_SAMPLE_DAYS)\n",
        "\n",
        "        if min_date >= max_date: continue\n",
        "\n",
        "        random_start_seconds = random.uniform(min_date.timestamp(), max_date.timestamp())\n",
        "        random_start_date = datetime.fromtimestamp(random_start_seconds, tz=timezone.utc)\n",
        "\n",
        "        end_date = random_start_date + timedelta(days=HEALTHY_SAMPLE_DAYS)\n",
        "\n",
        "        healthy_sample_df = fridge_df[(fridge_df['timestamp'] >= random_start_date) & (fridge_df['timestamp'] <= end_date)]\n",
        "        all_sampled_dfs.append(healthy_sample_df)\n",
        "\n",
        "    # --- Step 5: Combine, Shuffle, and Save ---\n",
        "    print(\"\\nCombining and saving the final sampled dataset...\")\n",
        "    final_df = pd.concat(all_sampled_dfs, ignore_index=True)\n",
        "\n",
        "    # Shuffle the dataset to mix healthy and failing data\n",
        "    final_df = final_df.sample(frac=1).reset_index(drop=True)\n",
        "\n",
        "    final_df.to_csv(OUTPUT_CSV, index=False)\n",
        "\n",
        "    print(\"\\n--- Summary ---\")\n",
        "    print(f\"Original dataset size: {len(df)} rows\")\n",
        "    print(f\"New sampled dataset size: {len(final_df)} rows\")\n",
        "    print(f\"New dataset size is ~{len(final_df)/len(df):.2%} of the original.\")\n",
        "    print(\"\\nLabel distribution in the new dataset:\")\n",
        "    print(final_df['failed_in_next_30d'].value_counts())\n",
        "    print(f\"\\nSampled dataset saved to '{OUTPUT_CSV}'.\")\n",
        "\n",
        "\n",
        "if __name__ == \"__main__\":\n",
        "    create_sampled_dataset()"
      ],
      "metadata": {
        "colab": {
          "base_uri": "https://localhost:8080/"
        },
        "id": "13mob7jj_3Cu",
        "outputId": "bf31ce63-7cd2-4011-e16a-7103686a607a"
      },
      "execution_count": 4,
      "outputs": [
        {
          "output_type": "stream",
          "name": "stdout",
          "text": [
            "--- Step 1: Loading Full Dataset (Memory Optimized) ---\n",
            "Loaded 1048575 total data points from 10 fridges.\n",
            "\n",
            "Found 1 failing fridges and 9 healthy fridges.\n",
            "\n",
            "Extracting 90-day windows for all failure events...\n"
          ]
        },
        {
          "output_type": "stream",
          "name": "stderr",
          "text": [
            "Processing Failing Fridges: 100%|██████████| 1/1 [00:00<00:00, 10.19it/s]\n"
          ]
        },
        {
          "output_type": "stream",
          "name": "stdout",
          "text": [
            "\n",
            "Sampling 90-day windows from 15 healthy fridges...\n"
          ]
        },
        {
          "output_type": "stream",
          "name": "stderr",
          "text": [
            "Processing Healthy Fridges: 100%|██████████| 9/9 [00:00<00:00, 10.25it/s]\n"
          ]
        },
        {
          "output_type": "stream",
          "name": "stdout",
          "text": [
            "\n",
            "Combining and saving the final sampled dataset...\n",
            "\n",
            "--- Summary ---\n",
            "Original dataset size: 1048575 rows\n",
            "New sampled dataset size: 129601 rows\n",
            "New dataset size is ~12.36% of the original.\n",
            "\n",
            "Label distribution in the new dataset:\n",
            "failed_in_next_30d\n",
            "0    125281\n",
            "1      4320\n",
            "Name: count, dtype: int64\n",
            "\n",
            "Sampled dataset saved to 'refrigerator_telemetry_smaller.csv'.\n"
          ]
        }
      ]
    },
    {
      "cell_type": "code",
      "source": [
        "!pip install scikit-learn joblib"
      ],
      "metadata": {
        "colab": {
          "base_uri": "https://localhost:8080/"
        },
        "id": "80KwrjkzjLJn",
        "outputId": "ba635fa3-77cb-45f4-e241-0284507da792"
      },
      "execution_count": 6,
      "outputs": [
        {
          "output_type": "stream",
          "name": "stdout",
          "text": [
            "Requirement already satisfied: scikit-learn in /usr/local/lib/python3.12/dist-packages (1.6.1)\n",
            "Requirement already satisfied: joblib in /usr/local/lib/python3.12/dist-packages (1.5.2)\n",
            "Requirement already satisfied: numpy>=1.19.5 in /usr/local/lib/python3.12/dist-packages (from scikit-learn) (2.0.2)\n",
            "Requirement already satisfied: scipy>=1.6.0 in /usr/local/lib/python3.12/dist-packages (from scikit-learn) (1.16.2)\n",
            "Requirement already satisfied: threadpoolctl>=3.1.0 in /usr/local/lib/python3.12/dist-packages (from scikit-learn) (3.6.0)\n"
          ]
        }
      ]
    },
    {
      "cell_type": "code",
      "source": [
        "import pandas as pd\n",
        "import numpy as np\n",
        "from sklearn.preprocessing import MinMaxScaler\n",
        "import joblib\n",
        "from tqdm import tqdm\n",
        "import os"
      ],
      "metadata": {
        "id": "kf4XNXddjbjW"
      },
      "execution_count": 5,
      "outputs": []
    },
    {
      "cell_type": "code",
      "source": [
        "INPUT_CSV = \"/content/refrigerator_telemetry_smaller.csv\"\n",
        "OUTPUT_PATH = \".\""
      ],
      "metadata": {
        "id": "fQu2JgBYjekg"
      },
      "execution_count": 6,
      "outputs": []
    },
    {
      "cell_type": "code",
      "source": [
        "TIMESTEPS_PER_HOUR = 60 // 10\n",
        "HOURS_PER_DAY = 24\n",
        "SEQUENCE_DAYS = 3\n",
        "SEQUENCE_TIMESTEPS = SEQUENCE_DAYS * HOURS_PER_DAY * TIMESTEPS_PER_HOUR"
      ],
      "metadata": {
        "id": "s6eWwyVKjw13"
      },
      "execution_count": 7,
      "outputs": []
    },
    {
      "cell_type": "code",
      "source": [
        "def prepare_data_for_lstm():\n",
        "    \"\"\"\n",
        "    Loads raw data in a memory-efficient way, scales it, creates sequences,\n",
        "    and saves the final arrays. (Optimized Version)\n",
        "    \"\"\"\n",
        "\n",
        "    # --- Step 1: Loading and Preprocessing Data (Optimized) ---\n",
        "    print(\"--- Step 1: Loading and Preprocessing Data (Optimized) ---\")\n",
        "\n",
        "    try:\n",
        "        # Define smaller data types to reduce memory usage during loading\n",
        "        dtype_map = {\n",
        "            'temperature_current_c': 'float32',\n",
        "            'compressor_on': 'int8',\n",
        "            'door_open': 'int8',\n",
        "            'energy_consumption_kwh': 'float32',\n",
        "            'voltage_v': 'float32',\n",
        "            'ambient_temp_c': 'float32',\n",
        "            'failed_in_next_30d': 'int8'\n",
        "        }\n",
        "\n",
        "        # Set a chunk size to process the large CSV file in pieces\n",
        "        chunk_size = 100000\n",
        "        df_chunks = []\n",
        "\n",
        "        print(f\"Reading '{INPUT_CSV}' in chunks of {chunk_size} rows...\")\n",
        "\n",
        "        # Create a tqdm progress bar for reading chunks\n",
        "        file_size = os.path.getsize(INPUT_CSV)\n",
        "        with open(INPUT_CSV, 'r') as f:\n",
        "            # Get total lines for a more accurate progress bar\n",
        "            total_lines = sum(1 for line in f)\n",
        "\n",
        "        pbar = tqdm(total=total_lines, desc=\"Loading Chunks\")\n",
        "        for chunk in pd.read_csv(INPUT_CSV, dtype=dtype_map, chunksize=chunk_size):\n",
        "            df_chunks.append(chunk)\n",
        "            pbar.update(len(chunk))\n",
        "        pbar.close()\n",
        "\n",
        "        # Concatenate all chunks into a single DataFrame\n",
        "        print(\"Concatenating chunks into a final DataFrame...\")\n",
        "        df = pd.concat(df_chunks, ignore_index=True)\n",
        "        del df_chunks # Free up memory\n",
        "\n",
        "    except FileNotFoundError:\n",
        "        print(f\"Error: The file '{INPUT_CSV}' was not found.\")\n",
        "        print(\"Please run the 'create_dataset_v2.py' script first.\")\n",
        "        return\n",
        "\n",
        "    # Convert timestamp after loading and sort\n",
        "    df['timestamp'] = pd.to_datetime(df['timestamp'])\n",
        "    df.sort_values(by=['fridge_id', 'timestamp'], inplace=True)\n",
        "\n",
        "    print(f\"Loaded {len(df)} data points.\")\n",
        "    df.info(memory_usage='deep')\n",
        "\n",
        "    # --- Step 2: Scaling Features (No changes needed here) ---\n",
        "\n",
        "    feature_columns = [\n",
        "        'temperature_current_c', 'compressor_on', 'door_open',\n",
        "        'energy_consumption_kwh', 'voltage_v', 'ambient_temp_c'\n",
        "    ]\n",
        "\n",
        "    print(f\"\\n--- Step 2: Scaling {len(feature_columns)} Features ---\")\n",
        "\n",
        "    scaler = MinMaxScaler()\n",
        "    df[feature_columns] = scaler.fit_transform(df[feature_columns])\n",
        "\n",
        "    os.makedirs(OUTPUT_PATH, exist_ok=True)\n",
        "    scaler_filename = os.path.join(OUTPUT_PATH, \"scaler.joblib\")\n",
        "    joblib.dump(scaler, scaler_filename)\n",
        "    print(f\"Scaler saved to '{scaler_filename}'.\")\n",
        "\n",
        "    # --- Step 3: Creating Sequences (No changes needed here) ---\n",
        "\n",
        "    print(f\"\\n--- Step 3: Creating Sequences with {SEQUENCE_TIMESTEPS} Timesteps ---\")\n",
        "\n",
        "    sequences = []\n",
        "    labels = []\n",
        "\n",
        "    grouped_data = df.groupby('fridge_id')\n",
        "\n",
        "    for fridge_id, fridge_data in tqdm(grouped_data, desc=\"Processing Fridges\"):\n",
        "        feature_data = fridge_data[feature_columns].values\n",
        "        label_data = fridge_data['failed_in_next_30d'].values\n",
        "\n",
        "        for i in range(len(feature_data) - SEQUENCE_TIMESTEPS):\n",
        "            seq = feature_data[i:i + SEQUENCE_TIMESTEPS]\n",
        "            label = label_data[i + SEQUENCE_TIMESTEPS - 1]\n",
        "\n",
        "            sequences.append(seq)\n",
        "            labels.append(label)\n",
        "\n",
        "    X = np.array(sequences)\n",
        "    y = np.array(labels)\n",
        "\n",
        "    print(\"\\n--- Step 4: Finalizing and Saving Data ---\")\n",
        "    print(f\"Final shape of sequences (X): {X.shape}\")\n",
        "    print(f\"Final shape of labels (y): {y.shape}\")\n",
        "\n",
        "    np.save(os.path.join(OUTPUT_PATH, \"sequences.npy\"), X)\n",
        "    np.save(os.path.join(OUTPUT_PATH, \"labels.npy\"), y)\n",
        "\n",
        "    print(f\"\\nData preparation complete. Model-ready files saved in '{OUTPUT_PATH}'.\")\n",
        "    print(\"You are now ready to train the LSTM model.\")\n",
        "\n",
        "\n",
        "if __name__ == \"__main__\":\n",
        "    prepare_data_for_lstm()"
      ],
      "metadata": {
        "colab": {
          "base_uri": "https://localhost:8080/"
        },
        "id": "qUX5aaa5m7E2",
        "outputId": "8d24415f-079b-4161-bc96-272e61285d8b"
      },
      "execution_count": 8,
      "outputs": [
        {
          "output_type": "stream",
          "name": "stdout",
          "text": [
            "--- Step 1: Loading and Preprocessing Data (Optimized) ---\n",
            "Reading '/content/refrigerator_telemetry_smaller.csv' in chunks of 100000 rows...\n"
          ]
        },
        {
          "output_type": "stream",
          "name": "stderr",
          "text": [
            "Loading Chunks: 100%|█████████▉| 129601/129602 [00:00<00:00, 540175.33it/s]\n"
          ]
        },
        {
          "output_type": "stream",
          "name": "stdout",
          "text": [
            "Concatenating chunks into a final DataFrame...\n",
            "Loaded 129601 data points.\n",
            "<class 'pandas.core.frame.DataFrame'>\n",
            "Index: 129601 entries, 26531 to 41715\n",
            "Data columns (total 9 columns):\n",
            " #   Column                  Non-Null Count   Dtype              \n",
            "---  ------                  --------------   -----              \n",
            " 0   fridge_id               129601 non-null  object             \n",
            " 1   timestamp               129601 non-null  datetime64[ns, UTC]\n",
            " 2   temperature_current_c   129601 non-null  float32            \n",
            " 3   compressor_on           129601 non-null  int8               \n",
            " 4   door_open               129601 non-null  int8               \n",
            " 5   energy_consumption_kwh  129601 non-null  float32            \n",
            " 6   voltage_v               129601 non-null  float32            \n",
            " 7   ambient_temp_c          129601 non-null  float32            \n",
            " 8   failed_in_next_30d      129601 non-null  int8               \n",
            "dtypes: datetime64[ns, UTC](1), float32(4), int8(3), object(1)\n",
            "memory usage: 11.6 MB\n",
            "\n",
            "--- Step 2: Scaling 6 Features ---\n",
            "Scaler saved to './scaler.joblib'.\n",
            "\n",
            "--- Step 3: Creating Sequences with 432 Timesteps ---\n"
          ]
        },
        {
          "output_type": "stream",
          "name": "stderr",
          "text": [
            "Processing Fridges: 100%|██████████| 10/10 [00:00<00:00, 100.86it/s]\n"
          ]
        },
        {
          "output_type": "stream",
          "name": "stdout",
          "text": [
            "\n",
            "--- Step 4: Finalizing and Saving Data ---\n",
            "Final shape of sequences (X): (125281, 432, 6)\n",
            "Final shape of labels (y): (125281,)\n",
            "\n",
            "Data preparation complete. Model-ready files saved in '.'.\n",
            "You are now ready to train the LSTM model.\n"
          ]
        }
      ]
    },
    {
      "cell_type": "code",
      "source": [
        "import numpy as np\n",
        "import pandas as pd\n",
        "import tensorflow as tf\n",
        "from tensorflow import keras\n",
        "from tensorflow.keras.models import Sequential\n",
        "from tensorflow.keras.layers import LSTM, Dense, Dropout\n",
        "from sklearn.model_selection import train_test_split\n",
        "from sklearn.metrics import classification_report, confusion_matrix, ConfusionMatrixDisplay\n",
        "from sklearn.utils import class_weight\n",
        "import matplotlib.pyplot as plt\n",
        "import os"
      ],
      "metadata": {
        "id": "Z1yO8nF4_Peo"
      },
      "execution_count": 9,
      "outputs": []
    },
    {
      "cell_type": "code",
      "source": [
        "# --- Step 0: Setup and GPU Check ---\n",
        "print(\"--- Step 0: Setup and GPU Check ---\")\n",
        "# (Same as before)\n",
        "device_name = tf.test.gpu_device_name()\n",
        "if device_name != '/device:GPU:0':\n",
        "  print('\\nWARNING: GPU device not found.')\n",
        "else:\n",
        "  print('\\nSUCCESS: Found GPU at: {}'.format(device_name))\n",
        "\n",
        "\n",
        "# --- Step 1: Load Data (Memory-Mapped) and Split ---\n",
        "print(\"\\n--- Step 1: Loading Data and Splitting ---\")\n",
        "X_FILE = '/content/sequences.npy'\n",
        "Y_FILE = '/content/labels.npy'\n",
        "\n",
        "if not os.path.exists(X_FILE) or not os.path.exists(Y_FILE):\n",
        "    print(f\"Error: Make sure '{X_FILE}' and '{Y_FILE}' are uploaded.\")\n",
        "else:\n",
        "    # Use mmap_mode='r' to avoid loading the entire file into RAM at once.\n",
        "    # This treats the file on disk as if it were an in-memory array.\n",
        "    print(\"Loading data using memory-mapping...\")\n",
        "    X = np.load(X_FILE, mmap_mode='r')\n",
        "    y = np.load(Y_FILE, mmap_mode='r')\n",
        "\n",
        "    print(f\"Data loaded with shapes: X={X.shape}, y={y.shape}\")\n",
        "\n",
        "    # Create indices for splitting, then create views of the data.\n",
        "    # This avoids copying large amounts of data in memory.\n",
        "    indices = np.arange(X.shape[0])\n",
        "    train_indices, test_indices = train_test_split(\n",
        "        indices, test_size=0.2, random_state=42, stratify=y\n",
        "    )\n",
        "\n",
        "    X_train, X_test = X[train_indices], X[test_indices]\n",
        "    y_train, y_test = y[train_indices], y[test_indices]\n",
        "\n",
        "    print(f\"Training data shape: {X_train.shape}\")\n",
        "    print(f\"Testing data shape: {X_test.shape}\")\n",
        "\n",
        "\n",
        "# --- Step 2: Create tf.data.Dataset Pipeline ---\n",
        "print(\"\\n--- Step 2: Creating tf.data.Dataset Pipeline ---\")\n",
        "BATCH_SIZE = 64\n",
        "\n",
        "# Create TensorFlow datasets from the NumPy arrays\n",
        "train_dataset = tf.data.Dataset.from_tensor_slices((X_train, y_train))\n",
        "test_dataset = tf.data.Dataset.from_tensor_slices((X_test, y_test))\n",
        "\n",
        "# Create a highly efficient data pipeline\n",
        "# This shuffles, batches, and prefetches data to the GPU in the background\n",
        "train_dataset = train_dataset.shuffle(buffer_size=1024).batch(BATCH_SIZE).prefetch(tf.data.AUTOTUNE)\n",
        "test_dataset = test_dataset.batch(BATCH_SIZE).prefetch(tf.data.AUTOTUNE)\n",
        "\n",
        "print(\"TensorFlow data pipelines created.\")\n",
        "\n",
        "\n",
        "# --- Step 3: Handle Class Imbalance ---\n",
        "print(\"\\n--- Step 3: Calculating Class Weights ---\")\n",
        "# (This step remains the same)\n",
        "class_weights = class_weight.compute_class_weight('balanced', classes=np.unique(y_train), y=y_train)\n",
        "class_weight_dict = {0: class_weights[0], 1: class_weights[1]}\n",
        "print(f\"Calculated class weights: {class_weight_dict}\")\n",
        "\n",
        "\n",
        "# --- Step 4: Build and Compile the LSTM Model ---\n",
        "print(\"\\n--- Step 4: Building and Compiling the LSTM Model ---\")\n",
        "# (This step remains the same)\n",
        "input_shape = (X_train.shape[1], X_train.shape[2])\n",
        "model = Sequential([\n",
        "    LSTM(64, input_shape=input_shape),\n",
        "    Dropout(0.2),\n",
        "    Dense(32, activation='relu'),\n",
        "    Dense(1, activation='sigmoid')\n",
        "])\n",
        "model.compile(\n",
        "    optimizer='adam',\n",
        "    loss='binary_crossentropy',\n",
        "    metrics=['accuracy', tf.keras.metrics.Precision(name='precision'), tf.keras.metrics.Recall(name='recall')]\n",
        ")\n",
        "model.summary()\n",
        "\n",
        "\n",
        "# --- Step 5: Train the Model using the Dataset Pipeline ---\n",
        "print(\"\\n--- Step 5: Training the Model ---\")\n",
        "\n",
        "# The only change here is passing the tf.data.Dataset objects\n",
        "# instead of the raw NumPy arrays. TensorFlow handles the streaming.\n",
        "history = model.fit(\n",
        "    train_dataset,\n",
        "    epochs=10,\n",
        "    validation_data=test_dataset,\n",
        "    class_weight=class_weight_dict\n",
        ")\n",
        "\n",
        "\n",
        "# --- Step 6: Evaluate the Model ---\n",
        "print(\"\\n--- Step 6: Evaluating Model Performance ---\")\n",
        "# (This step remains the same)\n",
        "y_pred_proba = model.predict(X_test)\n",
        "y_pred = (y_pred_proba > 0.5).astype(\"int32\")\n",
        "print(\"\\nClassification Report:\")\n",
        "print(classification_report(y_test, y_pred))\n",
        "print(\"\\nConfusion Matrix:\")\n",
        "cm = confusion_matrix(y_test, y_pred)\n",
        "disp = ConfusionMatrixDisplay(confusion_matrix=cm)\n",
        "disp.plot(cmap=plt.cm.Blues)\n",
        "plt.show()"
      ],
      "metadata": {
        "colab": {
          "base_uri": "https://localhost:8080/",
          "height": 1000
        },
        "id": "lJcQnF7hG95G",
        "outputId": "69633aa4-2a6b-44fc-c561-97503d04f773"
      },
      "execution_count": 10,
      "outputs": [
        {
          "output_type": "stream",
          "name": "stdout",
          "text": [
            "--- Step 0: Setup and GPU Check ---\n",
            "\n",
            "WARNING: GPU device not found.\n",
            "\n",
            "--- Step 1: Loading Data and Splitting ---\n",
            "Loading data using memory-mapping...\n",
            "Data loaded with shapes: X=(125281, 432, 6), y=(125281,)\n",
            "Training data shape: (100224, 432, 6)\n",
            "Testing data shape: (25057, 432, 6)\n",
            "\n",
            "--- Step 2: Creating tf.data.Dataset Pipeline ---\n",
            "TensorFlow data pipelines created.\n",
            "\n",
            "--- Step 3: Calculating Class Weights ---\n",
            "Calculated class weights: {0: np.float64(0.5178517913794707), 1: np.float64(14.504196816208394)}\n",
            "\n",
            "--- Step 4: Building and Compiling the LSTM Model ---\n"
          ]
        },
        {
          "output_type": "stream",
          "name": "stderr",
          "text": [
            "/usr/local/lib/python3.12/dist-packages/keras/src/layers/rnn/rnn.py:199: UserWarning: Do not pass an `input_shape`/`input_dim` argument to a layer. When using Sequential models, prefer using an `Input(shape)` object as the first layer in the model instead.\n",
            "  super().__init__(**kwargs)\n"
          ]
        },
        {
          "output_type": "display_data",
          "data": {
            "text/plain": [
              "\u001b[1mModel: \"sequential\"\u001b[0m\n"
            ],
            "text/html": [
              "<pre style=\"white-space:pre;overflow-x:auto;line-height:normal;font-family:Menlo,'DejaVu Sans Mono',consolas,'Courier New',monospace\"><span style=\"font-weight: bold\">Model: \"sequential\"</span>\n",
              "</pre>\n"
            ]
          },
          "metadata": {}
        },
        {
          "output_type": "display_data",
          "data": {
            "text/plain": [
              "┏━━━━━━━━━━━━━━━━━━━━━━━━━━━━━━━━━┳━━━━━━━━━━━━━━━━━━━━━━━━┳━━━━━━━━━━━━━━━┓\n",
              "┃\u001b[1m \u001b[0m\u001b[1mLayer (type)                   \u001b[0m\u001b[1m \u001b[0m┃\u001b[1m \u001b[0m\u001b[1mOutput Shape          \u001b[0m\u001b[1m \u001b[0m┃\u001b[1m \u001b[0m\u001b[1m      Param #\u001b[0m\u001b[1m \u001b[0m┃\n",
              "┡━━━━━━━━━━━━━━━━━━━━━━━━━━━━━━━━━╇━━━━━━━━━━━━━━━━━━━━━━━━╇━━━━━━━━━━━━━━━┩\n",
              "│ lstm (\u001b[38;5;33mLSTM\u001b[0m)                     │ (\u001b[38;5;45mNone\u001b[0m, \u001b[38;5;34m64\u001b[0m)             │        \u001b[38;5;34m18,176\u001b[0m │\n",
              "├─────────────────────────────────┼────────────────────────┼───────────────┤\n",
              "│ dropout (\u001b[38;5;33mDropout\u001b[0m)               │ (\u001b[38;5;45mNone\u001b[0m, \u001b[38;5;34m64\u001b[0m)             │             \u001b[38;5;34m0\u001b[0m │\n",
              "├─────────────────────────────────┼────────────────────────┼───────────────┤\n",
              "│ dense (\u001b[38;5;33mDense\u001b[0m)                   │ (\u001b[38;5;45mNone\u001b[0m, \u001b[38;5;34m32\u001b[0m)             │         \u001b[38;5;34m2,080\u001b[0m │\n",
              "├─────────────────────────────────┼────────────────────────┼───────────────┤\n",
              "│ dense_1 (\u001b[38;5;33mDense\u001b[0m)                 │ (\u001b[38;5;45mNone\u001b[0m, \u001b[38;5;34m1\u001b[0m)              │            \u001b[38;5;34m33\u001b[0m │\n",
              "└─────────────────────────────────┴────────────────────────┴───────────────┘\n"
            ],
            "text/html": [
              "<pre style=\"white-space:pre;overflow-x:auto;line-height:normal;font-family:Menlo,'DejaVu Sans Mono',consolas,'Courier New',monospace\">┏━━━━━━━━━━━━━━━━━━━━━━━━━━━━━━━━━┳━━━━━━━━━━━━━━━━━━━━━━━━┳━━━━━━━━━━━━━━━┓\n",
              "┃<span style=\"font-weight: bold\"> Layer (type)                    </span>┃<span style=\"font-weight: bold\"> Output Shape           </span>┃<span style=\"font-weight: bold\">       Param # </span>┃\n",
              "┡━━━━━━━━━━━━━━━━━━━━━━━━━━━━━━━━━╇━━━━━━━━━━━━━━━━━━━━━━━━╇━━━━━━━━━━━━━━━┩\n",
              "│ lstm (<span style=\"color: #0087ff; text-decoration-color: #0087ff\">LSTM</span>)                     │ (<span style=\"color: #00d7ff; text-decoration-color: #00d7ff\">None</span>, <span style=\"color: #00af00; text-decoration-color: #00af00\">64</span>)             │        <span style=\"color: #00af00; text-decoration-color: #00af00\">18,176</span> │\n",
              "├─────────────────────────────────┼────────────────────────┼───────────────┤\n",
              "│ dropout (<span style=\"color: #0087ff; text-decoration-color: #0087ff\">Dropout</span>)               │ (<span style=\"color: #00d7ff; text-decoration-color: #00d7ff\">None</span>, <span style=\"color: #00af00; text-decoration-color: #00af00\">64</span>)             │             <span style=\"color: #00af00; text-decoration-color: #00af00\">0</span> │\n",
              "├─────────────────────────────────┼────────────────────────┼───────────────┤\n",
              "│ dense (<span style=\"color: #0087ff; text-decoration-color: #0087ff\">Dense</span>)                   │ (<span style=\"color: #00d7ff; text-decoration-color: #00d7ff\">None</span>, <span style=\"color: #00af00; text-decoration-color: #00af00\">32</span>)             │         <span style=\"color: #00af00; text-decoration-color: #00af00\">2,080</span> │\n",
              "├─────────────────────────────────┼────────────────────────┼───────────────┤\n",
              "│ dense_1 (<span style=\"color: #0087ff; text-decoration-color: #0087ff\">Dense</span>)                 │ (<span style=\"color: #00d7ff; text-decoration-color: #00d7ff\">None</span>, <span style=\"color: #00af00; text-decoration-color: #00af00\">1</span>)              │            <span style=\"color: #00af00; text-decoration-color: #00af00\">33</span> │\n",
              "└─────────────────────────────────┴────────────────────────┴───────────────┘\n",
              "</pre>\n"
            ]
          },
          "metadata": {}
        },
        {
          "output_type": "display_data",
          "data": {
            "text/plain": [
              "\u001b[1m Total params: \u001b[0m\u001b[38;5;34m20,289\u001b[0m (79.25 KB)\n"
            ],
            "text/html": [
              "<pre style=\"white-space:pre;overflow-x:auto;line-height:normal;font-family:Menlo,'DejaVu Sans Mono',consolas,'Courier New',monospace\"><span style=\"font-weight: bold\"> Total params: </span><span style=\"color: #00af00; text-decoration-color: #00af00\">20,289</span> (79.25 KB)\n",
              "</pre>\n"
            ]
          },
          "metadata": {}
        },
        {
          "output_type": "display_data",
          "data": {
            "text/plain": [
              "\u001b[1m Trainable params: \u001b[0m\u001b[38;5;34m20,289\u001b[0m (79.25 KB)\n"
            ],
            "text/html": [
              "<pre style=\"white-space:pre;overflow-x:auto;line-height:normal;font-family:Menlo,'DejaVu Sans Mono',consolas,'Courier New',monospace\"><span style=\"font-weight: bold\"> Trainable params: </span><span style=\"color: #00af00; text-decoration-color: #00af00\">20,289</span> (79.25 KB)\n",
              "</pre>\n"
            ]
          },
          "metadata": {}
        },
        {
          "output_type": "display_data",
          "data": {
            "text/plain": [
              "\u001b[1m Non-trainable params: \u001b[0m\u001b[38;5;34m0\u001b[0m (0.00 B)\n"
            ],
            "text/html": [
              "<pre style=\"white-space:pre;overflow-x:auto;line-height:normal;font-family:Menlo,'DejaVu Sans Mono',consolas,'Courier New',monospace\"><span style=\"font-weight: bold\"> Non-trainable params: </span><span style=\"color: #00af00; text-decoration-color: #00af00\">0</span> (0.00 B)\n",
              "</pre>\n"
            ]
          },
          "metadata": {}
        },
        {
          "output_type": "stream",
          "name": "stdout",
          "text": [
            "\n",
            "--- Step 5: Training the Model ---\n",
            "Epoch 1/10\n",
            "\u001b[1m1566/1566\u001b[0m \u001b[32m━━━━━━━━━━━━━━━━━━━━\u001b[0m\u001b[37m\u001b[0m \u001b[1m424s\u001b[0m 269ms/step - accuracy: 0.9873 - loss: 0.1170 - precision: 0.7519 - recall: 0.9477 - val_accuracy: 0.9958 - val_loss: 0.0136 - val_precision: 0.8907 - val_recall: 1.0000\n",
            "Epoch 2/10\n",
            "\u001b[1m1566/1566\u001b[0m \u001b[32m━━━━━━━━━━━━━━━━━━━━\u001b[0m\u001b[37m\u001b[0m \u001b[1m426s\u001b[0m 272ms/step - accuracy: 0.9928 - loss: 0.0206 - precision: 0.8305 - recall: 0.9971 - val_accuracy: 0.9954 - val_loss: 0.0115 - val_precision: 0.8825 - val_recall: 1.0000\n",
            "Epoch 3/10\n",
            "\u001b[1m1566/1566\u001b[0m \u001b[32m━━━━━━━━━━━━━━━━━━━━\u001b[0m\u001b[37m\u001b[0m \u001b[1m469s\u001b[0m 300ms/step - accuracy: 0.9947 - loss: 0.0133 - precision: 0.8668 - recall: 0.9977 - val_accuracy: 0.9992 - val_loss: 0.0022 - val_precision: 0.9763 - val_recall: 1.0000\n",
            "Epoch 4/10\n",
            "\u001b[1m1566/1566\u001b[0m \u001b[32m━━━━━━━━━━━━━━━━━━━━\u001b[0m\u001b[37m\u001b[0m \u001b[1m483s\u001b[0m 288ms/step - accuracy: 0.9947 - loss: 0.0152 - precision: 0.8689 - recall: 0.9985 - val_accuracy: 0.9980 - val_loss: 0.0049 - val_precision: 0.9473 - val_recall: 0.9988\n",
            "Epoch 5/10\n",
            "\u001b[1m1566/1566\u001b[0m \u001b[32m━━━━━━━━━━━━━━━━━━━━\u001b[0m\u001b[37m\u001b[0m \u001b[1m524s\u001b[0m 302ms/step - accuracy: 0.9924 - loss: 0.0218 - precision: 0.8200 - recall: 0.9979 - val_accuracy: 0.9916 - val_loss: 0.0385 - val_precision: 0.8037 - val_recall: 1.0000\n",
            "Epoch 6/10\n",
            "\u001b[1m1566/1566\u001b[0m \u001b[32m━━━━━━━━━━━━━━━━━━━━\u001b[0m\u001b[37m\u001b[0m \u001b[1m467s\u001b[0m 279ms/step - accuracy: 0.9945 - loss: 0.0153 - precision: 0.8625 - recall: 0.9977 - val_accuracy: 0.9951 - val_loss: 0.0132 - val_precision: 0.8763 - val_recall: 1.0000\n",
            "Epoch 7/10\n",
            "\u001b[1m1566/1566\u001b[0m \u001b[32m━━━━━━━━━━━━━━━━━━━━\u001b[0m\u001b[37m\u001b[0m \u001b[1m463s\u001b[0m 293ms/step - accuracy: 0.9944 - loss: 0.0162 - precision: 0.8595 - recall: 0.9983 - val_accuracy: 0.9946 - val_loss: 0.0245 - val_precision: 0.8640 - val_recall: 1.0000\n",
            "Epoch 8/10\n",
            "\u001b[1m1566/1566\u001b[0m \u001b[32m━━━━━━━━━━━━━━━━━━━━\u001b[0m\u001b[37m\u001b[0m \u001b[1m424s\u001b[0m 271ms/step - accuracy: 0.9963 - loss: 0.0121 - precision: 0.9041 - recall: 0.9988 - val_accuracy: 0.9943 - val_loss: 0.0125 - val_precision: 0.8588 - val_recall: 1.0000\n",
            "Epoch 9/10\n",
            "\u001b[1m1566/1566\u001b[0m \u001b[32m━━━━━━━━━━━━━━━━━━━━\u001b[0m\u001b[37m\u001b[0m \u001b[1m464s\u001b[0m 296ms/step - accuracy: 0.9949 - loss: 0.0203 - precision: 0.8740 - recall: 0.9955 - val_accuracy: 0.9984 - val_loss: 0.0049 - val_precision: 0.9568 - val_recall: 1.0000\n",
            "Epoch 10/10\n",
            "\u001b[1m1566/1566\u001b[0m \u001b[32m━━━━━━━━━━━━━━━━━━━━\u001b[0m\u001b[37m\u001b[0m \u001b[1m438s\u001b[0m 279ms/step - accuracy: 0.9966 - loss: 0.0097 - precision: 0.9112 - recall: 0.9988 - val_accuracy: 0.9996 - val_loss: 0.0010 - val_precision: 0.9931 - val_recall: 0.9965\n",
            "\n",
            "--- Step 6: Evaluating Model Performance ---\n",
            "\u001b[1m784/784\u001b[0m \u001b[32m━━━━━━━━━━━━━━━━━━━━\u001b[0m\u001b[37m\u001b[0m \u001b[1m55s\u001b[0m 70ms/step\n",
            "\n",
            "Classification Report:\n",
            "              precision    recall  f1-score   support\n",
            "\n",
            "           0       1.00      1.00      1.00     24193\n",
            "           1       0.99      1.00      0.99       864\n",
            "\n",
            "    accuracy                           1.00     25057\n",
            "   macro avg       1.00      1.00      1.00     25057\n",
            "weighted avg       1.00      1.00      1.00     25057\n",
            "\n",
            "\n",
            "Confusion Matrix:\n"
          ]
        },
        {
          "output_type": "display_data",
          "data": {
            "text/plain": [
              "<Figure size 640x480 with 2 Axes>"
            ],
            "image/png": "[encoded data removed]"
          },
          "metadata": {}
        }
      ]
    },
    {
      "cell_type": "code",
      "source": [
        "model.save('sequences.h5')"
      ],
      "metadata": {
        "colab": {
          "base_uri": "https://localhost:8080/"
        },
        "id": "X6ugn0IeULtf",
        "outputId": "29b78948-2209-4916-c137-d3b6eaa03fbf"
      },
      "execution_count": 11,
      "outputs": [
        {
          "output_type": "stream",
          "name": "stderr",
          "text": [
            "WARNING:absl:You are saving your model as an HDF5 file via `model.save()` or `keras.saving.save_model(model)`. This file format is considered legacy. We recommend using instead the native Keras format, e.g. `model.save('my_model.keras')` or `keras.saving.save_model(model, 'my_model.keras')`. \n"
          ]
        }
      ]
    },
    {
      "cell_type": "code",
      "source": [
        "MODEL_FILE = '/content/sequences.h5'\n",
        "SCALER_FILE = '/content/scaler.joblib'"
      ],
      "metadata": {
        "id": "fslejA2tUZgQ"
      },
      "execution_count": 12,
      "outputs": []
    },
    {
      "cell_type": "code",
      "source": [
        "TIMESTEPS_PER_HOUR = 60 // 10\n",
        "HOURS_PER_DAY = 24\n",
        "SEQUENCE_DAYS = 3\n",
        "SEQUENCE_TIMESTEPS = SEQUENCE_DAYS * HOURS_PER_DAY * TIMESTEPS_PER_HOUR\n",
        "N_FEATURES = 6 # The number of raw features"
      ],
      "metadata": {
        "id": "bGqFyClmUiXn"
      },
      "execution_count": 13,
      "outputs": []
    },
    {
      "cell_type": "code",
      "source": [
        "def generate_sample_sequence(is_failing=False):\n",
        "    \"\"\"\n",
        "    Generates a sample sequence of raw data for inference.\n",
        "    If is_failing is True, it simulates data from a degrading fridge.\n",
        "    \"\"\"\n",
        "    print(f\"\\nGenerating a sample {'FAILING' if is_failing else 'HEALTHY'} data sequence...\")\n",
        "    raw_data = []\n",
        "    timestamp = datetime.now(timezone.utc) - timedelta(minutes=SEQUENCE_TIMESTEPS * 10)\n",
        "    temp_setpoint = 4.0\n",
        "\n",
        "    for i in range(SEQUENCE_TIMESTEPS):\n",
        "        degradation_factor = 0.0\n",
        "        if is_failing:\n",
        "            # Simulate being in the last 3 days of a 60-day degradation period\n",
        "            degradation_factor = 1 - ((SEQUENCE_TIMESTEPS - i) / (DEGRADATION_PERIOD_DAYS * HOURS_PER_DAY * TIMESTEPS_PER_HOUR))\n",
        "            degradation_factor = max(0.5, degradation_factor) # Ensure degradation is significant\n",
        "\n",
        "        temp_current = temp_setpoint + random.uniform(-0.5, 0.5) + (degradation_factor * 2.5)\n",
        "        compressor_on = 1 if temp_current > temp_setpoint else 0\n",
        "        if random.random() < (degradation_factor * 0.3):\n",
        "            compressor_on = 1\n",
        "\n",
        "        raw_data.append({\n",
        "            \"temperature_current_c\": temp_current,\n",
        "            \"compressor_on\": compressor_on,\n",
        "            \"door_open\": 0,\n",
        "            \"energy_consumption_kwh\": (0.005 + degradation_factor * 0.005) if compressor_on else 0.0001,\n",
        "            \"voltage_v\": random.uniform(225.0, 245.0),\n",
        "            \"ambient_temp_c\": 22.5\n",
        "        })\n",
        "        timestamp += timedelta(minutes=10)\n",
        "\n",
        "    print(raw_data)\n",
        "\n",
        "    return raw_data\n",
        "\n",
        "def run_inference(raw_data_sequence):\n",
        "    \"\"\"\n",
        "    Loads the model and scaler, preprocesses the data, and returns a prediction.\n",
        "    \"\"\"\n",
        "    # --- 1. Load Model and Scaler ---\n",
        "    try:\n",
        "        model = keras.models.load_model(MODEL_FILE)\n",
        "        scaler = joblib.load(SCALER_FILE)\n",
        "    except Exception as e:\n",
        "        print(f\"Error loading model or scaler: {e}\")\n",
        "        return\n",
        "\n",
        "    # --- 2. Pre-process the Input Data ---\n",
        "    # Convert to DataFrame\n",
        "    df = pd.DataFrame(raw_data_sequence)\n",
        "    feature_columns = [\n",
        "        'temperature_current_c', 'compressor_on', 'door_open',\n",
        "        'energy_consumption_kwh', 'voltage_v', 'ambient_temp_c'\n",
        "    ]\n",
        "    df = df[feature_columns] # Ensure correct column order\n",
        "\n",
        "    # Scale the features using the loaded scaler\n",
        "    scaled_features = scaler.transform(df)\n",
        "\n",
        "    # Reshape into the 3D format the LSTM expects: (1, timesteps, features)\n",
        "    sequence = np.array([scaled_features])\n",
        "\n",
        "    if sequence.shape != (1, SEQUENCE_TIMESTEPS, N_FEATURES):\n",
        "        print(f\"Error: Input data has incorrect shape {sequence.shape}\")\n",
        "        return\n",
        "\n",
        "    # --- 3. Run Prediction ---\n",
        "    prediction_proba = model.predict(sequence)[0][0]\n",
        "\n",
        "    # --- 4. Display Results ---\n",
        "    risk_score = float(prediction_proba)\n",
        "    is_failure_imminent = bool(risk_score > 0.5)\n",
        "\n",
        "    print(\"\\n--- Inference Result ---\")\n",
        "    print(f\"Model Prediction: '{'Failure Imminent' if is_failure_imminent else 'Normal Operation'}'\")\n",
        "    print(f\"Failure Risk Score: {risk_score:.4f}\")\n",
        "    print(\"----------------------\")\n",
        "\n",
        "\n",
        "if __name__ == \"__main__\":\n",
        "    # --- Test with a HEALTHY sample ---\n",
        "    healthy_sequence = generate_sample_sequence(is_failing=False)\n",
        "    run_inference(healthy_sequence)\n",
        "\n",
        "    # --- Test with a FAILING sample ---\n",
        "    failing_sequence = generate_sample_sequence(is_failing=True)\n",
        "    run_inference(failing_sequence)"
      ],
      "metadata": {
        "colab": {
          "base_uri": "https://localhost:8080/"
        },
        "id": "GzTuyJohUn1e",
        "outputId": "ee997988-11bf-4ec1-dcfb-4def0543c2d6"
      },
      "execution_count": 17,
      "outputs": [
        {
          "output_type": "stream",
          "name": "stderr",
          "text": [
            "WARNING:absl:Compiled the loaded model, but the compiled metrics have yet to be built. `model.compile_metrics` will be empty until you train or evaluate the model.\n"
          ]
        },
        {
          "output_type": "stream",
          "name": "stdout",
          "text": [
            "\n",
            "Generating a sample HEALTHY data sequence...\n",
            "[{'temperature_current_c': 3.935697700386555, 'compressor_on': 0, 'door_open': 0, 'energy_consumption_kwh': 0.0001, 'voltage_v': 240.52033979085866, 'ambient_temp_c': 22.5}, {'temperature_current_c': 3.5844391964301754, 'compressor_on': 0, 'door_open': 0, 'energy_consumption_kwh': 0.0001, 'voltage_v': 233.9324772731791, 'ambient_temp_c': 22.5}, {'temperature_current_c': 3.8543762588356394, 'compressor_on': 0, 'door_open': 0, 'energy_consumption_kwh': 0.0001, 'voltage_v': 229.05184150443165, 'ambient_temp_c': 22.5}, {'temperature_current_c': 4.402098927842526, 'compressor_on': 1, 'door_open': 0, 'energy_consumption_kwh': 0.005, 'voltage_v': 234.9697306247503, 'ambient_temp_c': 22.5}, {'temperature_current_c': 4.103634172684014, 'compressor_on': 1, 'door_open': 0, 'energy_consumption_kwh': 0.005, 'voltage_v': 231.85065099845033, 'ambient_temp_c': 22.5}, {'temperature_current_c': 4.41879177168822, 'compressor_on': 1, 'door_open': 0, 'energy_consumption_kwh': 0.005, 'voltage_v': 229.7537110617785, 'ambient_temp_c': 22.5}, {'temperature_current_c': 3.7359368377073925, 'compressor_on': 0, 'door_open': 0, 'energy_consumption_kwh': 0.0001, 'voltage_v': 230.96619044215615, 'ambient_temp_c': 22.5}, {'temperature_current_c': 3.8520070688942383, 'compressor_on': 0, 'door_open': 0, 'energy_consumption_kwh': 0.0001, 'voltage_v': 229.40203146290997, 'ambient_temp_c': 22.5}, {'temperature_current_c': 4.36205090301849, 'compressor_on': 1, 'door_open': 0, 'energy_consumption_kwh': 0.005, 'voltage_v': 236.8115027691288, 'ambient_temp_c': 22.5}, {'temperature_current_c': 3.5522552685445348, 'compressor_on': 0, 'door_open': 0, 'energy_consumption_kwh': 0.0001, 'voltage_v': 232.18618928250592, 'ambient_temp_c': 22.5}, {'temperature_current_c': 4.276288444713595, 'compressor_on': 1, 'door_open': 0, 'energy_consumption_kwh': 0.005, 'voltage_v': 239.01260122938254, 'ambient_temp_c': 22.5}, {'temperature_current_c': 4.233170270486129, 'compressor_on': 1, 'door_open': 0, 'energy_consumption_kwh': 0.005, 'voltage_v': 244.5322966018575, 'ambient_temp_c': 22.5}, {'temperature_current_c': 4.46081965159128, 'compressor_on': 1, 'door_open': 0, 'energy_consumption_kwh': 0.005, 'voltage_v': 230.31224263479163, 'ambient_temp_c': 22.5}, {'temperature_current_c': 3.9529535297085805, 'compressor_on': 0, 'door_open': 0, 'energy_consumption_kwh': 0.0001, 'voltage_v': 232.9659644712167, 'ambient_temp_c': 22.5}, {'temperature_current_c': 4.068031684279736, 'compressor_on': 1, 'door_open': 0, 'energy_consumption_kwh': 0.005, 'voltage_v': 242.90291061517888, 'ambient_temp_c': 22.5}, {'temperature_current_c': 4.472774381222486, 'compressor_on': 1, 'door_open': 0, 'energy_consumption_kwh': 0.005, 'voltage_v': 225.87608118415716, 'ambient_temp_c': 22.5}, {'temperature_current_c': 3.8325886211702445, 'compressor_on': 0, 'door_open': 0, 'energy_consumption_kwh': 0.0001, 'voltage_v': 235.29760318545019, 'ambient_temp_c': 22.5}, {'temperature_current_c': 4.432184362414609, 'compressor_on': 1, 'door_open': 0, 'energy_consumption_kwh': 0.005, 'voltage_v': 237.8575462530262, 'ambient_temp_c': 22.5}, {'temperature_current_c': 4.0537428930615915, 'compressor_on': 1, 'door_open': 0, 'energy_consumption_kwh': 0.005, 'voltage_v': 241.07304126680197, 'ambient_temp_c': 22.5}, {'temperature_current_c': 3.669673628365201, 'compressor_on': 0, 'door_open': 0, 'energy_consumption_kwh': 0.0001, 'voltage_v': 228.96694066409813, 'ambient_temp_c': 22.5}, {'temperature_current_c': 3.5316992010488883, 'compressor_on': 0, 'door_open': 0, 'energy_consumption_kwh': 0.0001, 'voltage_v': 236.80471974383778, 'ambient_temp_c': 22.5}, {'temperature_current_c': 4.052587787077499, 'compressor_on': 1, 'door_open': 0, 'energy_consumption_kwh': 0.005, 'voltage_v': 225.08141305082702, 'ambient_temp_c': 22.5}, {'temperature_current_c': 3.8989889976342504, 'compressor_on': 0, 'door_open': 0, 'energy_consumption_kwh': 0.0001, 'voltage_v': 233.79060023023774, 'ambient_temp_c': 22.5}, {'temperature_current_c': 3.769959262867541, 'compressor_on': 0, 'door_open': 0, 'energy_consumption_kwh': 0.0001, 'voltage_v': 240.39404898825944, 'ambient_temp_c': 22.5}, {'temperature_current_c': 3.914565039463238, 'compressor_on': 0, 'door_open': 0, 'energy_consumption_kwh': 0.0001, 'voltage_v': 228.51454620588768, 'ambient_temp_c': 22.5}, {'temperature_current_c': 3.8675122658956034, 'compressor_on': 0, 'door_open': 0, 'energy_consumption_kwh': 0.0001, 'voltage_v': 226.9051947748634, 'ambient_temp_c': 22.5}, {'temperature_current_c': 4.168057178699853, 'compressor_on': 1, 'door_open': 0, 'energy_consumption_kwh': 0.005, 'voltage_v': 229.69671469939573, 'ambient_temp_c': 22.5}, {'temperature_current_c': 3.6275639616548156, 'compressor_on': 0, 'door_open': 0, 'energy_consumption_kwh': 0.0001, 'voltage_v': 233.53486130971498, 'ambient_temp_c': 22.5}, {'temperature_current_c': 3.8231539453205197, 'compressor_on': 0, 'door_open': 0, 'energy_consumption_kwh': 0.0001, 'voltage_v': 230.18421204627165, 'ambient_temp_c': 22.5}, {'temperature_current_c': 4.057244593776325, 'compressor_on': 1, 'door_open': 0, 'energy_consumption_kwh': 0.005, 'voltage_v': 242.11640989971528, 'ambient_temp_c': 22.5}, {'temperature_current_c': 3.7904204607582543, 'compressor_on': 0, 'door_open': 0, 'energy_consumption_kwh': 0.0001, 'voltage_v': 240.01697065457574, 'ambient_temp_c': 22.5}, {'temperature_current_c': 3.7152211662479644, 'compressor_on': 0, 'door_open': 0, 'energy_consumption_kwh': 0.0001, 'voltage_v': 237.61958295799022, 'ambient_temp_c': 22.5}, {'temperature_current_c': 3.758446817846873, 'compressor_on': 0, 'door_open': 0, 'energy_consumption_kwh': 0.0001, 'voltage_v': 230.06583407025656, 'ambient_temp_c': 22.5}, {'temperature_current_c': 4.103931381204278, 'compressor_on': 1, 'door_open': 0, 'energy_consumption_kwh': 0.005, 'voltage_v': 241.91604037908917, 'ambient_temp_c': 22.5}, {'temperature_current_c': 4.1485595470039565, 'compressor_on': 1, 'door_open': 0, 'energy_consumption_kwh': 0.005, 'voltage_v': 228.83592641324262, 'ambient_temp_c': 22.5}, {'temperature_current_c': 4.365340189238603, 'compressor_on': 1, 'door_open': 0, 'energy_consumption_kwh': 0.005, 'voltage_v': 235.16581896458155, 'ambient_temp_c': 22.5}, {'temperature_current_c': 3.8490896009703643, 'compressor_on': 0, 'door_open': 0, 'energy_consumption_kwh': 0.0001, 'voltage_v': 239.79138558663084, 'ambient_temp_c': 22.5}, {'temperature_current_c': 4.424121017195546, 'compressor_on': 1, 'door_open': 0, 'energy_consumption_kwh': 0.005, 'voltage_v': 233.30851371234002, 'ambient_temp_c': 22.5}, {'temperature_current_c': 4.366331721088764, 'compressor_on': 1, 'door_open': 0, 'energy_consumption_kwh': 0.005, 'voltage_v': 234.619180245978, 'ambient_temp_c': 22.5}, {'temperature_current_c': 4.08747072236706, 'compressor_on': 1, 'door_open': 0, 'energy_consumption_kwh': 0.005, 'voltage_v': 244.05114293447053, 'ambient_temp_c': 22.5}, {'temperature_current_c': 3.923015727235825, 'compressor_on': 0, 'door_open': 0, 'energy_consumption_kwh': 0.0001, 'voltage_v': 226.69011331617233, 'ambient_temp_c': 22.5}, {'temperature_current_c': 4.352873008914311, 'compressor_on': 1, 'door_open': 0, 'energy_consumption_kwh': 0.005, 'voltage_v': 228.80412881246286, 'ambient_temp_c': 22.5}, {'temperature_current_c': 4.371647638662937, 'compressor_on': 1, 'door_open': 0, 'energy_consumption_kwh': 0.005, 'voltage_v': 240.55655808296467, 'ambient_temp_c': 22.5}, {'temperature_current_c': 3.997928431231478, 'compressor_on': 0, 'door_open': 0, 'energy_consumption_kwh': 0.0001, 'voltage_v': 238.62043379881706, 'ambient_temp_c': 22.5}, {'temperature_current_c': 3.8518505589541148, 'compressor_on': 0, 'door_open': 0, 'energy_consumption_kwh': 0.0001, 'voltage_v': 243.97836850716428, 'ambient_temp_c': 22.5}, {'temperature_current_c': 3.8989614583441763, 'compressor_on': 0, 'door_open': 0, 'energy_consumption_kwh': 0.0001, 'voltage_v': 244.3529810800424, 'ambient_temp_c': 22.5}, {'temperature_current_c': 4.346393481394089, 'compressor_on': 1, 'door_open': 0, 'energy_consumption_kwh': 0.005, 'voltage_v': 243.9018386300372, 'ambient_temp_c': 22.5}, {'temperature_current_c': 3.502458711782364, 'compressor_on': 0, 'door_open': 0, 'energy_consumption_kwh': 0.0001, 'voltage_v': 238.10273898119502, 'ambient_temp_c': 22.5}, {'temperature_current_c': 4.301488041279214, 'compressor_on': 1, 'door_open': 0, 'energy_consumption_kwh': 0.005, 'voltage_v': 228.39793136043787, 'ambient_temp_c': 22.5}, {'temperature_current_c': 4.441321779188594, 'compressor_on': 1, 'door_open': 0, 'energy_consumption_kwh': 0.005, 'voltage_v': 229.1084119848757, 'ambient_temp_c': 22.5}, {'temperature_current_c': 4.348807169267822, 'compressor_on': 1, 'door_open': 0, 'energy_consumption_kwh': 0.005, 'voltage_v': 242.45935226047672, 'ambient_temp_c': 22.5}, {'temperature_current_c': 4.493735932491819, 'compressor_on': 1, 'door_open': 0, 'energy_consumption_kwh': 0.005, 'voltage_v': 237.73279554277204, 'ambient_temp_c': 22.5}, {'temperature_current_c': 4.295545656798323, 'compressor_on': 1, 'door_open': 0, 'energy_consumption_kwh': 0.005, 'voltage_v': 230.94358523940838, 'ambient_temp_c': 22.5}, {'temperature_current_c': 3.688526311495579, 'compressor_on': 0, 'door_open': 0, 'energy_consumption_kwh': 0.0001, 'voltage_v': 230.19450352369935, 'ambient_temp_c': 22.5}, {'temperature_current_c': 4.4026727506136805, 'compressor_on': 1, 'door_open': 0, 'energy_consumption_kwh': 0.005, 'voltage_v': 229.20460663955063, 'ambient_temp_c': 22.5}, {'temperature_current_c': 3.8161578018174636, 'compressor_on': 0, 'door_open': 0, 'energy_consumption_kwh': 0.0001, 'voltage_v': 243.24379447753682, 'ambient_temp_c': 22.5}, {'temperature_current_c': 4.216054185079661, 'compressor_on': 1, 'door_open': 0, 'energy_consumption_kwh': 0.005, 'voltage_v': 226.14662353442034, 'ambient_temp_c': 22.5}, {'temperature_current_c': 3.7546350082722477, 'compressor_on': 0, 'door_open': 0, 'energy_consumption_kwh': 0.0001, 'voltage_v': 235.89422143791185, 'ambient_temp_c': 22.5}, {'temperature_current_c': 4.3888869448976005, 'compressor_on': 1, 'door_open': 0, 'energy_consumption_kwh': 0.005, 'voltage_v': 227.26737918276336, 'ambient_temp_c': 22.5}, {'temperature_current_c': 3.5012808735195824, 'compressor_on': 0, 'door_open': 0, 'energy_consumption_kwh': 0.0001, 'voltage_v': 227.95445549098147, 'ambient_temp_c': 22.5}, {'temperature_current_c': 4.228691346262274, 'compressor_on': 1, 'door_open': 0, 'energy_consumption_kwh': 0.005, 'voltage_v': 243.66589349179492, 'ambient_temp_c': 22.5}, {'temperature_current_c': 3.5531160814460403, 'compressor_on': 0, 'door_open': 0, 'energy_consumption_kwh': 0.0001, 'voltage_v': 226.36235423099538, 'ambient_temp_c': 22.5}, {'temperature_current_c': 3.7040926877916935, 'compressor_on': 0, 'door_open': 0, 'energy_consumption_kwh': 0.0001, 'voltage_v': 232.1140856071607, 'ambient_temp_c': 22.5}, {'temperature_current_c': 4.264637149916496, 'compressor_on': 1, 'door_open': 0, 'energy_consumption_kwh': 0.005, 'voltage_v': 239.44022538152907, 'ambient_temp_c': 22.5}, {'temperature_current_c': 3.824129925961929, 'compressor_on': 0, 'door_open': 0, 'energy_consumption_kwh': 0.0001, 'voltage_v': 238.03561207155914, 'ambient_temp_c': 22.5}, {'temperature_current_c': 3.6732830364078195, 'compressor_on': 0, 'door_open': 0, 'energy_consumption_kwh': 0.0001, 'voltage_v': 244.60286015371813, 'ambient_temp_c': 22.5}, {'temperature_current_c': 3.741109001901795, 'compressor_on': 0, 'door_open': 0, 'energy_consumption_kwh': 0.0001, 'voltage_v': 225.51745590631586, 'ambient_temp_c': 22.5}, {'temperature_current_c': 4.235996843412826, 'compressor_on': 1, 'door_open': 0, 'energy_consumption_kwh': 0.005, 'voltage_v': 244.1040618633336, 'ambient_temp_c': 22.5}, {'temperature_current_c': 3.9514657304775094, 'compressor_on': 0, 'door_open': 0, 'energy_consumption_kwh': 0.0001, 'voltage_v': 232.6022703328541, 'ambient_temp_c': 22.5}, {'temperature_current_c': 3.611740244551067, 'compressor_on': 0, 'door_open': 0, 'energy_consumption_kwh': 0.0001, 'voltage_v': 236.20145441515706, 'ambient_temp_c': 22.5}, {'temperature_current_c': 3.7768349981703935, 'compressor_on': 0, 'door_open': 0, 'energy_consumption_kwh': 0.0001, 'voltage_v': 233.8643643479661, 'ambient_temp_c': 22.5}, {'temperature_current_c': 3.8679728243840077, 'compressor_on': 0, 'door_open': 0, 'energy_consumption_kwh': 0.0001, 'voltage_v': 226.40399624514447, 'ambient_temp_c': 22.5}, {'temperature_current_c': 3.79112944101692, 'compressor_on': 0, 'door_open': 0, 'energy_consumption_kwh': 0.0001, 'voltage_v': 232.77691874443929, 'ambient_temp_c': 22.5}, {'temperature_current_c': 3.5029059741237685, 'compressor_on': 0, 'door_open': 0, 'energy_consumption_kwh': 0.0001, 'voltage_v': 230.1069278110643, 'ambient_temp_c': 22.5}, {'temperature_current_c': 3.826218512128365, 'compressor_on': 0, 'door_open': 0, 'energy_consumption_kwh': 0.0001, 'voltage_v': 228.23828692702074, 'ambient_temp_c': 22.5}, {'temperature_current_c': 3.9727373358042, 'compressor_on': 0, 'door_open': 0, 'energy_consumption_kwh': 0.0001, 'voltage_v': 234.93347272993222, 'ambient_temp_c': 22.5}, {'temperature_current_c': 4.29005989867413, 'compressor_on': 1, 'door_open': 0, 'energy_consumption_kwh': 0.005, 'voltage_v': 238.5187754810243, 'ambient_temp_c': 22.5}, {'temperature_current_c': 3.7606004177807923, 'compressor_on': 0, 'door_open': 0, 'energy_consumption_kwh': 0.0001, 'voltage_v': 228.98445465304792, 'ambient_temp_c': 22.5}, {'temperature_current_c': 4.4277385909471185, 'compressor_on': 1, 'door_open': 0, 'energy_consumption_kwh': 0.005, 'voltage_v': 233.24152013170152, 'ambient_temp_c': 22.5}, {'temperature_current_c': 3.9426086965878073, 'compressor_on': 0, 'door_open': 0, 'energy_consumption_kwh': 0.0001, 'voltage_v': 233.26061677939393, 'ambient_temp_c': 22.5}, {'temperature_current_c': 4.474959684714014, 'compressor_on': 1, 'door_open': 0, 'energy_consumption_kwh': 0.005, 'voltage_v': 235.87971722470255, 'ambient_temp_c': 22.5}, {'temperature_current_c': 3.5853436411884796, 'compressor_on': 0, 'door_open': 0, 'energy_consumption_kwh': 0.0001, 'voltage_v': 235.09449721535242, 'ambient_temp_c': 22.5}, {'temperature_current_c': 3.7949997056360734, 'compressor_on': 0, 'door_open': 0, 'energy_consumption_kwh': 0.0001, 'voltage_v': 230.71282392916046, 'ambient_temp_c': 22.5}, {'temperature_current_c': 4.068579832239236, 'compressor_on': 1, 'door_open': 0, 'energy_consumption_kwh': 0.005, 'voltage_v': 225.84072675382723, 'ambient_temp_c': 22.5}, {'temperature_current_c': 4.289492929633706, 'compressor_on': 1, 'door_open': 0, 'energy_consumption_kwh': 0.005, 'voltage_v': 228.6089752640933, 'ambient_temp_c': 22.5}, {'temperature_current_c': 4.103254823798961, 'compressor_on': 1, 'door_open': 0, 'energy_consumption_kwh': 0.005, 'voltage_v': 230.75659351212474, 'ambient_temp_c': 22.5}, {'temperature_current_c': 3.7243073394050654, 'compressor_on': 0, 'door_open': 0, 'energy_consumption_kwh': 0.0001, 'voltage_v': 242.6222289521684, 'ambient_temp_c': 22.5}, {'temperature_current_c': 3.868256575936024, 'compressor_on': 0, 'door_open': 0, 'energy_consumption_kwh': 0.0001, 'voltage_v': 228.01091789249412, 'ambient_temp_c': 22.5}, {'temperature_current_c': 3.726319321115307, 'compressor_on': 0, 'door_open': 0, 'energy_consumption_kwh': 0.0001, 'voltage_v': 230.98762396683352, 'ambient_temp_c': 22.5}, {'temperature_current_c': 3.5548006790511084, 'compressor_on': 0, 'door_open': 0, 'energy_consumption_kwh': 0.0001, 'voltage_v': 225.38483536500726, 'ambient_temp_c': 22.5}, {'temperature_current_c': 3.725802309061774, 'compressor_on': 0, 'door_open': 0, 'energy_consumption_kwh': 0.0001, 'voltage_v': 233.38020962041273, 'ambient_temp_c': 22.5}, {'temperature_current_c': 4.332543871643476, 'compressor_on': 1, 'door_open': 0, 'energy_consumption_kwh': 0.005, 'voltage_v': 244.4458217716955, 'ambient_temp_c': 22.5}, {'temperature_current_c': 4.402256991277262, 'compressor_on': 1, 'door_open': 0, 'energy_consumption_kwh': 0.005, 'voltage_v': 229.02848718391965, 'ambient_temp_c': 22.5}, {'temperature_current_c': 4.430862550097287, 'compressor_on': 1, 'door_open': 0, 'energy_consumption_kwh': 0.005, 'voltage_v': 239.04929534828915, 'ambient_temp_c': 22.5}, {'temperature_current_c': 4.00453379827172, 'compressor_on': 1, 'door_open': 0, 'energy_consumption_kwh': 0.005, 'voltage_v': 243.19719357785394, 'ambient_temp_c': 22.5}, {'temperature_current_c': 3.951725299678988, 'compressor_on': 0, 'door_open': 0, 'energy_consumption_kwh': 0.0001, 'voltage_v': 231.01458731481523, 'ambient_temp_c': 22.5}, {'temperature_current_c': 4.448021521491648, 'compressor_on': 1, 'door_open': 0, 'energy_consumption_kwh': 0.005, 'voltage_v': 238.1210373504536, 'ambient_temp_c': 22.5}, {'temperature_current_c': 3.9771726755501127, 'compressor_on': 0, 'door_open': 0, 'energy_consumption_kwh': 0.0001, 'voltage_v': 229.72141787643744, 'ambient_temp_c': 22.5}, {'temperature_current_c': 3.562891614843426, 'compressor_on': 0, 'door_open': 0, 'energy_consumption_kwh': 0.0001, 'voltage_v': 235.68100137891255, 'ambient_temp_c': 22.5}, {'temperature_current_c': 3.893755449004955, 'compressor_on': 0, 'door_open': 0, 'energy_consumption_kwh': 0.0001, 'voltage_v': 227.02430631217885, 'ambient_temp_c': 22.5}, {'temperature_current_c': 3.9893688175469446, 'compressor_on': 0, 'door_open': 0, 'energy_consumption_kwh': 0.0001, 'voltage_v': 226.78158357897894, 'ambient_temp_c': 22.5}, {'temperature_current_c': 3.8041744459938025, 'compressor_on': 0, 'door_open': 0, 'energy_consumption_kwh': 0.0001, 'voltage_v': 241.76457786695593, 'ambient_temp_c': 22.5}, {'temperature_current_c': 4.414485471673984, 'compressor_on': 1, 'door_open': 0, 'energy_consumption_kwh': 0.005, 'voltage_v': 239.70787828652672, 'ambient_temp_c': 22.5}, {'temperature_current_c': 3.5046300040220397, 'compressor_on': 0, 'door_open': 0, 'energy_consumption_kwh': 0.0001, 'voltage_v': 225.99099783224352, 'ambient_temp_c': 22.5}, {'temperature_current_c': 3.519910710650353, 'compressor_on': 0, 'door_open': 0, 'energy_consumption_kwh': 0.0001, 'voltage_v': 241.1399414196146, 'ambient_temp_c': 22.5}, {'temperature_current_c': 4.014630520240434, 'compressor_on': 1, 'door_open': 0, 'energy_consumption_kwh': 0.005, 'voltage_v': 237.6103515503815, 'ambient_temp_c': 22.5}, {'temperature_current_c': 3.7147714171691537, 'compressor_on': 0, 'door_open': 0, 'energy_consumption_kwh': 0.0001, 'voltage_v': 242.89856671578582, 'ambient_temp_c': 22.5}, {'temperature_current_c': 4.422693938273503, 'compressor_on': 1, 'door_open': 0, 'energy_consumption_kwh': 0.005, 'voltage_v': 230.44244916827068, 'ambient_temp_c': 22.5}, {'temperature_current_c': 4.482735714519147, 'compressor_on': 1, 'door_open': 0, 'energy_consumption_kwh': 0.005, 'voltage_v': 229.81271834586613, 'ambient_temp_c': 22.5}, {'temperature_current_c': 4.1486296734243595, 'compressor_on': 1, 'door_open': 0, 'energy_consumption_kwh': 0.005, 'voltage_v': 243.3855370663506, 'ambient_temp_c': 22.5}, {'temperature_current_c': 3.916581483995697, 'compressor_on': 0, 'door_open': 0, 'energy_consumption_kwh': 0.0001, 'voltage_v': 235.9922152581518, 'ambient_temp_c': 22.5}, {'temperature_current_c': 3.5740960303199127, 'compressor_on': 0, 'door_open': 0, 'energy_consumption_kwh': 0.0001, 'voltage_v': 235.73515009491302, 'ambient_temp_c': 22.5}, {'temperature_current_c': 3.780048738546956, 'compressor_on': 0, 'door_open': 0, 'energy_consumption_kwh': 0.0001, 'voltage_v': 244.1230111956174, 'ambient_temp_c': 22.5}, {'temperature_current_c': 4.012673156255529, 'compressor_on': 1, 'door_open': 0, 'energy_consumption_kwh': 0.005, 'voltage_v': 238.62804787488741, 'ambient_temp_c': 22.5}, {'temperature_current_c': 3.7978873816465555, 'compressor_on': 0, 'door_open': 0, 'energy_consumption_kwh': 0.0001, 'voltage_v': 227.52170558460276, 'ambient_temp_c': 22.5}, {'temperature_current_c': 4.404395840419499, 'compressor_on': 1, 'door_open': 0, 'energy_consumption_kwh': 0.005, 'voltage_v': 241.04736766328432, 'ambient_temp_c': 22.5}, {'temperature_current_c': 4.382634373565393, 'compressor_on': 1, 'door_open': 0, 'energy_consumption_kwh': 0.005, 'voltage_v': 244.81835547306875, 'ambient_temp_c': 22.5}, {'temperature_current_c': 3.8073034414476368, 'compressor_on': 0, 'door_open': 0, 'energy_consumption_kwh': 0.0001, 'voltage_v': 243.2976601144029, 'ambient_temp_c': 22.5}, {'temperature_current_c': 4.397620609944328, 'compressor_on': 1, 'door_open': 0, 'energy_consumption_kwh': 0.005, 'voltage_v': 244.1301585194566, 'ambient_temp_c': 22.5}, {'temperature_current_c': 4.06176651852293, 'compressor_on': 1, 'door_open': 0, 'energy_consumption_kwh': 0.005, 'voltage_v': 241.80459768787316, 'ambient_temp_c': 22.5}, {'temperature_current_c': 4.447358463942687, 'compressor_on': 1, 'door_open': 0, 'energy_consumption_kwh': 0.005, 'voltage_v': 239.50291315314465, 'ambient_temp_c': 22.5}, {'temperature_current_c': 4.364227100520438, 'compressor_on': 1, 'door_open': 0, 'energy_consumption_kwh': 0.005, 'voltage_v': 234.1747455639399, 'ambient_temp_c': 22.5}, {'temperature_current_c': 4.456356109369987, 'compressor_on': 1, 'door_open': 0, 'energy_consumption_kwh': 0.005, 'voltage_v': 230.90895025658338, 'ambient_temp_c': 22.5}, {'temperature_current_c': 4.237869627349844, 'compressor_on': 1, 'door_open': 0, 'energy_consumption_kwh': 0.005, 'voltage_v': 240.46934006077512, 'ambient_temp_c': 22.5}, {'temperature_current_c': 4.05184010032487, 'compressor_on': 1, 'door_open': 0, 'energy_consumption_kwh': 0.005, 'voltage_v': 239.2685233584046, 'ambient_temp_c': 22.5}, {'temperature_current_c': 4.059348295438528, 'compressor_on': 1, 'door_open': 0, 'energy_consumption_kwh': 0.005, 'voltage_v': 232.55510157247153, 'ambient_temp_c': 22.5}, {'temperature_current_c': 3.5370393571033323, 'compressor_on': 0, 'door_open': 0, 'energy_consumption_kwh': 0.0001, 'voltage_v': 233.19276282138873, 'ambient_temp_c': 22.5}, {'temperature_current_c': 3.98147182251215, 'compressor_on': 0, 'door_open': 0, 'energy_consumption_kwh': 0.0001, 'voltage_v': 229.1357147858182, 'ambient_temp_c': 22.5}, {'temperature_current_c': 4.011101871871042, 'compressor_on': 1, 'door_open': 0, 'energy_consumption_kwh': 0.005, 'voltage_v': 237.37398367979347, 'ambient_temp_c': 22.5}, {'temperature_current_c': 4.33363497288858, 'compressor_on': 1, 'door_open': 0, 'energy_consumption_kwh': 0.005, 'voltage_v': 225.0209215625596, 'ambient_temp_c': 22.5}, {'temperature_current_c': 3.7253977364936146, 'compressor_on': 0, 'door_open': 0, 'energy_consumption_kwh': 0.0001, 'voltage_v': 234.02256209366033, 'ambient_temp_c': 22.5}, {'temperature_current_c': 3.681617919688534, 'compressor_on': 0, 'door_open': 0, 'energy_consumption_kwh': 0.0001, 'voltage_v': 240.37511352783733, 'ambient_temp_c': 22.5}, {'temperature_current_c': 4.238616944930744, 'compressor_on': 1, 'door_open': 0, 'energy_consumption_kwh': 0.005, 'voltage_v': 236.79393465331722, 'ambient_temp_c': 22.5}, {'temperature_current_c': 3.609162991978055, 'compressor_on': 0, 'door_open': 0, 'energy_consumption_kwh': 0.0001, 'voltage_v': 234.92385466622812, 'ambient_temp_c': 22.5}, {'temperature_current_c': 4.014987210355529, 'compressor_on': 1, 'door_open': 0, 'energy_consumption_kwh': 0.005, 'voltage_v': 243.42756724902682, 'ambient_temp_c': 22.5}, {'temperature_current_c': 4.006608968937486, 'compressor_on': 1, 'door_open': 0, 'energy_consumption_kwh': 0.005, 'voltage_v': 226.05058530651436, 'ambient_temp_c': 22.5}, {'temperature_current_c': 4.474067276335974, 'compressor_on': 1, 'door_open': 0, 'energy_consumption_kwh': 0.005, 'voltage_v': 231.4518391181996, 'ambient_temp_c': 22.5}, {'temperature_current_c': 4.484206464150591, 'compressor_on': 1, 'door_open': 0, 'energy_consumption_kwh': 0.005, 'voltage_v': 242.6842580773411, 'ambient_temp_c': 22.5}, {'temperature_current_c': 4.199282167274713, 'compressor_on': 1, 'door_open': 0, 'energy_consumption_kwh': 0.005, 'voltage_v': 233.3158834579586, 'ambient_temp_c': 22.5}, {'temperature_current_c': 4.341155979447838, 'compressor_on': 1, 'door_open': 0, 'energy_consumption_kwh': 0.005, 'voltage_v': 233.3513684625469, 'ambient_temp_c': 22.5}, {'temperature_current_c': 3.951080722076428, 'compressor_on': 0, 'door_open': 0, 'energy_consumption_kwh': 0.0001, 'voltage_v': 233.14420097878167, 'ambient_temp_c': 22.5}, {'temperature_current_c': 3.6769557378772895, 'compressor_on': 0, 'door_open': 0, 'energy_consumption_kwh': 0.0001, 'voltage_v': 241.29286438925521, 'ambient_temp_c': 22.5}, {'temperature_current_c': 4.006304060047426, 'compressor_on': 1, 'door_open': 0, 'energy_consumption_kwh': 0.005, 'voltage_v': 233.05444961500424, 'ambient_temp_c': 22.5}, {'temperature_current_c': 3.5867527892052973, 'compressor_on': 0, 'door_open': 0, 'energy_consumption_kwh': 0.0001, 'voltage_v': 231.03879352850421, 'ambient_temp_c': 22.5}, {'temperature_current_c': 4.015241988910331, 'compressor_on': 1, 'door_open': 0, 'energy_consumption_kwh': 0.005, 'voltage_v': 225.10262295470423, 'ambient_temp_c': 22.5}, {'temperature_current_c': 3.5663141784948427, 'compressor_on': 0, 'door_open': 0, 'energy_consumption_kwh': 0.0001, 'voltage_v': 240.0905510247816, 'ambient_temp_c': 22.5}, {'temperature_current_c': 4.431459658490206, 'compressor_on': 1, 'door_open': 0, 'energy_consumption_kwh': 0.005, 'voltage_v': 236.47649256304933, 'ambient_temp_c': 22.5}, {'temperature_current_c': 3.9896073196555024, 'compressor_on': 0, 'door_open': 0, 'energy_consumption_kwh': 0.0001, 'voltage_v': 243.28256751272136, 'ambient_temp_c': 22.5}, {'temperature_current_c': 3.699352840453111, 'compressor_on': 0, 'door_open': 0, 'energy_consumption_kwh': 0.0001, 'voltage_v': 228.11453021052182, 'ambient_temp_c': 22.5}, {'temperature_current_c': 3.9782925559231614, 'compressor_on': 0, 'door_open': 0, 'energy_consumption_kwh': 0.0001, 'voltage_v': 225.20882370355568, 'ambient_temp_c': 22.5}, {'temperature_current_c': 4.282609333833719, 'compressor_on': 1, 'door_open': 0, 'energy_consumption_kwh': 0.005, 'voltage_v': 238.74546401009363, 'ambient_temp_c': 22.5}, {'temperature_current_c': 3.744837296033609, 'compressor_on': 0, 'door_open': 0, 'energy_consumption_kwh': 0.0001, 'voltage_v': 228.3552452349332, 'ambient_temp_c': 22.5}, {'temperature_current_c': 4.209178429581341, 'compressor_on': 1, 'door_open': 0, 'energy_consumption_kwh': 0.005, 'voltage_v': 236.14694789025341, 'ambient_temp_c': 22.5}, {'temperature_current_c': 4.193890253785583, 'compressor_on': 1, 'door_open': 0, 'energy_consumption_kwh': 0.005, 'voltage_v': 237.60533215816298, 'ambient_temp_c': 22.5}, {'temperature_current_c': 4.2798135244769595, 'compressor_on': 1, 'door_open': 0, 'energy_consumption_kwh': 0.005, 'voltage_v': 226.78566384216367, 'ambient_temp_c': 22.5}, {'temperature_current_c': 4.0738453899340055, 'compressor_on': 1, 'door_open': 0, 'energy_consumption_kwh': 0.005, 'voltage_v': 238.0071219230052, 'ambient_temp_c': 22.5}, {'temperature_current_c': 4.442793144895717, 'compressor_on': 1, 'door_open': 0, 'energy_consumption_kwh': 0.005, 'voltage_v': 240.85013948242602, 'ambient_temp_c': 22.5}, {'temperature_current_c': 3.8820806522389386, 'compressor_on': 0, 'door_open': 0, 'energy_consumption_kwh': 0.0001, 'voltage_v': 242.02916883288893, 'ambient_temp_c': 22.5}, {'temperature_current_c': 3.5771434189140465, 'compressor_on': 0, 'door_open': 0, 'energy_consumption_kwh': 0.0001, 'voltage_v': 240.53735023542816, 'ambient_temp_c': 22.5}, {'temperature_current_c': 3.605520501334653, 'compressor_on': 0, 'door_open': 0, 'energy_consumption_kwh': 0.0001, 'voltage_v': 228.566611955565, 'ambient_temp_c': 22.5}, {'temperature_current_c': 3.5239019937198055, 'compressor_on': 0, 'door_open': 0, 'energy_consumption_kwh': 0.0001, 'voltage_v': 229.4944180043991, 'ambient_temp_c': 22.5}, {'temperature_current_c': 4.0893491084973075, 'compressor_on': 1, 'door_open': 0, 'energy_consumption_kwh': 0.005, 'voltage_v': 231.74794347777075, 'ambient_temp_c': 22.5}, {'temperature_current_c': 3.768884955833555, 'compressor_on': 0, 'door_open': 0, 'energy_consumption_kwh': 0.0001, 'voltage_v': 239.62107813492548, 'ambient_temp_c': 22.5}, {'temperature_current_c': 4.017749929655193, 'compressor_on': 1, 'door_open': 0, 'energy_consumption_kwh': 0.005, 'voltage_v': 243.4429637291089, 'ambient_temp_c': 22.5}, {'temperature_current_c': 4.192457084658813, 'compressor_on': 1, 'door_open': 0, 'energy_consumption_kwh': 0.005, 'voltage_v': 238.9132591088941, 'ambient_temp_c': 22.5}, {'temperature_current_c': 3.687181887882875, 'compressor_on': 0, 'door_open': 0, 'energy_consumption_kwh': 0.0001, 'voltage_v': 237.47614856726355, 'ambient_temp_c': 22.5}, {'temperature_current_c': 3.992077546025104, 'compressor_on': 0, 'door_open': 0, 'energy_consumption_kwh': 0.0001, 'voltage_v': 237.72175794606392, 'ambient_temp_c': 22.5}, {'temperature_current_c': 3.5975596630722166, 'compressor_on': 0, 'door_open': 0, 'energy_consumption_kwh': 0.0001, 'voltage_v': 225.2321012503264, 'ambient_temp_c': 22.5}, {'temperature_current_c': 3.8164076348837095, 'compressor_on': 0, 'door_open': 0, 'energy_consumption_kwh': 0.0001, 'voltage_v': 242.19140205787858, 'ambient_temp_c': 22.5}, {'temperature_current_c': 3.9866103154105064, 'compressor_on': 0, 'door_open': 0, 'energy_consumption_kwh': 0.0001, 'voltage_v': 233.89368160040604, 'ambient_temp_c': 22.5}, {'temperature_current_c': 4.0758598750991775, 'compressor_on': 1, 'door_open': 0, 'energy_consumption_kwh': 0.005, 'voltage_v': 235.20602020380298, 'ambient_temp_c': 22.5}, {'temperature_current_c': 4.168472368814762, 'compressor_on': 1, 'door_open': 0, 'energy_consumption_kwh': 0.005, 'voltage_v': 225.83953018575056, 'ambient_temp_c': 22.5}, {'temperature_current_c': 3.9088048254402796, 'compressor_on': 0, 'door_open': 0, 'energy_consumption_kwh': 0.0001, 'voltage_v': 242.61379375077237, 'ambient_temp_c': 22.5}, {'temperature_current_c': 3.7908812447726437, 'compressor_on': 0, 'door_open': 0, 'energy_consumption_kwh': 0.0001, 'voltage_v': 234.5867430650776, 'ambient_temp_c': 22.5}, {'temperature_current_c': 4.120649214658668, 'compressor_on': 1, 'door_open': 0, 'energy_consumption_kwh': 0.005, 'voltage_v': 234.215990783265, 'ambient_temp_c': 22.5}, {'temperature_current_c': 4.214831843874944, 'compressor_on': 1, 'door_open': 0, 'energy_consumption_kwh': 0.005, 'voltage_v': 226.73951101786815, 'ambient_temp_c': 22.5}, {'temperature_current_c': 4.479897429531995, 'compressor_on': 1, 'door_open': 0, 'energy_consumption_kwh': 0.005, 'voltage_v': 243.67130663877958, 'ambient_temp_c': 22.5}, {'temperature_current_c': 4.191359099384407, 'compressor_on': 1, 'door_open': 0, 'energy_consumption_kwh': 0.005, 'voltage_v': 231.5120301305509, 'ambient_temp_c': 22.5}, {'temperature_current_c': 4.334415571735647, 'compressor_on': 1, 'door_open': 0, 'energy_consumption_kwh': 0.005, 'voltage_v': 243.47846466830453, 'ambient_temp_c': 22.5}, {'temperature_current_c': 3.7767712300224634, 'compressor_on': 0, 'door_open': 0, 'energy_consumption_kwh': 0.0001, 'voltage_v': 230.15352428523087, 'ambient_temp_c': 22.5}, {'temperature_current_c': 4.058407632599511, 'compressor_on': 1, 'door_open': 0, 'energy_consumption_kwh': 0.005, 'voltage_v': 238.15337106972814, 'ambient_temp_c': 22.5}, {'temperature_current_c': 4.295603356432272, 'compressor_on': 1, 'door_open': 0, 'energy_consumption_kwh': 0.005, 'voltage_v': 232.49658153699906, 'ambient_temp_c': 22.5}, {'temperature_current_c': 4.483140883798466, 'compressor_on': 1, 'door_open': 0, 'energy_consumption_kwh': 0.005, 'voltage_v': 231.83828463187626, 'ambient_temp_c': 22.5}, {'temperature_current_c': 3.823290433295821, 'compressor_on': 0, 'door_open': 0, 'energy_consumption_kwh': 0.0001, 'voltage_v': 240.68933413529516, 'ambient_temp_c': 22.5}, {'temperature_current_c': 3.5695359968097797, 'compressor_on': 0, 'door_open': 0, 'energy_consumption_kwh': 0.0001, 'voltage_v': 236.62992647267154, 'ambient_temp_c': 22.5}, {'temperature_current_c': 3.9546895105944095, 'compressor_on': 0, 'door_open': 0, 'energy_consumption_kwh': 0.0001, 'voltage_v': 228.94041377400103, 'ambient_temp_c': 22.5}, {'temperature_current_c': 4.116416911201091, 'compressor_on': 1, 'door_open': 0, 'energy_consumption_kwh': 0.005, 'voltage_v': 243.86666554902672, 'ambient_temp_c': 22.5}, {'temperature_current_c': 3.539901331318003, 'compressor_on': 0, 'door_open': 0, 'energy_consumption_kwh': 0.0001, 'voltage_v': 232.2729721765574, 'ambient_temp_c': 22.5}, {'temperature_current_c': 4.025321242160624, 'compressor_on': 1, 'door_open': 0, 'energy_consumption_kwh': 0.005, 'voltage_v': 231.4017725484319, 'ambient_temp_c': 22.5}, {'temperature_current_c': 4.249453544837403, 'compressor_on': 1, 'door_open': 0, 'energy_consumption_kwh': 0.005, 'voltage_v': 243.79298434934626, 'ambient_temp_c': 22.5}, {'temperature_current_c': 3.572384474579529, 'compressor_on': 0, 'door_open': 0, 'energy_consumption_kwh': 0.0001, 'voltage_v': 233.02206791615754, 'ambient_temp_c': 22.5}, {'temperature_current_c': 4.44231423179091, 'compressor_on': 1, 'door_open': 0, 'energy_consumption_kwh': 0.005, 'voltage_v': 229.37844201489548, 'ambient_temp_c': 22.5}, {'temperature_current_c': 3.929821829890858, 'compressor_on': 0, 'door_open': 0, 'energy_consumption_kwh': 0.0001, 'voltage_v': 227.6124397478305, 'ambient_temp_c': 22.5}, {'temperature_current_c': 4.414181608994715, 'compressor_on': 1, 'door_open': 0, 'energy_consumption_kwh': 0.005, 'voltage_v': 225.4559717705301, 'ambient_temp_c': 22.5}, {'temperature_current_c': 3.5637238530265574, 'compressor_on': 0, 'door_open': 0, 'energy_consumption_kwh': 0.0001, 'voltage_v': 229.51342201235946, 'ambient_temp_c': 22.5}, {'temperature_current_c': 4.063810748266633, 'compressor_on': 1, 'door_open': 0, 'energy_consumption_kwh': 0.005, 'voltage_v': 236.09185545645914, 'ambient_temp_c': 22.5}, {'temperature_current_c': 4.269456709796287, 'compressor_on': 1, 'door_open': 0, 'energy_consumption_kwh': 0.005, 'voltage_v': 244.54970542081418, 'ambient_temp_c': 22.5}, {'temperature_current_c': 3.6506843428247144, 'compressor_on': 0, 'door_open': 0, 'energy_consumption_kwh': 0.0001, 'voltage_v': 233.67766546284682, 'ambient_temp_c': 22.5}, {'temperature_current_c': 3.70518635716579, 'compressor_on': 0, 'door_open': 0, 'energy_consumption_kwh': 0.0001, 'voltage_v': 225.33023324256754, 'ambient_temp_c': 22.5}, {'temperature_current_c': 4.179956928912703, 'compressor_on': 1, 'door_open': 0, 'energy_consumption_kwh': 0.005, 'voltage_v': 234.60675487479173, 'ambient_temp_c': 22.5}, {'temperature_current_c': 3.525892849939506, 'compressor_on': 0, 'door_open': 0, 'energy_consumption_kwh': 0.0001, 'voltage_v': 233.44214712342767, 'ambient_temp_c': 22.5}, {'temperature_current_c': 3.7972782021409146, 'compressor_on': 0, 'door_open': 0, 'energy_consumption_kwh': 0.0001, 'voltage_v': 230.13087567740925, 'ambient_temp_c': 22.5}, {'temperature_current_c': 3.8156195960567496, 'compressor_on': 0, 'door_open': 0, 'energy_consumption_kwh': 0.0001, 'voltage_v': 235.26708761076864, 'ambient_temp_c': 22.5}, {'temperature_current_c': 4.456809843468432, 'compressor_on': 1, 'door_open': 0, 'energy_consumption_kwh': 0.005, 'voltage_v': 240.81346912137633, 'ambient_temp_c': 22.5}, {'temperature_current_c': 4.181835055143749, 'compressor_on': 1, 'door_open': 0, 'energy_consumption_kwh': 0.005, 'voltage_v': 231.6652296718372, 'ambient_temp_c': 22.5}, {'temperature_current_c': 4.412820981956189, 'compressor_on': 1, 'door_open': 0, 'energy_consumption_kwh': 0.005, 'voltage_v': 231.24922126344453, 'ambient_temp_c': 22.5}, {'temperature_current_c': 4.345601129037142, 'compressor_on': 1, 'door_open': 0, 'energy_consumption_kwh': 0.005, 'voltage_v': 236.74804974343695, 'ambient_temp_c': 22.5}, {'temperature_current_c': 4.28100126182928, 'compressor_on': 1, 'door_open': 0, 'energy_consumption_kwh': 0.005, 'voltage_v': 237.05144820823222, 'ambient_temp_c': 22.5}, {'temperature_current_c': 4.397098144245869, 'compressor_on': 1, 'door_open': 0, 'energy_consumption_kwh': 0.005, 'voltage_v': 237.64122657399182, 'ambient_temp_c': 22.5}, {'temperature_current_c': 4.167499190794995, 'compressor_on': 1, 'door_open': 0, 'energy_consumption_kwh': 0.005, 'voltage_v': 239.59446276647753, 'ambient_temp_c': 22.5}, {'temperature_current_c': 3.6138712328268943, 'compressor_on': 0, 'door_open': 0, 'energy_consumption_kwh': 0.0001, 'voltage_v': 232.57101514646416, 'ambient_temp_c': 22.5}, {'temperature_current_c': 3.5264509485882045, 'compressor_on': 0, 'door_open': 0, 'energy_consumption_kwh': 0.0001, 'voltage_v': 225.11937605257398, 'ambient_temp_c': 22.5}, {'temperature_current_c': 3.642557557191435, 'compressor_on': 0, 'door_open': 0, 'energy_consumption_kwh': 0.0001, 'voltage_v': 237.57373643964502, 'ambient_temp_c': 22.5}, {'temperature_current_c': 3.580788075067069, 'compressor_on': 0, 'door_open': 0, 'energy_consumption_kwh': 0.0001, 'voltage_v': 239.11931502491674, 'ambient_temp_c': 22.5}, {'temperature_current_c': 3.5953847697363956, 'compressor_on': 0, 'door_open': 0, 'energy_consumption_kwh': 0.0001, 'voltage_v': 225.4837867642671, 'ambient_temp_c': 22.5}, {'temperature_current_c': 3.7589632677514855, 'compressor_on': 0, 'door_open': 0, 'energy_consumption_kwh': 0.0001, 'voltage_v': 237.03436227557054, 'ambient_temp_c': 22.5}, {'temperature_current_c': 4.306160542715951, 'compressor_on': 1, 'door_open': 0, 'energy_consumption_kwh': 0.005, 'voltage_v': 229.60327518860865, 'ambient_temp_c': 22.5}, {'temperature_current_c': 4.056171032052928, 'compressor_on': 1, 'door_open': 0, 'energy_consumption_kwh': 0.005, 'voltage_v': 240.58276074626158, 'ambient_temp_c': 22.5}, {'temperature_current_c': 3.510632734580433, 'compressor_on': 0, 'door_open': 0, 'energy_consumption_kwh': 0.0001, 'voltage_v': 242.35254766600755, 'ambient_temp_c': 22.5}, {'temperature_current_c': 3.938827684744059, 'compressor_on': 0, 'door_open': 0, 'energy_consumption_kwh': 0.0001, 'voltage_v': 237.25631617049115, 'ambient_temp_c': 22.5}, {'temperature_current_c': 3.5351595470856103, 'compressor_on': 0, 'door_open': 0, 'energy_consumption_kwh': 0.0001, 'voltage_v': 232.0494295881604, 'ambient_temp_c': 22.5}, {'temperature_current_c': 3.78481469299772, 'compressor_on': 0, 'door_open': 0, 'energy_consumption_kwh': 0.0001, 'voltage_v': 243.28098048678473, 'ambient_temp_c': 22.5}, {'temperature_current_c': 3.9545199137067817, 'compressor_on': 0, 'door_open': 0, 'energy_consumption_kwh': 0.0001, 'voltage_v': 244.2159768849386, 'ambient_temp_c': 22.5}, {'temperature_current_c': 4.155387237896817, 'compressor_on': 1, 'door_open': 0, 'energy_consumption_kwh': 0.005, 'voltage_v': 225.97631391841804, 'ambient_temp_c': 22.5}, {'temperature_current_c': 3.976287192022979, 'compressor_on': 0, 'door_open': 0, 'energy_consumption_kwh': 0.0001, 'voltage_v': 244.69787202144414, 'ambient_temp_c': 22.5}, {'temperature_current_c': 4.030618828709702, 'compressor_on': 1, 'door_open': 0, 'energy_consumption_kwh': 0.005, 'voltage_v': 239.7912813268534, 'ambient_temp_c': 22.5}, {'temperature_current_c': 3.8667102115621126, 'compressor_on': 0, 'door_open': 0, 'energy_consumption_kwh': 0.0001, 'voltage_v': 236.5760599250683, 'ambient_temp_c': 22.5}, {'temperature_current_c': 3.8532874195408695, 'compressor_on': 0, 'door_open': 0, 'energy_consumption_kwh': 0.0001, 'voltage_v': 228.74015832918573, 'ambient_temp_c': 22.5}, {'temperature_current_c': 4.077439136572878, 'compressor_on': 1, 'door_open': 0, 'energy_consumption_kwh': 0.005, 'voltage_v': 230.0517258818328, 'ambient_temp_c': 22.5}, {'temperature_current_c': 3.997263213159763, 'compressor_on': 0, 'door_open': 0, 'energy_consumption_kwh': 0.0001, 'voltage_v': 241.2951709300294, 'ambient_temp_c': 22.5}, {'temperature_current_c': 3.536223518626712, 'compressor_on': 0, 'door_open': 0, 'energy_consumption_kwh': 0.0001, 'voltage_v': 236.9993754551118, 'ambient_temp_c': 22.5}, {'temperature_current_c': 4.367088974685043, 'compressor_on': 1, 'door_open': 0, 'energy_consumption_kwh': 0.005, 'voltage_v': 227.75747918320778, 'ambient_temp_c': 22.5}, {'temperature_current_c': 3.7308119812002825, 'compressor_on': 0, 'door_open': 0, 'energy_consumption_kwh': 0.0001, 'voltage_v': 230.33816237624495, 'ambient_temp_c': 22.5}, {'temperature_current_c': 3.8386442315576894, 'compressor_on': 0, 'door_open': 0, 'energy_consumption_kwh': 0.0001, 'voltage_v': 229.83383272361596, 'ambient_temp_c': 22.5}, {'temperature_current_c': 4.282628053904828, 'compressor_on': 1, 'door_open': 0, 'energy_consumption_kwh': 0.005, 'voltage_v': 230.22787247780016, 'ambient_temp_c': 22.5}, {'temperature_current_c': 4.0197002132110775, 'compressor_on': 1, 'door_open': 0, 'energy_consumption_kwh': 0.005, 'voltage_v': 239.0684004780464, 'ambient_temp_c': 22.5}, {'temperature_current_c': 3.696238104064525, 'compressor_on': 0, 'door_open': 0, 'energy_consumption_kwh': 0.0001, 'voltage_v': 230.0831087624834, 'ambient_temp_c': 22.5}, {'temperature_current_c': 3.9294283794522284, 'compressor_on': 0, 'door_open': 0, 'energy_consumption_kwh': 0.0001, 'voltage_v': 238.1257304903457, 'ambient_temp_c': 22.5}, {'temperature_current_c': 4.155096931466098, 'compressor_on': 1, 'door_open': 0, 'energy_consumption_kwh': 0.005, 'voltage_v': 225.4549729082095, 'ambient_temp_c': 22.5}, {'temperature_current_c': 3.6380429955379796, 'compressor_on': 0, 'door_open': 0, 'energy_consumption_kwh': 0.0001, 'voltage_v': 237.68773679120193, 'ambient_temp_c': 22.5}, {'temperature_current_c': 3.919878139167723, 'compressor_on': 0, 'door_open': 0, 'energy_consumption_kwh': 0.0001, 'voltage_v': 242.7928296274722, 'ambient_temp_c': 22.5}, {'temperature_current_c': 3.98876068530443, 'compressor_on': 0, 'door_open': 0, 'energy_consumption_kwh': 0.0001, 'voltage_v': 235.1140906922936, 'ambient_temp_c': 22.5}, {'temperature_current_c': 3.619973678670807, 'compressor_on': 0, 'door_open': 0, 'energy_consumption_kwh': 0.0001, 'voltage_v': 243.83245776581518, 'ambient_temp_c': 22.5}, {'temperature_current_c': 4.446651114094796, 'compressor_on': 1, 'door_open': 0, 'energy_consumption_kwh': 0.005, 'voltage_v': 239.66709054891777, 'ambient_temp_c': 22.5}, {'temperature_current_c': 3.5969737797285615, 'compressor_on': 0, 'door_open': 0, 'energy_consumption_kwh': 0.0001, 'voltage_v': 227.29575673121343, 'ambient_temp_c': 22.5}, {'temperature_current_c': 4.373023399437945, 'compressor_on': 1, 'door_open': 0, 'energy_consumption_kwh': 0.005, 'voltage_v': 236.93984165892383, 'ambient_temp_c': 22.5}, {'temperature_current_c': 4.0386171745629085, 'compressor_on': 1, 'door_open': 0, 'energy_consumption_kwh': 0.005, 'voltage_v': 241.15656666548819, 'ambient_temp_c': 22.5}, {'temperature_current_c': 4.1709003039153005, 'compressor_on': 1, 'door_open': 0, 'energy_consumption_kwh': 0.005, 'voltage_v': 234.58687756071868, 'ambient_temp_c': 22.5}, {'temperature_current_c': 3.581389190064385, 'compressor_on': 0, 'door_open': 0, 'energy_consumption_kwh': 0.0001, 'voltage_v': 229.4109587094004, 'ambient_temp_c': 22.5}, {'temperature_current_c': 4.353008177528518, 'compressor_on': 1, 'door_open': 0, 'energy_consumption_kwh': 0.005, 'voltage_v': 230.6108475168359, 'ambient_temp_c': 22.5}, {'temperature_current_c': 4.083053895732914, 'compressor_on': 1, 'door_open': 0, 'energy_consumption_kwh': 0.005, 'voltage_v': 228.1982728897493, 'ambient_temp_c': 22.5}, {'temperature_current_c': 4.480384681005722, 'compressor_on': 1, 'door_open': 0, 'energy_consumption_kwh': 0.005, 'voltage_v': 239.58899926211913, 'ambient_temp_c': 22.5}, {'temperature_current_c': 3.855919085340452, 'compressor_on': 0, 'door_open': 0, 'energy_consumption_kwh': 0.0001, 'voltage_v': 227.68838905736771, 'ambient_temp_c': 22.5}, {'temperature_current_c': 4.041003586054793, 'compressor_on': 1, 'door_open': 0, 'energy_consumption_kwh': 0.005, 'voltage_v': 239.30453519684198, 'ambient_temp_c': 22.5}, {'temperature_current_c': 4.267572994458539, 'compressor_on': 1, 'door_open': 0, 'energy_consumption_kwh': 0.005, 'voltage_v': 244.2763614008103, 'ambient_temp_c': 22.5}, {'temperature_current_c': 4.17068285906053, 'compressor_on': 1, 'door_open': 0, 'energy_consumption_kwh': 0.005, 'voltage_v': 238.66045295894628, 'ambient_temp_c': 22.5}, {'temperature_current_c': 4.48796374303246, 'compressor_on': 1, 'door_open': 0, 'energy_consumption_kwh': 0.005, 'voltage_v': 240.44124787125978, 'ambient_temp_c': 22.5}, {'temperature_current_c': 3.7907455664017, 'compressor_on': 0, 'door_open': 0, 'energy_consumption_kwh': 0.0001, 'voltage_v': 230.83265558771262, 'ambient_temp_c': 22.5}, {'temperature_current_c': 3.5459827454124375, 'compressor_on': 0, 'door_open': 0, 'energy_consumption_kwh': 0.0001, 'voltage_v': 239.40615829856233, 'ambient_temp_c': 22.5}, {'temperature_current_c': 4.397827833259809, 'compressor_on': 1, 'door_open': 0, 'energy_consumption_kwh': 0.005, 'voltage_v': 244.5671957760556, 'ambient_temp_c': 22.5}, {'temperature_current_c': 4.114587017497843, 'compressor_on': 1, 'door_open': 0, 'energy_consumption_kwh': 0.005, 'voltage_v': 232.73386303790346, 'ambient_temp_c': 22.5}, {'temperature_current_c': 4.1212259179461865, 'compressor_on': 1, 'door_open': 0, 'energy_consumption_kwh': 0.005, 'voltage_v': 241.8073303084014, 'ambient_temp_c': 22.5}, {'temperature_current_c': 3.7007744708911248, 'compressor_on': 0, 'door_open': 0, 'energy_consumption_kwh': 0.0001, 'voltage_v': 228.6282365304506, 'ambient_temp_c': 22.5}, {'temperature_current_c': 4.133208324127865, 'compressor_on': 1, 'door_open': 0, 'energy_consumption_kwh': 0.005, 'voltage_v': 231.92315759789327, 'ambient_temp_c': 22.5}, {'temperature_current_c': 4.070582214754035, 'compressor_on': 1, 'door_open': 0, 'energy_consumption_kwh': 0.005, 'voltage_v': 239.29813205048322, 'ambient_temp_c': 22.5}, {'temperature_current_c': 3.601933638936217, 'compressor_on': 0, 'door_open': 0, 'energy_consumption_kwh': 0.0001, 'voltage_v': 243.9352036910038, 'ambient_temp_c': 22.5}, {'temperature_current_c': 3.844287743126184, 'compressor_on': 0, 'door_open': 0, 'energy_consumption_kwh': 0.0001, 'voltage_v': 237.84782181687552, 'ambient_temp_c': 22.5}, {'temperature_current_c': 4.200586932685098, 'compressor_on': 1, 'door_open': 0, 'energy_consumption_kwh': 0.005, 'voltage_v': 226.8670546164806, 'ambient_temp_c': 22.5}, {'temperature_current_c': 3.65337505991291, 'compressor_on': 0, 'door_open': 0, 'energy_consumption_kwh': 0.0001, 'voltage_v': 240.6570544898764, 'ambient_temp_c': 22.5}, {'temperature_current_c': 4.094159181038358, 'compressor_on': 1, 'door_open': 0, 'energy_consumption_kwh': 0.005, 'voltage_v': 239.92793955172166, 'ambient_temp_c': 22.5}, {'temperature_current_c': 3.656207984320523, 'compressor_on': 0, 'door_open': 0, 'energy_consumption_kwh': 0.0001, 'voltage_v': 228.55598810406008, 'ambient_temp_c': 22.5}, {'temperature_current_c': 3.803267330944584, 'compressor_on': 0, 'door_open': 0, 'energy_consumption_kwh': 0.0001, 'voltage_v': 227.821701248663, 'ambient_temp_c': 22.5}, {'temperature_current_c': 3.7788312936073702, 'compressor_on': 0, 'door_open': 0, 'energy_consumption_kwh': 0.0001, 'voltage_v': 229.68625523942018, 'ambient_temp_c': 22.5}, {'temperature_current_c': 4.140932239642736, 'compressor_on': 1, 'door_open': 0, 'energy_consumption_kwh': 0.005, 'voltage_v': 229.96401659482626, 'ambient_temp_c': 22.5}, {'temperature_current_c': 3.5002153665538245, 'compressor_on': 0, 'door_open': 0, 'energy_consumption_kwh': 0.0001, 'voltage_v': 244.79954470123857, 'ambient_temp_c': 22.5}, {'temperature_current_c': 4.0791400794845885, 'compressor_on': 1, 'door_open': 0, 'energy_consumption_kwh': 0.005, 'voltage_v': 234.9528389156852, 'ambient_temp_c': 22.5}, {'temperature_current_c': 4.228054517810125, 'compressor_on': 1, 'door_open': 0, 'energy_consumption_kwh': 0.005, 'voltage_v': 236.4750065807925, 'ambient_temp_c': 22.5}, {'temperature_current_c': 3.879551406197412, 'compressor_on': 0, 'door_open': 0, 'energy_consumption_kwh': 0.0001, 'voltage_v': 240.0043273554145, 'ambient_temp_c': 22.5}, {'temperature_current_c': 4.226636512069134, 'compressor_on': 1, 'door_open': 0, 'energy_consumption_kwh': 0.005, 'voltage_v': 227.6138422659113, 'ambient_temp_c': 22.5}, {'temperature_current_c': 4.119025207704096, 'compressor_on': 1, 'door_open': 0, 'energy_consumption_kwh': 0.005, 'voltage_v': 242.9765267365388, 'ambient_temp_c': 22.5}, {'temperature_current_c': 4.033427554275442, 'compressor_on': 1, 'door_open': 0, 'energy_consumption_kwh': 0.005, 'voltage_v': 235.08436344048687, 'ambient_temp_c': 22.5}, {'temperature_current_c': 3.5327957313937204, 'compressor_on': 0, 'door_open': 0, 'energy_consumption_kwh': 0.0001, 'voltage_v': 236.11856396705642, 'ambient_temp_c': 22.5}, {'temperature_current_c': 4.328301481250406, 'compressor_on': 1, 'door_open': 0, 'energy_consumption_kwh': 0.005, 'voltage_v': 242.25806766292652, 'ambient_temp_c': 22.5}, {'temperature_current_c': 3.9720399519912046, 'compressor_on': 0, 'door_open': 0, 'energy_consumption_kwh': 0.0001, 'voltage_v': 231.71329004227152, 'ambient_temp_c': 22.5}, {'temperature_current_c': 4.2163427731762795, 'compressor_on': 1, 'door_open': 0, 'energy_consumption_kwh': 0.005, 'voltage_v': 244.60436113616143, 'ambient_temp_c': 22.5}, {'temperature_current_c': 3.53407916492701, 'compressor_on': 0, 'door_open': 0, 'energy_consumption_kwh': 0.0001, 'voltage_v': 235.9334033868903, 'ambient_temp_c': 22.5}, {'temperature_current_c': 3.532908073229599, 'compressor_on': 0, 'door_open': 0, 'energy_consumption_kwh': 0.0001, 'voltage_v': 242.90768453246616, 'ambient_temp_c': 22.5}, {'temperature_current_c': 3.6449601366009934, 'compressor_on': 0, 'door_open': 0, 'energy_consumption_kwh': 0.0001, 'voltage_v': 233.19309233826377, 'ambient_temp_c': 22.5}, {'temperature_current_c': 4.035934172202473, 'compressor_on': 1, 'door_open': 0, 'energy_consumption_kwh': 0.005, 'voltage_v': 241.86726999467203, 'ambient_temp_c': 22.5}, {'temperature_current_c': 4.45177347358578, 'compressor_on': 1, 'door_open': 0, 'energy_consumption_kwh': 0.005, 'voltage_v': 239.09122264946694, 'ambient_temp_c': 22.5}, {'temperature_current_c': 3.7229221738324445, 'compressor_on': 0, 'door_open': 0, 'energy_consumption_kwh': 0.0001, 'voltage_v': 242.06744336721565, 'ambient_temp_c': 22.5}, {'temperature_current_c': 4.306844798580373, 'compressor_on': 1, 'door_open': 0, 'energy_consumption_kwh': 0.005, 'voltage_v': 227.23141749129155, 'ambient_temp_c': 22.5}, {'temperature_current_c': 4.4263748609707205, 'compressor_on': 1, 'door_open': 0, 'energy_consumption_kwh': 0.005, 'voltage_v': 235.2601716844709, 'ambient_temp_c': 22.5}, {'temperature_current_c': 3.7546073694441695, 'compressor_on': 0, 'door_open': 0, 'energy_consumption_kwh': 0.0001, 'voltage_v': 240.70959695281942, 'ambient_temp_c': 22.5}, {'temperature_current_c': 3.6618569750586536, 'compressor_on': 0, 'door_open': 0, 'energy_consumption_kwh': 0.0001, 'voltage_v': 239.3127297060234, 'ambient_temp_c': 22.5}, {'temperature_current_c': 3.7768871772491006, 'compressor_on': 0, 'door_open': 0, 'energy_consumption_kwh': 0.0001, 'voltage_v': 226.99796215833675, 'ambient_temp_c': 22.5}, {'temperature_current_c': 3.8312523448871447, 'compressor_on': 0, 'door_open': 0, 'energy_consumption_kwh': 0.0001, 'voltage_v': 237.09073261767995, 'ambient_temp_c': 22.5}, {'temperature_current_c': 4.361760515374789, 'compressor_on': 1, 'door_open': 0, 'energy_consumption_kwh': 0.005, 'voltage_v': 230.51253142623497, 'ambient_temp_c': 22.5}, {'temperature_current_c': 4.441384948068478, 'compressor_on': 1, 'door_open': 0, 'energy_consumption_kwh': 0.005, 'voltage_v': 243.4622496390768, 'ambient_temp_c': 22.5}, {'temperature_current_c': 3.573636788556764, 'compressor_on': 0, 'door_open': 0, 'energy_consumption_kwh': 0.0001, 'voltage_v': 242.25373566314943, 'ambient_temp_c': 22.5}, {'temperature_current_c': 4.242382754778904, 'compressor_on': 1, 'door_open': 0, 'energy_consumption_kwh': 0.005, 'voltage_v': 231.53796133198648, 'ambient_temp_c': 22.5}, {'temperature_current_c': 4.365754593024657, 'compressor_on': 1, 'door_open': 0, 'energy_consumption_kwh': 0.005, 'voltage_v': 241.61880719075901, 'ambient_temp_c': 22.5}, {'temperature_current_c': 3.8720164996627675, 'compressor_on': 0, 'door_open': 0, 'energy_consumption_kwh': 0.0001, 'voltage_v': 226.87426306820745, 'ambient_temp_c': 22.5}, {'temperature_current_c': 4.048001344266024, 'compressor_on': 1, 'door_open': 0, 'energy_consumption_kwh': 0.005, 'voltage_v': 237.9733690158712, 'ambient_temp_c': 22.5}, {'temperature_current_c': 4.077624496996096, 'compressor_on': 1, 'door_open': 0, 'energy_consumption_kwh': 0.005, 'voltage_v': 225.73020949651183, 'ambient_temp_c': 22.5}, {'temperature_current_c': 4.219102756011082, 'compressor_on': 1, 'door_open': 0, 'energy_consumption_kwh': 0.005, 'voltage_v': 240.12562368261706, 'ambient_temp_c': 22.5}, {'temperature_current_c': 4.086072699616408, 'compressor_on': 1, 'door_open': 0, 'energy_consumption_kwh': 0.005, 'voltage_v': 226.42325411443903, 'ambient_temp_c': 22.5}, {'temperature_current_c': 3.9554328803761853, 'compressor_on': 0, 'door_open': 0, 'energy_consumption_kwh': 0.0001, 'voltage_v': 234.73812226327377, 'ambient_temp_c': 22.5}, {'temperature_current_c': 4.099820956733663, 'compressor_on': 1, 'door_open': 0, 'energy_consumption_kwh': 0.005, 'voltage_v': 239.08868032138932, 'ambient_temp_c': 22.5}, {'temperature_current_c': 3.9725154084840923, 'compressor_on': 0, 'door_open': 0, 'energy_consumption_kwh': 0.0001, 'voltage_v': 244.01915419508646, 'ambient_temp_c': 22.5}, {'temperature_current_c': 4.43315912999941, 'compressor_on': 1, 'door_open': 0, 'energy_consumption_kwh': 0.005, 'voltage_v': 243.99757475292137, 'ambient_temp_c': 22.5}, {'temperature_current_c': 3.907556111175431, 'compressor_on': 0, 'door_open': 0, 'energy_consumption_kwh': 0.0001, 'voltage_v': 238.67673628851156, 'ambient_temp_c': 22.5}, {'temperature_current_c': 3.8350621623499395, 'compressor_on': 0, 'door_open': 0, 'energy_consumption_kwh': 0.0001, 'voltage_v': 228.5551892635842, 'ambient_temp_c': 22.5}, {'temperature_current_c': 4.004917462710933, 'compressor_on': 1, 'door_open': 0, 'energy_consumption_kwh': 0.005, 'voltage_v': 226.78966252527533, 'ambient_temp_c': 22.5}, {'temperature_current_c': 3.5406824955893526, 'compressor_on': 0, 'door_open': 0, 'energy_consumption_kwh': 0.0001, 'voltage_v': 227.31229309672952, 'ambient_temp_c': 22.5}, {'temperature_current_c': 3.5400190999069734, 'compressor_on': 0, 'door_open': 0, 'energy_consumption_kwh': 0.0001, 'voltage_v': 233.73163363965907, 'ambient_temp_c': 22.5}, {'temperature_current_c': 3.9958867512288063, 'compressor_on': 0, 'door_open': 0, 'energy_consumption_kwh': 0.0001, 'voltage_v': 239.44601862672786, 'ambient_temp_c': 22.5}, {'temperature_current_c': 3.9225333543676797, 'compressor_on': 0, 'door_open': 0, 'energy_consumption_kwh': 0.0001, 'voltage_v': 242.40348685899826, 'ambient_temp_c': 22.5}, {'temperature_current_c': 4.0672904256776015, 'compressor_on': 1, 'door_open': 0, 'energy_consumption_kwh': 0.005, 'voltage_v': 239.87709058004208, 'ambient_temp_c': 22.5}, {'temperature_current_c': 3.634509257280627, 'compressor_on': 0, 'door_open': 0, 'energy_consumption_kwh': 0.0001, 'voltage_v': 227.29343322330857, 'ambient_temp_c': 22.5}, {'temperature_current_c': 4.223052028177407, 'compressor_on': 1, 'door_open': 0, 'energy_consumption_kwh': 0.005, 'voltage_v': 240.3841709595352, 'ambient_temp_c': 22.5}, {'temperature_current_c': 4.170871095261347, 'compressor_on': 1, 'door_open': 0, 'energy_consumption_kwh': 0.005, 'voltage_v': 243.3316843224889, 'ambient_temp_c': 22.5}, {'temperature_current_c': 4.108142951409821, 'compressor_on': 1, 'door_open': 0, 'energy_consumption_kwh': 0.005, 'voltage_v': 227.84214071987464, 'ambient_temp_c': 22.5}, {'temperature_current_c': 3.999852913326692, 'compressor_on': 0, 'door_open': 0, 'energy_consumption_kwh': 0.0001, 'voltage_v': 244.07593058706422, 'ambient_temp_c': 22.5}, {'temperature_current_c': 3.892138556139856, 'compressor_on': 0, 'door_open': 0, 'energy_consumption_kwh': 0.0001, 'voltage_v': 234.61532881681592, 'ambient_temp_c': 22.5}, {'temperature_current_c': 3.918294459085053, 'compressor_on': 0, 'door_open': 0, 'energy_consumption_kwh': 0.0001, 'voltage_v': 240.99724009253316, 'ambient_temp_c': 22.5}, {'temperature_current_c': 4.028845330235031, 'compressor_on': 1, 'door_open': 0, 'energy_consumption_kwh': 0.005, 'voltage_v': 241.86860218161158, 'ambient_temp_c': 22.5}, {'temperature_current_c': 4.320310453811661, 'compressor_on': 1, 'door_open': 0, 'energy_consumption_kwh': 0.005, 'voltage_v': 236.89664690047937, 'ambient_temp_c': 22.5}, {'temperature_current_c': 4.36820275346961, 'compressor_on': 1, 'door_open': 0, 'energy_consumption_kwh': 0.005, 'voltage_v': 233.24728078303337, 'ambient_temp_c': 22.5}, {'temperature_current_c': 4.160511476245135, 'compressor_on': 1, 'door_open': 0, 'energy_consumption_kwh': 0.005, 'voltage_v': 231.49488825231117, 'ambient_temp_c': 22.5}, {'temperature_current_c': 4.099263385267852, 'compressor_on': 1, 'door_open': 0, 'energy_consumption_kwh': 0.005, 'voltage_v': 226.07467521416578, 'ambient_temp_c': 22.5}, {'temperature_current_c': 3.9195239638886927, 'compressor_on': 0, 'door_open': 0, 'energy_consumption_kwh': 0.0001, 'voltage_v': 231.10750109140258, 'ambient_temp_c': 22.5}, {'temperature_current_c': 4.035460233325017, 'compressor_on': 1, 'door_open': 0, 'energy_consumption_kwh': 0.005, 'voltage_v': 225.1921295846436, 'ambient_temp_c': 22.5}, {'temperature_current_c': 4.373207798700421, 'compressor_on': 1, 'door_open': 0, 'energy_consumption_kwh': 0.005, 'voltage_v': 225.65904953844813, 'ambient_temp_c': 22.5}, {'temperature_current_c': 3.8602417728584237, 'compressor_on': 0, 'door_open': 0, 'energy_consumption_kwh': 0.0001, 'voltage_v': 239.72172258539922, 'ambient_temp_c': 22.5}, {'temperature_current_c': 4.012589996206605, 'compressor_on': 1, 'door_open': 0, 'energy_consumption_kwh': 0.005, 'voltage_v': 238.23216417528616, 'ambient_temp_c': 22.5}, {'temperature_current_c': 3.549758393128828, 'compressor_on': 0, 'door_open': 0, 'energy_consumption_kwh': 0.0001, 'voltage_v': 226.86172910455443, 'ambient_temp_c': 22.5}, {'temperature_current_c': 3.930387484844696, 'compressor_on': 0, 'door_open': 0, 'energy_consumption_kwh': 0.0001, 'voltage_v': 228.1744529183737, 'ambient_temp_c': 22.5}, {'temperature_current_c': 4.333617605013744, 'compressor_on': 1, 'door_open': 0, 'energy_consumption_kwh': 0.005, 'voltage_v': 237.46033345714977, 'ambient_temp_c': 22.5}, {'temperature_current_c': 4.30649950070984, 'compressor_on': 1, 'door_open': 0, 'energy_consumption_kwh': 0.005, 'voltage_v': 226.1419999926203, 'ambient_temp_c': 22.5}, {'temperature_current_c': 4.2564796041544595, 'compressor_on': 1, 'door_open': 0, 'energy_consumption_kwh': 0.005, 'voltage_v': 230.3647801896017, 'ambient_temp_c': 22.5}, {'temperature_current_c': 3.9496105355132736, 'compressor_on': 0, 'door_open': 0, 'energy_consumption_kwh': 0.0001, 'voltage_v': 235.63815176040714, 'ambient_temp_c': 22.5}, {'temperature_current_c': 4.068610818057782, 'compressor_on': 1, 'door_open': 0, 'energy_consumption_kwh': 0.005, 'voltage_v': 242.09439209371286, 'ambient_temp_c': 22.5}, {'temperature_current_c': 4.189328337076151, 'compressor_on': 1, 'door_open': 0, 'energy_consumption_kwh': 0.005, 'voltage_v': 237.33520103840704, 'ambient_temp_c': 22.5}, {'temperature_current_c': 3.684217284535166, 'compressor_on': 0, 'door_open': 0, 'energy_consumption_kwh': 0.0001, 'voltage_v': 232.57648021778678, 'ambient_temp_c': 22.5}, {'temperature_current_c': 4.216419366705587, 'compressor_on': 1, 'door_open': 0, 'energy_consumption_kwh': 0.005, 'voltage_v': 229.95723967589166, 'ambient_temp_c': 22.5}, {'temperature_current_c': 4.112622295032039, 'compressor_on': 1, 'door_open': 0, 'energy_consumption_kwh': 0.005, 'voltage_v': 237.71102432586332, 'ambient_temp_c': 22.5}, {'temperature_current_c': 3.804531380790038, 'compressor_on': 0, 'door_open': 0, 'energy_consumption_kwh': 0.0001, 'voltage_v': 233.37086210028048, 'ambient_temp_c': 22.5}, {'temperature_current_c': 4.27621816121895, 'compressor_on': 1, 'door_open': 0, 'energy_consumption_kwh': 0.005, 'voltage_v': 228.31588726433426, 'ambient_temp_c': 22.5}, {'temperature_current_c': 4.423997036061225, 'compressor_on': 1, 'door_open': 0, 'energy_consumption_kwh': 0.005, 'voltage_v': 230.38475267980147, 'ambient_temp_c': 22.5}, {'temperature_current_c': 4.461820602280957, 'compressor_on': 1, 'door_open': 0, 'energy_consumption_kwh': 0.005, 'voltage_v': 235.9040394053246, 'ambient_temp_c': 22.5}, {'temperature_current_c': 3.8377321737460597, 'compressor_on': 0, 'door_open': 0, 'energy_consumption_kwh': 0.0001, 'voltage_v': 225.05442320150829, 'ambient_temp_c': 22.5}, {'temperature_current_c': 4.092525789580958, 'compressor_on': 1, 'door_open': 0, 'energy_consumption_kwh': 0.005, 'voltage_v': 227.1832245457854, 'ambient_temp_c': 22.5}, {'temperature_current_c': 4.131577745820109, 'compressor_on': 1, 'door_open': 0, 'energy_consumption_kwh': 0.005, 'voltage_v': 226.6650022790482, 'ambient_temp_c': 22.5}, {'temperature_current_c': 3.68073804393543, 'compressor_on': 0, 'door_open': 0, 'energy_consumption_kwh': 0.0001, 'voltage_v': 243.95181708858587, 'ambient_temp_c': 22.5}, {'temperature_current_c': 3.996093981158425, 'compressor_on': 0, 'door_open': 0, 'energy_consumption_kwh': 0.0001, 'voltage_v': 232.86483527028025, 'ambient_temp_c': 22.5}, {'temperature_current_c': 4.3359867016465365, 'compressor_on': 1, 'door_open': 0, 'energy_consumption_kwh': 0.005, 'voltage_v': 231.41763808317958, 'ambient_temp_c': 22.5}, {'temperature_current_c': 3.8501880336028105, 'compressor_on': 0, 'door_open': 0, 'energy_consumption_kwh': 0.0001, 'voltage_v': 234.09215091386562, 'ambient_temp_c': 22.5}, {'temperature_current_c': 3.8462248891084228, 'compressor_on': 0, 'door_open': 0, 'energy_consumption_kwh': 0.0001, 'voltage_v': 230.84469279128743, 'ambient_temp_c': 22.5}, {'temperature_current_c': 4.47899846270949, 'compressor_on': 1, 'door_open': 0, 'energy_consumption_kwh': 0.005, 'voltage_v': 238.5455546470392, 'ambient_temp_c': 22.5}, {'temperature_current_c': 4.370466006368275, 'compressor_on': 1, 'door_open': 0, 'energy_consumption_kwh': 0.005, 'voltage_v': 238.5299344469714, 'ambient_temp_c': 22.5}, {'temperature_current_c': 3.5835258198924933, 'compressor_on': 0, 'door_open': 0, 'energy_consumption_kwh': 0.0001, 'voltage_v': 237.8002787956688, 'ambient_temp_c': 22.5}, {'temperature_current_c': 4.320549495529441, 'compressor_on': 1, 'door_open': 0, 'energy_consumption_kwh': 0.005, 'voltage_v': 242.3666679876021, 'ambient_temp_c': 22.5}, {'temperature_current_c': 3.7013289249990757, 'compressor_on': 0, 'door_open': 0, 'energy_consumption_kwh': 0.0001, 'voltage_v': 243.82332374864004, 'ambient_temp_c': 22.5}, {'temperature_current_c': 4.346066394653169, 'compressor_on': 1, 'door_open': 0, 'energy_consumption_kwh': 0.005, 'voltage_v': 231.76301899519441, 'ambient_temp_c': 22.5}, {'temperature_current_c': 4.308225654163122, 'compressor_on': 1, 'door_open': 0, 'energy_consumption_kwh': 0.005, 'voltage_v': 238.34944922247047, 'ambient_temp_c': 22.5}, {'temperature_current_c': 3.836622869703275, 'compressor_on': 0, 'door_open': 0, 'energy_consumption_kwh': 0.0001, 'voltage_v': 234.86376805489394, 'ambient_temp_c': 22.5}, {'temperature_current_c': 3.5169208595627763, 'compressor_on': 0, 'door_open': 0, 'energy_consumption_kwh': 0.0001, 'voltage_v': 232.48392803898903, 'ambient_temp_c': 22.5}, {'temperature_current_c': 4.334961222244608, 'compressor_on': 1, 'door_open': 0, 'energy_consumption_kwh': 0.005, 'voltage_v': 237.3127440288904, 'ambient_temp_c': 22.5}, {'temperature_current_c': 3.7181229388861654, 'compressor_on': 0, 'door_open': 0, 'energy_consumption_kwh': 0.0001, 'voltage_v': 236.26784778154334, 'ambient_temp_c': 22.5}, {'temperature_current_c': 4.251709457994037, 'compressor_on': 1, 'door_open': 0, 'energy_consumption_kwh': 0.005, 'voltage_v': 235.24593662118718, 'ambient_temp_c': 22.5}, {'temperature_current_c': 3.7694676527941144, 'compressor_on': 0, 'door_open': 0, 'energy_consumption_kwh': 0.0001, 'voltage_v': 239.54475362361484, 'ambient_temp_c': 22.5}, {'temperature_current_c': 3.855171381959945, 'compressor_on': 0, 'door_open': 0, 'energy_consumption_kwh': 0.0001, 'voltage_v': 244.8479633490963, 'ambient_temp_c': 22.5}, {'temperature_current_c': 3.5748391368183237, 'compressor_on': 0, 'door_open': 0, 'energy_consumption_kwh': 0.0001, 'voltage_v': 232.8135794548014, 'ambient_temp_c': 22.5}, {'temperature_current_c': 4.2074721060079305, 'compressor_on': 1, 'door_open': 0, 'energy_consumption_kwh': 0.005, 'voltage_v': 234.50461815459988, 'ambient_temp_c': 22.5}, {'temperature_current_c': 4.477564403505662, 'compressor_on': 1, 'door_open': 0, 'energy_consumption_kwh': 0.005, 'voltage_v': 234.95261354620192, 'ambient_temp_c': 22.5}, {'temperature_current_c': 4.291958223259987, 'compressor_on': 1, 'door_open': 0, 'energy_consumption_kwh': 0.005, 'voltage_v': 237.55258655889406, 'ambient_temp_c': 22.5}, {'temperature_current_c': 4.4819197803783295, 'compressor_on': 1, 'door_open': 0, 'energy_consumption_kwh': 0.005, 'voltage_v': 229.29773527106795, 'ambient_temp_c': 22.5}, {'temperature_current_c': 3.8139417544614753, 'compressor_on': 0, 'door_open': 0, 'energy_consumption_kwh': 0.0001, 'voltage_v': 237.4896585528184, 'ambient_temp_c': 22.5}, {'temperature_current_c': 4.323623740858881, 'compressor_on': 1, 'door_open': 0, 'energy_consumption_kwh': 0.005, 'voltage_v': 231.38980793568177, 'ambient_temp_c': 22.5}, {'temperature_current_c': 3.901162729451813, 'compressor_on': 0, 'door_open': 0, 'energy_consumption_kwh': 0.0001, 'voltage_v': 225.55724142526856, 'ambient_temp_c': 22.5}, {'temperature_current_c': 4.014060838490643, 'compressor_on': 1, 'door_open': 0, 'energy_consumption_kwh': 0.005, 'voltage_v': 230.58006744284563, 'ambient_temp_c': 22.5}, {'temperature_current_c': 3.9280189955579585, 'compressor_on': 0, 'door_open': 0, 'energy_consumption_kwh': 0.0001, 'voltage_v': 227.1480958140556, 'ambient_temp_c': 22.5}, {'temperature_current_c': 3.75768234972915, 'compressor_on': 0, 'door_open': 0, 'energy_consumption_kwh': 0.0001, 'voltage_v': 234.22333422535965, 'ambient_temp_c': 22.5}, {'temperature_current_c': 3.84614190372181, 'compressor_on': 0, 'door_open': 0, 'energy_consumption_kwh': 0.0001, 'voltage_v': 235.72513469921407, 'ambient_temp_c': 22.5}, {'temperature_current_c': 3.8066083725036566, 'compressor_on': 0, 'door_open': 0, 'energy_consumption_kwh': 0.0001, 'voltage_v': 226.91734290139806, 'ambient_temp_c': 22.5}, {'temperature_current_c': 4.438922423514431, 'compressor_on': 1, 'door_open': 0, 'energy_consumption_kwh': 0.005, 'voltage_v': 240.63224487200824, 'ambient_temp_c': 22.5}, {'temperature_current_c': 4.370123491243682, 'compressor_on': 1, 'door_open': 0, 'energy_consumption_kwh': 0.005, 'voltage_v': 236.20093488599667, 'ambient_temp_c': 22.5}, {'temperature_current_c': 4.30841758828217, 'compressor_on': 1, 'door_open': 0, 'energy_consumption_kwh': 0.005, 'voltage_v': 233.779699097244, 'ambient_temp_c': 22.5}, {'temperature_current_c': 4.058752474005491, 'compressor_on': 1, 'door_open': 0, 'energy_consumption_kwh': 0.005, 'voltage_v': 234.67695348611687, 'ambient_temp_c': 22.5}, {'temperature_current_c': 3.8744978600665347, 'compressor_on': 0, 'door_open': 0, 'energy_consumption_kwh': 0.0001, 'voltage_v': 242.85501674955142, 'ambient_temp_c': 22.5}, {'temperature_current_c': 3.574755095711072, 'compressor_on': 0, 'door_open': 0, 'energy_consumption_kwh': 0.0001, 'voltage_v': 240.27354924472337, 'ambient_temp_c': 22.5}, {'temperature_current_c': 3.7994611322776115, 'compressor_on': 0, 'door_open': 0, 'energy_consumption_kwh': 0.0001, 'voltage_v': 244.76379248147154, 'ambient_temp_c': 22.5}, {'temperature_current_c': 4.31104757452219, 'compressor_on': 1, 'door_open': 0, 'energy_consumption_kwh': 0.005, 'voltage_v': 240.18124711428118, 'ambient_temp_c': 22.5}, {'temperature_current_c': 4.414036422306988, 'compressor_on': 1, 'door_open': 0, 'energy_consumption_kwh': 0.005, 'voltage_v': 228.87734324398636, 'ambient_temp_c': 22.5}, {'temperature_current_c': 4.353842021513143, 'compressor_on': 1, 'door_open': 0, 'energy_consumption_kwh': 0.005, 'voltage_v': 231.03219863918798, 'ambient_temp_c': 22.5}, {'temperature_current_c': 4.365839101354258, 'compressor_on': 1, 'door_open': 0, 'energy_consumption_kwh': 0.005, 'voltage_v': 225.50547837153232, 'ambient_temp_c': 22.5}, {'temperature_current_c': 3.9526831440351993, 'compressor_on': 0, 'door_open': 0, 'energy_consumption_kwh': 0.0001, 'voltage_v': 229.06968997745236, 'ambient_temp_c': 22.5}, {'temperature_current_c': 4.469970186724436, 'compressor_on': 1, 'door_open': 0, 'energy_consumption_kwh': 0.005, 'voltage_v': 239.98262247626565, 'ambient_temp_c': 22.5}, {'temperature_current_c': 4.299615123431925, 'compressor_on': 1, 'door_open': 0, 'energy_consumption_kwh': 0.005, 'voltage_v': 244.1695929068663, 'ambient_temp_c': 22.5}, {'temperature_current_c': 4.294886747271629, 'compressor_on': 1, 'door_open': 0, 'energy_consumption_kwh': 0.005, 'voltage_v': 226.08604049869473, 'ambient_temp_c': 22.5}, {'temperature_current_c': 4.187851008954547, 'compressor_on': 1, 'door_open': 0, 'energy_consumption_kwh': 0.005, 'voltage_v': 227.03614799857115, 'ambient_temp_c': 22.5}, {'temperature_current_c': 4.474967754154986, 'compressor_on': 1, 'door_open': 0, 'energy_consumption_kwh': 0.005, 'voltage_v': 234.45795355237365, 'ambient_temp_c': 22.5}, {'temperature_current_c': 4.417759541082013, 'compressor_on': 1, 'door_open': 0, 'energy_consumption_kwh': 0.005, 'voltage_v': 236.33585201174043, 'ambient_temp_c': 22.5}, {'temperature_current_c': 4.3212622840529855, 'compressor_on': 1, 'door_open': 0, 'energy_consumption_kwh': 0.005, 'voltage_v': 236.73411984805645, 'ambient_temp_c': 22.5}, {'temperature_current_c': 4.04351719960648, 'compressor_on': 1, 'door_open': 0, 'energy_consumption_kwh': 0.005, 'voltage_v': 226.44851148227596, 'ambient_temp_c': 22.5}, {'temperature_current_c': 4.448433449064644, 'compressor_on': 1, 'door_open': 0, 'energy_consumption_kwh': 0.005, 'voltage_v': 233.7738879766778, 'ambient_temp_c': 22.5}, {'temperature_current_c': 3.877540023147899, 'compressor_on': 0, 'door_open': 0, 'energy_consumption_kwh': 0.0001, 'voltage_v': 238.52340941916634, 'ambient_temp_c': 22.5}, {'temperature_current_c': 3.8458772572041653, 'compressor_on': 0, 'door_open': 0, 'energy_consumption_kwh': 0.0001, 'voltage_v': 238.23322159891285, 'ambient_temp_c': 22.5}, {'temperature_current_c': 3.8742530902279873, 'compressor_on': 0, 'door_open': 0, 'energy_consumption_kwh': 0.0001, 'voltage_v': 239.20179226327562, 'ambient_temp_c': 22.5}, {'temperature_current_c': 4.452175766403394, 'compressor_on': 1, 'door_open': 0, 'energy_consumption_kwh': 0.005, 'voltage_v': 225.322695824445, 'ambient_temp_c': 22.5}, {'temperature_current_c': 4.017786046509701, 'compressor_on': 1, 'door_open': 0, 'energy_consumption_kwh': 0.005, 'voltage_v': 244.42752997295094, 'ambient_temp_c': 22.5}, {'temperature_current_c': 3.8268180444211106, 'compressor_on': 0, 'door_open': 0, 'energy_consumption_kwh': 0.0001, 'voltage_v': 229.4817139433888, 'ambient_temp_c': 22.5}, {'temperature_current_c': 4.253520636296858, 'compressor_on': 1, 'door_open': 0, 'energy_consumption_kwh': 0.005, 'voltage_v': 227.3491808552427, 'ambient_temp_c': 22.5}, {'temperature_current_c': 3.6331858442842817, 'compressor_on': 0, 'door_open': 0, 'energy_consumption_kwh': 0.0001, 'voltage_v': 225.24621396830995, 'ambient_temp_c': 22.5}, {'temperature_current_c': 3.59221007009875, 'compressor_on': 0, 'door_open': 0, 'energy_consumption_kwh': 0.0001, 'voltage_v': 238.13511736665464, 'ambient_temp_c': 22.5}, {'temperature_current_c': 3.623068807803693, 'compressor_on': 0, 'door_open': 0, 'energy_consumption_kwh': 0.0001, 'voltage_v': 225.98631486121204, 'ambient_temp_c': 22.5}, {'temperature_current_c': 3.977783039189969, 'compressor_on': 0, 'door_open': 0, 'energy_consumption_kwh': 0.0001, 'voltage_v': 229.30286712181268, 'ambient_temp_c': 22.5}, {'temperature_current_c': 3.68312075124714, 'compressor_on': 0, 'door_open': 0, 'energy_consumption_kwh': 0.0001, 'voltage_v': 232.12897684267418, 'ambient_temp_c': 22.5}, {'temperature_current_c': 3.616915381838262, 'compressor_on': 0, 'door_open': 0, 'energy_consumption_kwh': 0.0001, 'voltage_v': 244.89846951359434, 'ambient_temp_c': 22.5}, {'temperature_current_c': 3.6463426050086625, 'compressor_on': 0, 'door_open': 0, 'energy_consumption_kwh': 0.0001, 'voltage_v': 225.81918466032403, 'ambient_temp_c': 22.5}, {'temperature_current_c': 3.5770264600369615, 'compressor_on': 0, 'door_open': 0, 'energy_consumption_kwh': 0.0001, 'voltage_v': 237.4984304689796, 'ambient_temp_c': 22.5}, {'temperature_current_c': 4.260695851953262, 'compressor_on': 1, 'door_open': 0, 'energy_consumption_kwh': 0.005, 'voltage_v': 240.81854364951724, 'ambient_temp_c': 22.5}, {'temperature_current_c': 4.221693048422044, 'compressor_on': 1, 'door_open': 0, 'energy_consumption_kwh': 0.005, 'voltage_v': 234.28473454459913, 'ambient_temp_c': 22.5}, {'temperature_current_c': 3.970821704685358, 'compressor_on': 0, 'door_open': 0, 'energy_consumption_kwh': 0.0001, 'voltage_v': 226.92443490458527, 'ambient_temp_c': 22.5}, {'temperature_current_c': 3.9749711091925395, 'compressor_on': 0, 'door_open': 0, 'energy_consumption_kwh': 0.0001, 'voltage_v': 240.36671582024533, 'ambient_temp_c': 22.5}, {'temperature_current_c': 4.016450075725655, 'compressor_on': 1, 'door_open': 0, 'energy_consumption_kwh': 0.005, 'voltage_v': 229.32718030911678, 'ambient_temp_c': 22.5}, {'temperature_current_c': 3.7900307537178475, 'compressor_on': 0, 'door_open': 0, 'energy_consumption_kwh': 0.0001, 'voltage_v': 232.54248578212218, 'ambient_temp_c': 22.5}, {'temperature_current_c': 3.7780620275914734, 'compressor_on': 0, 'door_open': 0, 'energy_consumption_kwh': 0.0001, 'voltage_v': 244.44159457233437, 'ambient_temp_c': 22.5}, {'temperature_current_c': 3.683572812358393, 'compressor_on': 0, 'door_open': 0, 'energy_consumption_kwh': 0.0001, 'voltage_v': 227.55222048809125, 'ambient_temp_c': 22.5}, {'temperature_current_c': 4.25652291448737, 'compressor_on': 1, 'door_open': 0, 'energy_consumption_kwh': 0.005, 'voltage_v': 240.56861155872048, 'ambient_temp_c': 22.5}, {'temperature_current_c': 3.5458687717425885, 'compressor_on': 0, 'door_open': 0, 'energy_consumption_kwh': 0.0001, 'voltage_v': 240.91249887721733, 'ambient_temp_c': 22.5}]\n"
          ]
        },
        {
          "output_type": "stream",
          "name": "stderr",
          "text": [
            "WARNING:tensorflow:6 out of the last 788 calls to <function TensorFlowTrainer.make_predict_function.<locals>.one_step_on_data_distributed at 0x7ba17b8c74c0> triggered tf.function retracing. Tracing is expensive and the excessive number of tracings could be due to (1) creating @tf.function repeatedly in a loop, (2) passing tensors with different shapes, (3) passing Python objects instead of tensors. For (1), please define your @tf.function outside of the loop. For (2), @tf.function has reduce_retracing=True option that can avoid unnecessary retracing. For (3), please refer to https://www.tensorflow.org/guide/function#controlling_retracing and https://www.tensorflow.org/api_docs/python/tf/function for  more details.\n"
          ]
        },
        {
          "output_type": "stream",
          "name": "stdout",
          "text": [
            "\u001b[1m1/1\u001b[0m \u001b[32m━━━━━━━━━━━━━━━━━━━━\u001b[0m\u001b[37m\u001b[0m \u001b[1m1s\u001b[0m 501ms/step\n"
          ]
        },
        {
          "output_type": "stream",
          "name": "stderr",
          "text": [
            "WARNING:absl:Compiled the loaded model, but the compiled metrics have yet to be built. `model.compile_metrics` will be empty until you train or evaluate the model.\n"
          ]
        },
        {
          "output_type": "stream",
          "name": "stdout",
          "text": [
            "\n",
            "--- Inference Result ---\n",
            "Model Prediction: 'Normal Operation'\n",
            "Failure Risk Score: 0.0000\n",
            "----------------------\n",
            "\n",
            "Generating a sample FAILING data sequence...\n",
            "[{'temperature_current_c': 6.560167473241678, 'compressor_on': 1, 'door_open': 0, 'energy_consumption_kwh': 0.00975, 'voltage_v': 231.44298053833, 'ambient_temp_c': 22.5}, {'temperature_current_c': 6.045900979277936, 'compressor_on': 1, 'door_open': 0, 'energy_consumption_kwh': 0.009750578703703704, 'voltage_v': 235.04124657604237, 'ambient_temp_c': 22.5}, {'temperature_current_c': 6.7875069723649695, 'compressor_on': 1, 'door_open': 0, 'energy_consumption_kwh': 0.009751157407407408, 'voltage_v': 242.7254631198927, 'ambient_temp_c': 22.5}, {'temperature_current_c': 6.445572922837163, 'compressor_on': 1, 'door_open': 0, 'energy_consumption_kwh': 0.00975173611111111, 'voltage_v': 236.57056027326465, 'ambient_temp_c': 22.5}, {'temperature_current_c': 6.238350992797983, 'compressor_on': 1, 'door_open': 0, 'energy_consumption_kwh': 0.009752314814814814, 'voltage_v': 229.19283856640186, 'ambient_temp_c': 22.5}, {'temperature_current_c': 6.872885802101923, 'compressor_on': 1, 'door_open': 0, 'energy_consumption_kwh': 0.009752893518518518, 'voltage_v': 236.18005030263905, 'ambient_temp_c': 22.5}, {'temperature_current_c': 6.256838204794187, 'compressor_on': 1, 'door_open': 0, 'energy_consumption_kwh': 0.009753472222222222, 'voltage_v': 240.60176358689162, 'ambient_temp_c': 22.5}, {'temperature_current_c': 6.236644339557942, 'compressor_on': 1, 'door_open': 0, 'energy_consumption_kwh': 0.009754050925925926, 'voltage_v': 244.61295727748072, 'ambient_temp_c': 22.5}, {'temperature_current_c': 6.0138737500736115, 'compressor_on': 1, 'door_open': 0, 'energy_consumption_kwh': 0.00975462962962963, 'voltage_v': 234.35684051337887, 'ambient_temp_c': 22.5}, {'temperature_current_c': 6.177832600039395, 'compressor_on': 1, 'door_open': 0, 'energy_consumption_kwh': 0.009755208333333334, 'voltage_v': 240.2331150485247, 'ambient_temp_c': 22.5}, {'temperature_current_c': 6.425217473043329, 'compressor_on': 1, 'door_open': 0, 'energy_consumption_kwh': 0.009755787037037037, 'voltage_v': 241.04553216478845, 'ambient_temp_c': 22.5}, {'temperature_current_c': 5.897748147552985, 'compressor_on': 1, 'door_open': 0, 'energy_consumption_kwh': 0.00975636574074074, 'voltage_v': 243.98899062489102, 'ambient_temp_c': 22.5}, {'temperature_current_c': 6.531261703724444, 'compressor_on': 1, 'door_open': 0, 'energy_consumption_kwh': 0.009756944444444445, 'voltage_v': 239.19299973564114, 'ambient_temp_c': 22.5}, {'temperature_current_c': 6.486662237869413, 'compressor_on': 1, 'door_open': 0, 'energy_consumption_kwh': 0.009757523148148149, 'voltage_v': 235.83551190415184, 'ambient_temp_c': 22.5}, {'temperature_current_c': 6.133685239957771, 'compressor_on': 1, 'door_open': 0, 'energy_consumption_kwh': 0.009758101851851851, 'voltage_v': 239.83272841915232, 'ambient_temp_c': 22.5}, {'temperature_current_c': 6.847572071446891, 'compressor_on': 1, 'door_open': 0, 'energy_consumption_kwh': 0.009758680555555555, 'voltage_v': 237.3072834508013, 'ambient_temp_c': 22.5}, {'temperature_current_c': 6.1204552812835376, 'compressor_on': 1, 'door_open': 0, 'energy_consumption_kwh': 0.00975925925925926, 'voltage_v': 228.4696927068638, 'ambient_temp_c': 22.5}, {'temperature_current_c': 6.212909492627259, 'compressor_on': 1, 'door_open': 0, 'energy_consumption_kwh': 0.009759837962962963, 'voltage_v': 235.85571407083935, 'ambient_temp_c': 22.5}, {'temperature_current_c': 6.6302920671177, 'compressor_on': 1, 'door_open': 0, 'energy_consumption_kwh': 0.009760416666666667, 'voltage_v': 226.45626079922397, 'ambient_temp_c': 22.5}, {'temperature_current_c': 6.475240441297042, 'compressor_on': 1, 'door_open': 0, 'energy_consumption_kwh': 0.009760995370370371, 'voltage_v': 240.36516611329571, 'ambient_temp_c': 22.5}, {'temperature_current_c': 6.205525850977576, 'compressor_on': 1, 'door_open': 0, 'energy_consumption_kwh': 0.009761574074074075, 'voltage_v': 226.79369061714561, 'ambient_temp_c': 22.5}, {'temperature_current_c': 6.520841606810391, 'compressor_on': 1, 'door_open': 0, 'energy_consumption_kwh': 0.009762152777777778, 'voltage_v': 235.1695509991913, 'ambient_temp_c': 22.5}, {'temperature_current_c': 6.285414763539574, 'compressor_on': 1, 'door_open': 0, 'energy_consumption_kwh': 0.009762731481481482, 'voltage_v': 230.1812718991371, 'ambient_temp_c': 22.5}, {'temperature_current_c': 6.8105193884940505, 'compressor_on': 1, 'door_open': 0, 'energy_consumption_kwh': 0.009763310185185186, 'voltage_v': 239.7280206114678, 'ambient_temp_c': 22.5}, {'temperature_current_c': 6.4485952908195685, 'compressor_on': 1, 'door_open': 0, 'energy_consumption_kwh': 0.009763888888888888, 'voltage_v': 232.88228673618104, 'ambient_temp_c': 22.5}, {'temperature_current_c': 6.749838722342812, 'compressor_on': 1, 'door_open': 0, 'energy_consumption_kwh': 0.009764467592592592, 'voltage_v': 235.84925276439637, 'ambient_temp_c': 22.5}, {'temperature_current_c': 6.845610161870251, 'compressor_on': 1, 'door_open': 0, 'energy_consumption_kwh': 0.009765046296296296, 'voltage_v': 237.8153551307591, 'ambient_temp_c': 22.5}, {'temperature_current_c': 6.28902351639231, 'compressor_on': 1, 'door_open': 0, 'energy_consumption_kwh': 0.009765625, 'voltage_v': 236.38672637984175, 'ambient_temp_c': 22.5}, {'temperature_current_c': 6.4116074330572825, 'compressor_on': 1, 'door_open': 0, 'energy_consumption_kwh': 0.009766203703703704, 'voltage_v': 240.68683495030294, 'ambient_temp_c': 22.5}, {'temperature_current_c': 6.136341149922856, 'compressor_on': 1, 'door_open': 0, 'energy_consumption_kwh': 0.009766782407407408, 'voltage_v': 234.09550961028256, 'ambient_temp_c': 22.5}, {'temperature_current_c': 6.620965483033967, 'compressor_on': 1, 'door_open': 0, 'energy_consumption_kwh': 0.009767361111111112, 'voltage_v': 241.44070575481658, 'ambient_temp_c': 22.5}, {'temperature_current_c': 5.969352093832377, 'compressor_on': 1, 'door_open': 0, 'energy_consumption_kwh': 0.009767939814814816, 'voltage_v': 236.76543335521225, 'ambient_temp_c': 22.5}, {'temperature_current_c': 5.977266404117165, 'compressor_on': 1, 'door_open': 0, 'energy_consumption_kwh': 0.009768518518518518, 'voltage_v': 244.40082269951742, 'ambient_temp_c': 22.5}, {'temperature_current_c': 6.834330418342253, 'compressor_on': 1, 'door_open': 0, 'energy_consumption_kwh': 0.009769097222222222, 'voltage_v': 231.39418767934907, 'ambient_temp_c': 22.5}, {'temperature_current_c': 6.10772992162706, 'compressor_on': 1, 'door_open': 0, 'energy_consumption_kwh': 0.009769675925925926, 'voltage_v': 234.2065803879186, 'ambient_temp_c': 22.5}, {'temperature_current_c': 6.838001026423985, 'compressor_on': 1, 'door_open': 0, 'energy_consumption_kwh': 0.009770254629629629, 'voltage_v': 235.82486892733482, 'ambient_temp_c': 22.5}, {'temperature_current_c': 6.679230413477232, 'compressor_on': 1, 'door_open': 0, 'energy_consumption_kwh': 0.009770833333333333, 'voltage_v': 231.8860671218617, 'ambient_temp_c': 22.5}, {'temperature_current_c': 6.824585220086325, 'compressor_on': 1, 'door_open': 0, 'energy_consumption_kwh': 0.009771412037037037, 'voltage_v': 230.39000121473254, 'ambient_temp_c': 22.5}, {'temperature_current_c': 6.67362447056221, 'compressor_on': 1, 'door_open': 0, 'energy_consumption_kwh': 0.00977199074074074, 'voltage_v': 236.52040517495453, 'ambient_temp_c': 22.5}, {'temperature_current_c': 6.881782298145008, 'compressor_on': 1, 'door_open': 0, 'energy_consumption_kwh': 0.009772569444444445, 'voltage_v': 240.9759214829875, 'ambient_temp_c': 22.5}, {'temperature_current_c': 6.768266658525427, 'compressor_on': 1, 'door_open': 0, 'energy_consumption_kwh': 0.009773148148148149, 'voltage_v': 244.31523046242205, 'ambient_temp_c': 22.5}, {'temperature_current_c': 6.608888255460317, 'compressor_on': 1, 'door_open': 0, 'energy_consumption_kwh': 0.009773726851851853, 'voltage_v': 231.4421993104959, 'ambient_temp_c': 22.5}, {'temperature_current_c': 6.441708163890588, 'compressor_on': 1, 'door_open': 0, 'energy_consumption_kwh': 0.009774305555555557, 'voltage_v': 239.1089714028066, 'ambient_temp_c': 22.5}, {'temperature_current_c': 6.200873761627351, 'compressor_on': 1, 'door_open': 0, 'energy_consumption_kwh': 0.00977488425925926, 'voltage_v': 235.74407584472323, 'ambient_temp_c': 22.5}, {'temperature_current_c': 6.028941626541794, 'compressor_on': 1, 'door_open': 0, 'energy_consumption_kwh': 0.009775462962962963, 'voltage_v': 235.22016394166684, 'ambient_temp_c': 22.5}, {'temperature_current_c': 6.7432581719791695, 'compressor_on': 1, 'door_open': 0, 'energy_consumption_kwh': 0.009776041666666667, 'voltage_v': 241.65470425159538, 'ambient_temp_c': 22.5}, {'temperature_current_c': 6.455236253876086, 'compressor_on': 1, 'door_open': 0, 'energy_consumption_kwh': 0.00977662037037037, 'voltage_v': 232.40390429612492, 'ambient_temp_c': 22.5}, {'temperature_current_c': 6.579205091428184, 'compressor_on': 1, 'door_open': 0, 'energy_consumption_kwh': 0.009777199074074074, 'voltage_v': 227.29471687387584, 'ambient_temp_c': 22.5}, {'temperature_current_c': 6.311773783494187, 'compressor_on': 1, 'door_open': 0, 'energy_consumption_kwh': 0.009777777777777778, 'voltage_v': 227.34257008218074, 'ambient_temp_c': 22.5}, {'temperature_current_c': 6.352265834704298, 'compressor_on': 1, 'door_open': 0, 'energy_consumption_kwh': 0.009778356481481482, 'voltage_v': 226.47706682444976, 'ambient_temp_c': 22.5}, {'temperature_current_c': 6.155820282201082, 'compressor_on': 1, 'door_open': 0, 'energy_consumption_kwh': 0.009778935185185186, 'voltage_v': 232.15547675334665, 'ambient_temp_c': 22.5}, {'temperature_current_c': 6.605909367017166, 'compressor_on': 1, 'door_open': 0, 'energy_consumption_kwh': 0.00977951388888889, 'voltage_v': 237.49539747815166, 'ambient_temp_c': 22.5}, {'temperature_current_c': 5.9819499926844415, 'compressor_on': 1, 'door_open': 0, 'energy_consumption_kwh': 0.009780092592592594, 'voltage_v': 234.76930279685868, 'ambient_temp_c': 22.5}, {'temperature_current_c': 6.850692385451913, 'compressor_on': 1, 'door_open': 0, 'energy_consumption_kwh': 0.009780671296296296, 'voltage_v': 239.2390926795018, 'ambient_temp_c': 22.5}, {'temperature_current_c': 6.54213715742805, 'compressor_on': 1, 'door_open': 0, 'energy_consumption_kwh': 0.00978125, 'voltage_v': 230.13106554370606, 'ambient_temp_c': 22.5}, {'temperature_current_c': 5.968292963009969, 'compressor_on': 1, 'door_open': 0, 'energy_consumption_kwh': 0.009781828703703704, 'voltage_v': 237.44808741050045, 'ambient_temp_c': 22.5}, {'temperature_current_c': 6.679712822711867, 'compressor_on': 1, 'door_open': 0, 'energy_consumption_kwh': 0.009782407407407408, 'voltage_v': 237.1616080765479, 'ambient_temp_c': 22.5}, {'temperature_current_c': 6.140192414035928, 'compressor_on': 1, 'door_open': 0, 'energy_consumption_kwh': 0.00978298611111111, 'voltage_v': 226.88098943986046, 'ambient_temp_c': 22.5}, {'temperature_current_c': 6.297505910719382, 'compressor_on': 1, 'door_open': 0, 'energy_consumption_kwh': 0.009783564814814814, 'voltage_v': 229.34775721693563, 'ambient_temp_c': 22.5}, {'temperature_current_c': 6.472856399897626, 'compressor_on': 1, 'door_open': 0, 'energy_consumption_kwh': 0.009784143518518518, 'voltage_v': 231.82272831543833, 'ambient_temp_c': 22.5}, {'temperature_current_c': 5.961566241479378, 'compressor_on': 1, 'door_open': 0, 'energy_consumption_kwh': 0.009784722222222222, 'voltage_v': 241.044932154526, 'ambient_temp_c': 22.5}, {'temperature_current_c': 6.18576925597274, 'compressor_on': 1, 'door_open': 0, 'energy_consumption_kwh': 0.009785300925925926, 'voltage_v': 227.09715616259373, 'ambient_temp_c': 22.5}, {'temperature_current_c': 5.914536336403019, 'compressor_on': 1, 'door_open': 0, 'energy_consumption_kwh': 0.00978587962962963, 'voltage_v': 239.5647183440761, 'ambient_temp_c': 22.5}, {'temperature_current_c': 6.6443197035409245, 'compressor_on': 1, 'door_open': 0, 'energy_consumption_kwh': 0.009786458333333335, 'voltage_v': 227.73799176913136, 'ambient_temp_c': 22.5}, {'temperature_current_c': 6.376217615164155, 'compressor_on': 1, 'door_open': 0, 'energy_consumption_kwh': 0.009787037037037037, 'voltage_v': 234.67547865585755, 'ambient_temp_c': 22.5}, {'temperature_current_c': 6.890619527019497, 'compressor_on': 1, 'door_open': 0, 'energy_consumption_kwh': 0.00978761574074074, 'voltage_v': 243.21767480270026, 'ambient_temp_c': 22.5}, {'temperature_current_c': 6.467991880387623, 'compressor_on': 1, 'door_open': 0, 'energy_consumption_kwh': 0.009788194444444445, 'voltage_v': 231.55635987295784, 'ambient_temp_c': 22.5}, {'temperature_current_c': 6.678932268414451, 'compressor_on': 1, 'door_open': 0, 'energy_consumption_kwh': 0.009788773148148149, 'voltage_v': 241.66320755034798, 'ambient_temp_c': 22.5}, {'temperature_current_c': 6.472929064994252, 'compressor_on': 1, 'door_open': 0, 'energy_consumption_kwh': 0.009789351851851851, 'voltage_v': 225.76839484072877, 'ambient_temp_c': 22.5}, {'temperature_current_c': 6.607811765698192, 'compressor_on': 1, 'door_open': 0, 'energy_consumption_kwh': 0.009789930555555555, 'voltage_v': 244.75320788934266, 'ambient_temp_c': 22.5}, {'temperature_current_c': 5.902335566820131, 'compressor_on': 1, 'door_open': 0, 'energy_consumption_kwh': 0.00979050925925926, 'voltage_v': 226.70933864336985, 'ambient_temp_c': 22.5}, {'temperature_current_c': 5.967248157593026, 'compressor_on': 1, 'door_open': 0, 'energy_consumption_kwh': 0.009791087962962963, 'voltage_v': 237.45928472879947, 'ambient_temp_c': 22.5}, {'temperature_current_c': 6.46136731076413, 'compressor_on': 1, 'door_open': 0, 'energy_consumption_kwh': 0.009791666666666667, 'voltage_v': 234.98374276027144, 'ambient_temp_c': 22.5}, {'temperature_current_c': 6.823401235058933, 'compressor_on': 1, 'door_open': 0, 'energy_consumption_kwh': 0.009792245370370371, 'voltage_v': 233.59150035416516, 'ambient_temp_c': 22.5}, {'temperature_current_c': 5.9800830615429685, 'compressor_on': 1, 'door_open': 0, 'energy_consumption_kwh': 0.009792824074074075, 'voltage_v': 227.60864121409955, 'ambient_temp_c': 22.5}, {'temperature_current_c': 6.108630102004112, 'compressor_on': 1, 'door_open': 0, 'energy_consumption_kwh': 0.009793402777777778, 'voltage_v': 237.82995427823087, 'ambient_temp_c': 22.5}, {'temperature_current_c': 6.359849741826404, 'compressor_on': 1, 'door_open': 0, 'energy_consumption_kwh': 0.009793981481481482, 'voltage_v': 243.24587055700832, 'ambient_temp_c': 22.5}, {'temperature_current_c': 5.981729847952542, 'compressor_on': 1, 'door_open': 0, 'energy_consumption_kwh': 0.009794560185185184, 'voltage_v': 228.34822328648156, 'ambient_temp_c': 22.5}, {'temperature_current_c': 6.320155003419303, 'compressor_on': 1, 'door_open': 0, 'energy_consumption_kwh': 0.00979513888888889, 'voltage_v': 241.62610793783037, 'ambient_temp_c': 22.5}, {'temperature_current_c': 6.36103013991309, 'compressor_on': 1, 'door_open': 0, 'energy_consumption_kwh': 0.009795717592592592, 'voltage_v': 226.62945517607704, 'ambient_temp_c': 22.5}, {'temperature_current_c': 6.852578276087141, 'compressor_on': 1, 'door_open': 0, 'energy_consumption_kwh': 0.009796296296296296, 'voltage_v': 236.4870818451146, 'ambient_temp_c': 22.5}, {'temperature_current_c': 6.550423189590074, 'compressor_on': 1, 'door_open': 0, 'energy_consumption_kwh': 0.009796875, 'voltage_v': 242.77326245515917, 'ambient_temp_c': 22.5}, {'temperature_current_c': 6.341530661313052, 'compressor_on': 1, 'door_open': 0, 'energy_consumption_kwh': 0.009797453703703704, 'voltage_v': 242.2480509639053, 'ambient_temp_c': 22.5}, {'temperature_current_c': 6.254160962043471, 'compressor_on': 1, 'door_open': 0, 'energy_consumption_kwh': 0.009798032407407408, 'voltage_v': 232.20420229234023, 'ambient_temp_c': 22.5}, {'temperature_current_c': 6.335680566330955, 'compressor_on': 1, 'door_open': 0, 'energy_consumption_kwh': 0.009798611111111112, 'voltage_v': 240.1905956657943, 'ambient_temp_c': 22.5}, {'temperature_current_c': 6.773144842054987, 'compressor_on': 1, 'door_open': 0, 'energy_consumption_kwh': 0.009799189814814816, 'voltage_v': 242.03516553136106, 'ambient_temp_c': 22.5}, {'temperature_current_c': 5.903402427263989, 'compressor_on': 1, 'door_open': 0, 'energy_consumption_kwh': 0.009799768518518518, 'voltage_v': 226.416434475415, 'ambient_temp_c': 22.5}, {'temperature_current_c': 6.8426318540547175, 'compressor_on': 1, 'door_open': 0, 'energy_consumption_kwh': 0.009800347222222222, 'voltage_v': 230.05378953720273, 'ambient_temp_c': 22.5}, {'temperature_current_c': 5.972872394499457, 'compressor_on': 1, 'door_open': 0, 'energy_consumption_kwh': 0.009800925925925925, 'voltage_v': 228.92587553215182, 'ambient_temp_c': 22.5}, {'temperature_current_c': 6.764961685810172, 'compressor_on': 1, 'door_open': 0, 'energy_consumption_kwh': 0.00980150462962963, 'voltage_v': 226.74182023493674, 'ambient_temp_c': 22.5}, {'temperature_current_c': 6.465137838686654, 'compressor_on': 1, 'door_open': 0, 'energy_consumption_kwh': 0.009802083333333333, 'voltage_v': 229.88830477250175, 'ambient_temp_c': 22.5}, {'temperature_current_c': 6.2516006472371455, 'compressor_on': 1, 'door_open': 0, 'energy_consumption_kwh': 0.009802662037037037, 'voltage_v': 242.7194304393601, 'ambient_temp_c': 22.5}, {'temperature_current_c': 6.4383554270041765, 'compressor_on': 1, 'door_open': 0, 'energy_consumption_kwh': 0.00980324074074074, 'voltage_v': 242.22774150120463, 'ambient_temp_c': 22.5}, {'temperature_current_c': 6.403114201499943, 'compressor_on': 1, 'door_open': 0, 'energy_consumption_kwh': 0.009803819444444445, 'voltage_v': 242.0551971483219, 'ambient_temp_c': 22.5}, {'temperature_current_c': 6.880240348408847, 'compressor_on': 1, 'door_open': 0, 'energy_consumption_kwh': 0.009804398148148149, 'voltage_v': 240.33346992147375, 'ambient_temp_c': 22.5}, {'temperature_current_c': 6.569527670288055, 'compressor_on': 1, 'door_open': 0, 'energy_consumption_kwh': 0.009804976851851853, 'voltage_v': 241.72597092024407, 'ambient_temp_c': 22.5}, {'temperature_current_c': 6.302070246298805, 'compressor_on': 1, 'door_open': 0, 'energy_consumption_kwh': 0.009805555555555557, 'voltage_v': 242.14445703487172, 'ambient_temp_c': 22.5}, {'temperature_current_c': 6.545797657094493, 'compressor_on': 1, 'door_open': 0, 'energy_consumption_kwh': 0.00980613425925926, 'voltage_v': 227.89712821290607, 'ambient_temp_c': 22.5}, {'temperature_current_c': 6.280903021310296, 'compressor_on': 1, 'door_open': 0, 'energy_consumption_kwh': 0.009806712962962963, 'voltage_v': 242.67838668433606, 'ambient_temp_c': 22.5}, {'temperature_current_c': 6.808092479562492, 'compressor_on': 1, 'door_open': 0, 'energy_consumption_kwh': 0.009807291666666666, 'voltage_v': 237.63771386166064, 'ambient_temp_c': 22.5}, {'temperature_current_c': 6.275452578146561, 'compressor_on': 1, 'door_open': 0, 'energy_consumption_kwh': 0.00980787037037037, 'voltage_v': 241.6642846860256, 'ambient_temp_c': 22.5}, {'temperature_current_c': 6.8349293728954095, 'compressor_on': 1, 'door_open': 0, 'energy_consumption_kwh': 0.009808449074074074, 'voltage_v': 225.89570610360886, 'ambient_temp_c': 22.5}, {'temperature_current_c': 6.3268222008866015, 'compressor_on': 1, 'door_open': 0, 'energy_consumption_kwh': 0.009809027777777778, 'voltage_v': 244.5454183551287, 'ambient_temp_c': 22.5}, {'temperature_current_c': 6.202451715210864, 'compressor_on': 1, 'door_open': 0, 'energy_consumption_kwh': 0.009809606481481482, 'voltage_v': 231.05891317484017, 'ambient_temp_c': 22.5}, {'temperature_current_c': 6.670961343469107, 'compressor_on': 1, 'door_open': 0, 'energy_consumption_kwh': 0.009810185185185186, 'voltage_v': 232.54022926862123, 'ambient_temp_c': 22.5}, {'temperature_current_c': 6.635178971083251, 'compressor_on': 1, 'door_open': 0, 'energy_consumption_kwh': 0.00981076388888889, 'voltage_v': 230.95867351255288, 'ambient_temp_c': 22.5}, {'temperature_current_c': 6.534053085891491, 'compressor_on': 1, 'door_open': 0, 'energy_consumption_kwh': 0.009811342592592594, 'voltage_v': 242.33764982735124, 'ambient_temp_c': 22.5}, {'temperature_current_c': 6.805172843145053, 'compressor_on': 1, 'door_open': 0, 'energy_consumption_kwh': 0.009811921296296298, 'voltage_v': 229.8506834031994, 'ambient_temp_c': 22.5}, {'temperature_current_c': 6.648645057123501, 'compressor_on': 1, 'door_open': 0, 'energy_consumption_kwh': 0.0098125, 'voltage_v': 244.44176587294186, 'ambient_temp_c': 22.5}, {'temperature_current_c': 6.761442980043324, 'compressor_on': 1, 'door_open': 0, 'energy_consumption_kwh': 0.009813078703703704, 'voltage_v': 239.37715045383104, 'ambient_temp_c': 22.5}, {'temperature_current_c': 6.480114991480143, 'compressor_on': 1, 'door_open': 0, 'energy_consumption_kwh': 0.009813657407407406, 'voltage_v': 233.59134320733315, 'ambient_temp_c': 22.5}, {'temperature_current_c': 6.37595548514765, 'compressor_on': 1, 'door_open': 0, 'energy_consumption_kwh': 0.00981423611111111, 'voltage_v': 242.91621344322567, 'ambient_temp_c': 22.5}, {'temperature_current_c': 5.9754115646658175, 'compressor_on': 1, 'door_open': 0, 'energy_consumption_kwh': 0.009814814814814814, 'voltage_v': 230.36633039316928, 'ambient_temp_c': 22.5}, {'temperature_current_c': 6.331733339153603, 'compressor_on': 1, 'door_open': 0, 'energy_consumption_kwh': 0.009815393518518518, 'voltage_v': 240.2228223174374, 'ambient_temp_c': 22.5}, {'temperature_current_c': 6.70402216295026, 'compressor_on': 1, 'door_open': 0, 'energy_consumption_kwh': 0.009815972222222222, 'voltage_v': 230.73903550418194, 'ambient_temp_c': 22.5}, {'temperature_current_c': 6.415885104691555, 'compressor_on': 1, 'door_open': 0, 'energy_consumption_kwh': 0.009816550925925926, 'voltage_v': 243.9358333164237, 'ambient_temp_c': 22.5}, {'temperature_current_c': 6.067743096445584, 'compressor_on': 1, 'door_open': 0, 'energy_consumption_kwh': 0.00981712962962963, 'voltage_v': 229.7749028139564, 'ambient_temp_c': 22.5}, {'temperature_current_c': 6.349127704943733, 'compressor_on': 1, 'door_open': 0, 'energy_consumption_kwh': 0.009817708333333335, 'voltage_v': 244.8573861590119, 'ambient_temp_c': 22.5}, {'temperature_current_c': 6.090786497888901, 'compressor_on': 1, 'door_open': 0, 'energy_consumption_kwh': 0.009818287037037037, 'voltage_v': 225.20681034387113, 'ambient_temp_c': 22.5}, {'temperature_current_c': 6.2611482593229155, 'compressor_on': 1, 'door_open': 0, 'energy_consumption_kwh': 0.00981886574074074, 'voltage_v': 242.31841646937482, 'ambient_temp_c': 22.5}, {'temperature_current_c': 6.318979553058783, 'compressor_on': 1, 'door_open': 0, 'energy_consumption_kwh': 0.009819444444444445, 'voltage_v': 233.85194547836673, 'ambient_temp_c': 22.5}, {'temperature_current_c': 6.0114600245683345, 'compressor_on': 1, 'door_open': 0, 'energy_consumption_kwh': 0.009820023148148147, 'voltage_v': 243.29634621964894, 'ambient_temp_c': 22.5}, {'temperature_current_c': 5.997870342345987, 'compressor_on': 1, 'door_open': 0, 'energy_consumption_kwh': 0.009820601851851851, 'voltage_v': 236.55412435278356, 'ambient_temp_c': 22.5}, {'temperature_current_c': 6.391203009748758, 'compressor_on': 1, 'door_open': 0, 'energy_consumption_kwh': 0.009821180555555555, 'voltage_v': 240.8957166830442, 'ambient_temp_c': 22.5}, {'temperature_current_c': 6.5266199721285885, 'compressor_on': 1, 'door_open': 0, 'energy_consumption_kwh': 0.00982175925925926, 'voltage_v': 229.42863535159736, 'ambient_temp_c': 22.5}, {'temperature_current_c': 6.586393670453747, 'compressor_on': 1, 'door_open': 0, 'energy_consumption_kwh': 0.009822337962962963, 'voltage_v': 226.36186043485785, 'ambient_temp_c': 22.5}, {'temperature_current_c': 6.246835599350472, 'compressor_on': 1, 'door_open': 0, 'energy_consumption_kwh': 0.009822916666666667, 'voltage_v': 235.03714882080595, 'ambient_temp_c': 22.5}, {'temperature_current_c': 6.680274932554905, 'compressor_on': 1, 'door_open': 0, 'energy_consumption_kwh': 0.009823495370370371, 'voltage_v': 243.7660127374803, 'ambient_temp_c': 22.5}, {'temperature_current_c': 6.280751739695843, 'compressor_on': 1, 'door_open': 0, 'energy_consumption_kwh': 0.009824074074074075, 'voltage_v': 241.5924085704574, 'ambient_temp_c': 22.5}, {'temperature_current_c': 6.37848238278931, 'compressor_on': 1, 'door_open': 0, 'energy_consumption_kwh': 0.009824652777777778, 'voltage_v': 230.19193850650564, 'ambient_temp_c': 22.5}, {'temperature_current_c': 6.377453122649988, 'compressor_on': 1, 'door_open': 0, 'energy_consumption_kwh': 0.009825231481481482, 'voltage_v': 241.22921302718913, 'ambient_temp_c': 22.5}, {'temperature_current_c': 6.112172893867373, 'compressor_on': 1, 'door_open': 0, 'energy_consumption_kwh': 0.009825810185185186, 'voltage_v': 242.84263672726706, 'ambient_temp_c': 22.5}, {'temperature_current_c': 6.884451341061418, 'compressor_on': 1, 'door_open': 0, 'energy_consumption_kwh': 0.009826388888888888, 'voltage_v': 230.37729027784485, 'ambient_temp_c': 22.5}, {'temperature_current_c': 5.936304442769557, 'compressor_on': 1, 'door_open': 0, 'energy_consumption_kwh': 0.009826967592592592, 'voltage_v': 232.10885754688843, 'ambient_temp_c': 22.5}, {'temperature_current_c': 6.278165713690056, 'compressor_on': 1, 'door_open': 0, 'energy_consumption_kwh': 0.009827546296296296, 'voltage_v': 238.76980483328708, 'ambient_temp_c': 22.5}, {'temperature_current_c': 5.970607867151877, 'compressor_on': 1, 'door_open': 0, 'energy_consumption_kwh': 0.009828125, 'voltage_v': 243.66629969940053, 'ambient_temp_c': 22.5}, {'temperature_current_c': 6.55876513536184, 'compressor_on': 1, 'door_open': 0, 'energy_consumption_kwh': 0.009828703703703704, 'voltage_v': 234.42600347112736, 'ambient_temp_c': 22.5}, {'temperature_current_c': 6.287135125725992, 'compressor_on': 1, 'door_open': 0, 'energy_consumption_kwh': 0.009829282407407408, 'voltage_v': 227.77270074741296, 'ambient_temp_c': 22.5}, {'temperature_current_c': 6.3443244679068815, 'compressor_on': 1, 'door_open': 0, 'energy_consumption_kwh': 0.009829861111111112, 'voltage_v': 234.8226782568571, 'ambient_temp_c': 22.5}, {'temperature_current_c': 6.7543125567240505, 'compressor_on': 1, 'door_open': 0, 'energy_consumption_kwh': 0.009830439814814816, 'voltage_v': 230.19740718219782, 'ambient_temp_c': 22.5}, {'temperature_current_c': 6.574364377755256, 'compressor_on': 1, 'door_open': 0, 'energy_consumption_kwh': 0.009831018518518518, 'voltage_v': 233.68165648091954, 'ambient_temp_c': 22.5}, {'temperature_current_c': 6.365653987263286, 'compressor_on': 1, 'door_open': 0, 'energy_consumption_kwh': 0.009831597222222222, 'voltage_v': 238.28914704669685, 'ambient_temp_c': 22.5}, {'temperature_current_c': 6.107325955556361, 'compressor_on': 1, 'door_open': 0, 'energy_consumption_kwh': 0.009832175925925926, 'voltage_v': 235.54816045774407, 'ambient_temp_c': 22.5}, {'temperature_current_c': 6.085902141950043, 'compressor_on': 1, 'door_open': 0, 'energy_consumption_kwh': 0.009832754629629629, 'voltage_v': 236.0060300584978, 'ambient_temp_c': 22.5}, {'temperature_current_c': 6.816340125709509, 'compressor_on': 1, 'door_open': 0, 'energy_consumption_kwh': 0.009833333333333333, 'voltage_v': 244.10068419662434, 'ambient_temp_c': 22.5}, {'temperature_current_c': 5.9629774136696305, 'compressor_on': 1, 'door_open': 0, 'energy_consumption_kwh': 0.009833912037037037, 'voltage_v': 237.6418316444184, 'ambient_temp_c': 22.5}, {'temperature_current_c': 6.04210934092246, 'compressor_on': 1, 'door_open': 0, 'energy_consumption_kwh': 0.00983449074074074, 'voltage_v': 241.7749646223782, 'ambient_temp_c': 22.5}, {'temperature_current_c': 6.522470603196086, 'compressor_on': 1, 'door_open': 0, 'energy_consumption_kwh': 0.009835069444444445, 'voltage_v': 244.2609242970005, 'ambient_temp_c': 22.5}, {'temperature_current_c': 6.652277853721336, 'compressor_on': 1, 'door_open': 0, 'energy_consumption_kwh': 0.009835648148148149, 'voltage_v': 234.46193899864187, 'ambient_temp_c': 22.5}, {'temperature_current_c': 5.923114013319493, 'compressor_on': 1, 'door_open': 0, 'energy_consumption_kwh': 0.009836226851851853, 'voltage_v': 244.16897732603954, 'ambient_temp_c': 22.5}, {'temperature_current_c': 6.238504089949581, 'compressor_on': 1, 'door_open': 0, 'energy_consumption_kwh': 0.009836805555555557, 'voltage_v': 241.29017487279637, 'ambient_temp_c': 22.5}, {'temperature_current_c': 6.88387990459692, 'compressor_on': 1, 'door_open': 0, 'energy_consumption_kwh': 0.00983738425925926, 'voltage_v': 238.63129863584658, 'ambient_temp_c': 22.5}, {'temperature_current_c': 6.292561636521576, 'compressor_on': 1, 'door_open': 0, 'energy_consumption_kwh': 0.009837962962962963, 'voltage_v': 239.51419185442882, 'ambient_temp_c': 22.5}, {'temperature_current_c': 6.552881550378214, 'compressor_on': 1, 'door_open': 0, 'energy_consumption_kwh': 0.009838541666666666, 'voltage_v': 229.57116358618498, 'ambient_temp_c': 22.5}, {'temperature_current_c': 6.031167940999463, 'compressor_on': 1, 'door_open': 0, 'energy_consumption_kwh': 0.00983912037037037, 'voltage_v': 226.74806101604216, 'ambient_temp_c': 22.5}, {'temperature_current_c': 6.672787605160462, 'compressor_on': 1, 'door_open': 0, 'energy_consumption_kwh': 0.009839699074074074, 'voltage_v': 241.5619146245532, 'ambient_temp_c': 22.5}, {'temperature_current_c': 6.464033343467813, 'compressor_on': 1, 'door_open': 0, 'energy_consumption_kwh': 0.009840277777777778, 'voltage_v': 232.89795186476226, 'ambient_temp_c': 22.5}, {'temperature_current_c': 5.992979955116166, 'compressor_on': 1, 'door_open': 0, 'energy_consumption_kwh': 0.009840856481481482, 'voltage_v': 229.66149254316707, 'ambient_temp_c': 22.5}, {'temperature_current_c': 6.392685958252618, 'compressor_on': 1, 'door_open': 0, 'energy_consumption_kwh': 0.009841435185185186, 'voltage_v': 230.33820466432542, 'ambient_temp_c': 22.5}, {'temperature_current_c': 6.145696844280897, 'compressor_on': 1, 'door_open': 0, 'energy_consumption_kwh': 0.00984201388888889, 'voltage_v': 244.3273515366613, 'ambient_temp_c': 22.5}, {'temperature_current_c': 6.580479928831199, 'compressor_on': 1, 'door_open': 0, 'energy_consumption_kwh': 0.009842592592592594, 'voltage_v': 239.33760705272454, 'ambient_temp_c': 22.5}, {'temperature_current_c': 6.763217022606662, 'compressor_on': 1, 'door_open': 0, 'energy_consumption_kwh': 0.009843171296296298, 'voltage_v': 231.3104316983817, 'ambient_temp_c': 22.5}, {'temperature_current_c': 6.273838065938756, 'compressor_on': 1, 'door_open': 0, 'energy_consumption_kwh': 0.00984375, 'voltage_v': 237.49792612568567, 'ambient_temp_c': 22.5}, {'temperature_current_c': 5.941328256989955, 'compressor_on': 1, 'door_open': 0, 'energy_consumption_kwh': 0.009844328703703704, 'voltage_v': 237.892315181235, 'ambient_temp_c': 22.5}, {'temperature_current_c': 6.507699350088036, 'compressor_on': 1, 'door_open': 0, 'energy_consumption_kwh': 0.009844907407407406, 'voltage_v': 232.2324881328163, 'ambient_temp_c': 22.5}, {'temperature_current_c': 6.29926412899984, 'compressor_on': 1, 'door_open': 0, 'energy_consumption_kwh': 0.00984548611111111, 'voltage_v': 232.79753858780012, 'ambient_temp_c': 22.5}, {'temperature_current_c': 6.0043851099699115, 'compressor_on': 1, 'door_open': 0, 'energy_consumption_kwh': 0.009846064814814814, 'voltage_v': 226.25537147086413, 'ambient_temp_c': 22.5}, {'temperature_current_c': 6.590545112408473, 'compressor_on': 1, 'door_open': 0, 'energy_consumption_kwh': 0.009846643518518518, 'voltage_v': 227.69070264030248, 'ambient_temp_c': 22.5}, {'temperature_current_c': 6.208381430969522, 'compressor_on': 1, 'door_open': 0, 'energy_consumption_kwh': 0.009847222222222222, 'voltage_v': 234.61151442866358, 'ambient_temp_c': 22.5}, {'temperature_current_c': 6.201945164035321, 'compressor_on': 1, 'door_open': 0, 'energy_consumption_kwh': 0.009847800925925927, 'voltage_v': 231.7827031400333, 'ambient_temp_c': 22.5}, {'temperature_current_c': 6.602312384759499, 'compressor_on': 1, 'door_open': 0, 'energy_consumption_kwh': 0.00984837962962963, 'voltage_v': 236.4034746679785, 'ambient_temp_c': 22.5}, {'temperature_current_c': 6.73243926217586, 'compressor_on': 1, 'door_open': 0, 'energy_consumption_kwh': 0.009848958333333335, 'voltage_v': 235.53165873073544, 'ambient_temp_c': 22.5}, {'temperature_current_c': 6.746342627437494, 'compressor_on': 1, 'door_open': 0, 'energy_consumption_kwh': 0.009849537037037039, 'voltage_v': 231.0298089606492, 'ambient_temp_c': 22.5}, {'temperature_current_c': 6.7849137325150775, 'compressor_on': 1, 'door_open': 0, 'energy_consumption_kwh': 0.009850115740740741, 'voltage_v': 226.89020984740122, 'ambient_temp_c': 22.5}, {'temperature_current_c': 6.23217424914832, 'compressor_on': 1, 'door_open': 0, 'energy_consumption_kwh': 0.009850694444444445, 'voltage_v': 241.62512165642343, 'ambient_temp_c': 22.5}, {'temperature_current_c': 5.930476842139523, 'compressor_on': 1, 'door_open': 0, 'energy_consumption_kwh': 0.009851273148148147, 'voltage_v': 230.19465641832258, 'ambient_temp_c': 22.5}, {'temperature_current_c': 6.136970937420597, 'compressor_on': 1, 'door_open': 0, 'energy_consumption_kwh': 0.009851851851851851, 'voltage_v': 233.8708641070792, 'ambient_temp_c': 22.5}, {'temperature_current_c': 6.3083633176703255, 'compressor_on': 1, 'door_open': 0, 'energy_consumption_kwh': 0.009852430555555555, 'voltage_v': 227.18145651684267, 'ambient_temp_c': 22.5}, {'temperature_current_c': 6.110622811715188, 'compressor_on': 1, 'door_open': 0, 'energy_consumption_kwh': 0.00985300925925926, 'voltage_v': 234.8802179957991, 'ambient_temp_c': 22.5}, {'temperature_current_c': 6.2988734727638676, 'compressor_on': 1, 'door_open': 0, 'energy_consumption_kwh': 0.009853587962962963, 'voltage_v': 243.78954505738386, 'ambient_temp_c': 22.5}, {'temperature_current_c': 6.686652709444148, 'compressor_on': 1, 'door_open': 0, 'energy_consumption_kwh': 0.009854166666666667, 'voltage_v': 231.24386927639983, 'ambient_temp_c': 22.5}, {'temperature_current_c': 6.77267822180359, 'compressor_on': 1, 'door_open': 0, 'energy_consumption_kwh': 0.009854745370370371, 'voltage_v': 244.60494094990406, 'ambient_temp_c': 22.5}, {'temperature_current_c': 6.284825867304093, 'compressor_on': 1, 'door_open': 0, 'energy_consumption_kwh': 0.009855324074074074, 'voltage_v': 233.34004965771064, 'ambient_temp_c': 22.5}, {'temperature_current_c': 6.5759679661909765, 'compressor_on': 1, 'door_open': 0, 'energy_consumption_kwh': 0.00985590277777778, 'voltage_v': 229.85745871988777, 'ambient_temp_c': 22.5}, {'temperature_current_c': 6.236724405793293, 'compressor_on': 1, 'door_open': 0, 'energy_consumption_kwh': 0.009856481481481482, 'voltage_v': 243.29547711550467, 'ambient_temp_c': 22.5}, {'temperature_current_c': 6.2321847567496516, 'compressor_on': 1, 'door_open': 0, 'energy_consumption_kwh': 0.009857060185185186, 'voltage_v': 232.29992513067484, 'ambient_temp_c': 22.5}, {'temperature_current_c': 6.60241899875012, 'compressor_on': 1, 'door_open': 0, 'energy_consumption_kwh': 0.009857638888888888, 'voltage_v': 229.48424656553476, 'ambient_temp_c': 22.5}, {'temperature_current_c': 6.100503969866141, 'compressor_on': 1, 'door_open': 0, 'energy_consumption_kwh': 0.009858217592592592, 'voltage_v': 243.13183623694886, 'ambient_temp_c': 22.5}, {'temperature_current_c': 6.45928486820393, 'compressor_on': 1, 'door_open': 0, 'energy_consumption_kwh': 0.009858796296296296, 'voltage_v': 243.99683389083336, 'ambient_temp_c': 22.5}, {'temperature_current_c': 6.200654373391393, 'compressor_on': 1, 'door_open': 0, 'energy_consumption_kwh': 0.009859375, 'voltage_v': 239.61412811005874, 'ambient_temp_c': 22.5}, {'temperature_current_c': 6.816009280184634, 'compressor_on': 1, 'door_open': 0, 'energy_consumption_kwh': 0.009859953703703704, 'voltage_v': 238.24658652494398, 'ambient_temp_c': 22.5}, {'temperature_current_c': 6.710905993513075, 'compressor_on': 1, 'door_open': 0, 'energy_consumption_kwh': 0.009860532407407408, 'voltage_v': 236.74504149201138, 'ambient_temp_c': 22.5}, {'temperature_current_c': 6.518650273064203, 'compressor_on': 1, 'door_open': 0, 'energy_consumption_kwh': 0.009861111111111112, 'voltage_v': 235.02951287309114, 'ambient_temp_c': 22.5}, {'temperature_current_c': 6.7713801424592175, 'compressor_on': 1, 'door_open': 0, 'energy_consumption_kwh': 0.009861689814814814, 'voltage_v': 239.3223942725484, 'ambient_temp_c': 22.5}, {'temperature_current_c': 6.464111658231873, 'compressor_on': 1, 'door_open': 0, 'energy_consumption_kwh': 0.009862268518518518, 'voltage_v': 238.97579040151322, 'ambient_temp_c': 22.5}, {'temperature_current_c': 6.05974782915588, 'compressor_on': 1, 'door_open': 0, 'energy_consumption_kwh': 0.009862847222222223, 'voltage_v': 235.9003212004817, 'ambient_temp_c': 22.5}, {'temperature_current_c': 6.8649061881831575, 'compressor_on': 1, 'door_open': 0, 'energy_consumption_kwh': 0.009863425925925927, 'voltage_v': 228.34563345151875, 'ambient_temp_c': 22.5}, {'temperature_current_c': 6.438263251445102, 'compressor_on': 1, 'door_open': 0, 'energy_consumption_kwh': 0.009864004629629629, 'voltage_v': 230.86166572297466, 'ambient_temp_c': 22.5}, {'temperature_current_c': 6.497718395794312, 'compressor_on': 1, 'door_open': 0, 'energy_consumption_kwh': 0.009864583333333333, 'voltage_v': 229.08617196763743, 'ambient_temp_c': 22.5}, {'temperature_current_c': 6.1165683533522905, 'compressor_on': 1, 'door_open': 0, 'energy_consumption_kwh': 0.009865162037037037, 'voltage_v': 226.53425911375896, 'ambient_temp_c': 22.5}, {'temperature_current_c': 6.703341291151886, 'compressor_on': 1, 'door_open': 0, 'energy_consumption_kwh': 0.009865740740740741, 'voltage_v': 230.33302072870518, 'ambient_temp_c': 22.5}, {'temperature_current_c': 6.864429533791881, 'compressor_on': 1, 'door_open': 0, 'energy_consumption_kwh': 0.009866319444444445, 'voltage_v': 237.48281393174113, 'ambient_temp_c': 22.5}, {'temperature_current_c': 6.573426838528141, 'compressor_on': 1, 'door_open': 0, 'energy_consumption_kwh': 0.009866898148148149, 'voltage_v': 230.38583802018084, 'ambient_temp_c': 22.5}, {'temperature_current_c': 6.319204356979531, 'compressor_on': 1, 'door_open': 0, 'energy_consumption_kwh': 0.009867476851851853, 'voltage_v': 241.68222857312855, 'ambient_temp_c': 22.5}, {'temperature_current_c': 6.558317049271141, 'compressor_on': 1, 'door_open': 0, 'energy_consumption_kwh': 0.009868055555555555, 'voltage_v': 226.41203839446635, 'ambient_temp_c': 22.5}, {'temperature_current_c': 6.414081056893455, 'compressor_on': 1, 'door_open': 0, 'energy_consumption_kwh': 0.00986863425925926, 'voltage_v': 226.7074126383643, 'ambient_temp_c': 22.5}, {'temperature_current_c': 6.358955150706735, 'compressor_on': 1, 'door_open': 0, 'energy_consumption_kwh': 0.009869212962962963, 'voltage_v': 231.64505807609387, 'ambient_temp_c': 22.5}, {'temperature_current_c': 6.327193787854248, 'compressor_on': 1, 'door_open': 0, 'energy_consumption_kwh': 0.009869791666666667, 'voltage_v': 230.88691451962777, 'ambient_temp_c': 22.5}, {'temperature_current_c': 5.995815468767622, 'compressor_on': 1, 'door_open': 0, 'energy_consumption_kwh': 0.00987037037037037, 'voltage_v': 244.00737877235832, 'ambient_temp_c': 22.5}, {'temperature_current_c': 6.464447263456173, 'compressor_on': 1, 'door_open': 0, 'energy_consumption_kwh': 0.009870949074074074, 'voltage_v': 236.63250385860505, 'ambient_temp_c': 22.5}, {'temperature_current_c': 6.321198829502935, 'compressor_on': 1, 'door_open': 0, 'energy_consumption_kwh': 0.009871527777777778, 'voltage_v': 236.0014294997636, 'ambient_temp_c': 22.5}, {'temperature_current_c': 6.0513788046134565, 'compressor_on': 1, 'door_open': 0, 'energy_consumption_kwh': 0.009872106481481482, 'voltage_v': 235.09549063747147, 'ambient_temp_c': 22.5}, {'temperature_current_c': 6.6217339971915585, 'compressor_on': 1, 'door_open': 0, 'energy_consumption_kwh': 0.009872685185185186, 'voltage_v': 237.93855397202907, 'ambient_temp_c': 22.5}, {'temperature_current_c': 6.617026074396561, 'compressor_on': 1, 'door_open': 0, 'energy_consumption_kwh': 0.00987326388888889, 'voltage_v': 236.30124879390254, 'ambient_temp_c': 22.5}, {'temperature_current_c': 6.9099118903072, 'compressor_on': 1, 'door_open': 0, 'energy_consumption_kwh': 0.009873842592592594, 'voltage_v': 240.57836122131735, 'ambient_temp_c': 22.5}, {'temperature_current_c': 6.5578159575708215, 'compressor_on': 1, 'door_open': 0, 'energy_consumption_kwh': 0.009874421296296296, 'voltage_v': 244.06311464000004, 'ambient_temp_c': 22.5}, {'temperature_current_c': 6.420678362565536, 'compressor_on': 1, 'door_open': 0, 'energy_consumption_kwh': 0.009875, 'voltage_v': 236.60414698486028, 'ambient_temp_c': 22.5}, {'temperature_current_c': 6.359431498435713, 'compressor_on': 1, 'door_open': 0, 'energy_consumption_kwh': 0.009875578703703704, 'voltage_v': 227.86931738432108, 'ambient_temp_c': 22.5}, {'temperature_current_c': 6.7577373017810665, 'compressor_on': 1, 'door_open': 0, 'energy_consumption_kwh': 0.009876157407407408, 'voltage_v': 238.52916045973524, 'ambient_temp_c': 22.5}, {'temperature_current_c': 6.267397056947877, 'compressor_on': 1, 'door_open': 0, 'energy_consumption_kwh': 0.00987673611111111, 'voltage_v': 228.32584070234387, 'ambient_temp_c': 22.5}, {'temperature_current_c': 5.986652736861508, 'compressor_on': 1, 'door_open': 0, 'energy_consumption_kwh': 0.009877314814814814, 'voltage_v': 237.86834020203406, 'ambient_temp_c': 22.5}, {'temperature_current_c': 6.510785380376799, 'compressor_on': 1, 'door_open': 0, 'energy_consumption_kwh': 0.009877893518518518, 'voltage_v': 241.47852514449124, 'ambient_temp_c': 22.5}, {'temperature_current_c': 6.555456978171367, 'compressor_on': 1, 'door_open': 0, 'energy_consumption_kwh': 0.009878472222222223, 'voltage_v': 244.76688253261258, 'ambient_temp_c': 22.5}, {'temperature_current_c': 6.57678076433617, 'compressor_on': 1, 'door_open': 0, 'energy_consumption_kwh': 0.009879050925925927, 'voltage_v': 232.4313028382115, 'ambient_temp_c': 22.5}, {'temperature_current_c': 6.328403316190326, 'compressor_on': 1, 'door_open': 0, 'energy_consumption_kwh': 0.00987962962962963, 'voltage_v': 231.67224797377673, 'ambient_temp_c': 22.5}, {'temperature_current_c': 6.056023500541839, 'compressor_on': 1, 'door_open': 0, 'energy_consumption_kwh': 0.009880208333333335, 'voltage_v': 228.99214512526945, 'ambient_temp_c': 22.5}, {'temperature_current_c': 5.946918511675213, 'compressor_on': 1, 'door_open': 0, 'energy_consumption_kwh': 0.009880787037037037, 'voltage_v': 242.85729226586878, 'ambient_temp_c': 22.5}, {'temperature_current_c': 6.580904602080804, 'compressor_on': 1, 'door_open': 0, 'energy_consumption_kwh': 0.009881365740740741, 'voltage_v': 236.75502183597746, 'ambient_temp_c': 22.5}, {'temperature_current_c': 6.5245124117369855, 'compressor_on': 1, 'door_open': 0, 'energy_consumption_kwh': 0.009881944444444445, 'voltage_v': 244.98908219865265, 'ambient_temp_c': 22.5}, {'temperature_current_c': 6.155636359874256, 'compressor_on': 1, 'door_open': 0, 'energy_consumption_kwh': 0.009882523148148147, 'voltage_v': 230.31239502747326, 'ambient_temp_c': 22.5}, {'temperature_current_c': 6.165080512727693, 'compressor_on': 1, 'door_open': 0, 'energy_consumption_kwh': 0.009883101851851851, 'voltage_v': 237.36429913251266, 'ambient_temp_c': 22.5}, {'temperature_current_c': 6.798923730067904, 'compressor_on': 1, 'door_open': 0, 'energy_consumption_kwh': 0.009883680555555555, 'voltage_v': 225.80629874325368, 'ambient_temp_c': 22.5}, {'temperature_current_c': 6.112791945730049, 'compressor_on': 1, 'door_open': 0, 'energy_consumption_kwh': 0.00988425925925926, 'voltage_v': 234.10711752823087, 'ambient_temp_c': 22.5}, {'temperature_current_c': 6.243447045425642, 'compressor_on': 1, 'door_open': 0, 'energy_consumption_kwh': 0.009884837962962963, 'voltage_v': 234.15018150079072, 'ambient_temp_c': 22.5}, {'temperature_current_c': 5.947921557621481, 'compressor_on': 1, 'door_open': 0, 'energy_consumption_kwh': 0.009885416666666667, 'voltage_v': 235.00401354237098, 'ambient_temp_c': 22.5}, {'temperature_current_c': 6.787139332428401, 'compressor_on': 1, 'door_open': 0, 'energy_consumption_kwh': 0.009885995370370371, 'voltage_v': 240.3015388356973, 'ambient_temp_c': 22.5}, {'temperature_current_c': 6.114349249719524, 'compressor_on': 1, 'door_open': 0, 'energy_consumption_kwh': 0.009886574074074075, 'voltage_v': 239.69031707232588, 'ambient_temp_c': 22.5}, {'temperature_current_c': 6.828014003238655, 'compressor_on': 1, 'door_open': 0, 'energy_consumption_kwh': 0.009887152777777778, 'voltage_v': 240.52401950397484, 'ambient_temp_c': 22.5}, {'temperature_current_c': 6.5594126487377356, 'compressor_on': 1, 'door_open': 0, 'energy_consumption_kwh': 0.009887731481481482, 'voltage_v': 243.82282281713387, 'ambient_temp_c': 22.5}, {'temperature_current_c': 5.947643010668143, 'compressor_on': 1, 'door_open': 0, 'energy_consumption_kwh': 0.009888310185185186, 'voltage_v': 241.90534416431814, 'ambient_temp_c': 22.5}, {'temperature_current_c': 6.661905932246089, 'compressor_on': 1, 'door_open': 0, 'energy_consumption_kwh': 0.009888888888888888, 'voltage_v': 239.2538369347526, 'ambient_temp_c': 22.5}, {'temperature_current_c': 6.389115124211279, 'compressor_on': 1, 'door_open': 0, 'energy_consumption_kwh': 0.009889467592592592, 'voltage_v': 236.8377351298835, 'ambient_temp_c': 22.5}, {'temperature_current_c': 6.483782253560143, 'compressor_on': 1, 'door_open': 0, 'energy_consumption_kwh': 0.009890046296296296, 'voltage_v': 243.45293912941727, 'ambient_temp_c': 22.5}, {'temperature_current_c': 6.612357677044726, 'compressor_on': 1, 'door_open': 0, 'energy_consumption_kwh': 0.009890625, 'voltage_v': 237.69213511228247, 'ambient_temp_c': 22.5}, {'temperature_current_c': 6.7251250746896, 'compressor_on': 1, 'door_open': 0, 'energy_consumption_kwh': 0.009891203703703704, 'voltage_v': 227.10197235405462, 'ambient_temp_c': 22.5}, {'temperature_current_c': 6.834976547231776, 'compressor_on': 1, 'door_open': 0, 'energy_consumption_kwh': 0.009891782407407408, 'voltage_v': 230.9721485556331, 'ambient_temp_c': 22.5}, {'temperature_current_c': 6.822545935247343, 'compressor_on': 1, 'door_open': 0, 'energy_consumption_kwh': 0.009892361111111112, 'voltage_v': 227.63645553376818, 'ambient_temp_c': 22.5}, {'temperature_current_c': 6.469786973360057, 'compressor_on': 1, 'door_open': 0, 'energy_consumption_kwh': 0.009892939814814814, 'voltage_v': 230.02173854353788, 'ambient_temp_c': 22.5}, {'temperature_current_c': 5.950015760584168, 'compressor_on': 1, 'door_open': 0, 'energy_consumption_kwh': 0.009893518518518519, 'voltage_v': 228.75688244262145, 'ambient_temp_c': 22.5}, {'temperature_current_c': 6.305294079663245, 'compressor_on': 1, 'door_open': 0, 'energy_consumption_kwh': 0.009894097222222223, 'voltage_v': 229.25672355521624, 'ambient_temp_c': 22.5}, {'temperature_current_c': 6.720259443535053, 'compressor_on': 1, 'door_open': 0, 'energy_consumption_kwh': 0.009894675925925927, 'voltage_v': 244.03138777856702, 'ambient_temp_c': 22.5}, {'temperature_current_c': 6.595649867755762, 'compressor_on': 1, 'door_open': 0, 'energy_consumption_kwh': 0.009895254629629629, 'voltage_v': 225.4467390024785, 'ambient_temp_c': 22.5}, {'temperature_current_c': 6.272631272021212, 'compressor_on': 1, 'door_open': 0, 'energy_consumption_kwh': 0.009895833333333333, 'voltage_v': 241.5090801112123, 'ambient_temp_c': 22.5}, {'temperature_current_c': 6.756251011627837, 'compressor_on': 1, 'door_open': 0, 'energy_consumption_kwh': 0.009896412037037037, 'voltage_v': 225.04793105336756, 'ambient_temp_c': 22.5}, {'temperature_current_c': 6.818579758039295, 'compressor_on': 1, 'door_open': 0, 'energy_consumption_kwh': 0.009896990740740741, 'voltage_v': 225.73834835046276, 'ambient_temp_c': 22.5}, {'temperature_current_c': 6.171395760710073, 'compressor_on': 1, 'door_open': 0, 'energy_consumption_kwh': 0.009897569444444445, 'voltage_v': 240.91445137207347, 'ambient_temp_c': 22.5}, {'temperature_current_c': 6.844308721349622, 'compressor_on': 1, 'door_open': 0, 'energy_consumption_kwh': 0.009898148148148149, 'voltage_v': 228.73550024622668, 'ambient_temp_c': 22.5}, {'temperature_current_c': 6.640716103513887, 'compressor_on': 1, 'door_open': 0, 'energy_consumption_kwh': 0.009898726851851853, 'voltage_v': 234.49263667983072, 'ambient_temp_c': 22.5}, {'temperature_current_c': 6.643529512586495, 'compressor_on': 1, 'door_open': 0, 'energy_consumption_kwh': 0.009899305555555555, 'voltage_v': 225.72461712640344, 'ambient_temp_c': 22.5}, {'temperature_current_c': 6.426737037948207, 'compressor_on': 1, 'door_open': 0, 'energy_consumption_kwh': 0.00989988425925926, 'voltage_v': 239.51870055180956, 'ambient_temp_c': 22.5}, {'temperature_current_c': 6.701193026668065, 'compressor_on': 1, 'door_open': 0, 'energy_consumption_kwh': 0.009900462962962963, 'voltage_v': 230.92079068669358, 'ambient_temp_c': 22.5}, {'temperature_current_c': 6.331027245021901, 'compressor_on': 1, 'door_open': 0, 'energy_consumption_kwh': 0.009901041666666667, 'voltage_v': 244.2169580897886, 'ambient_temp_c': 22.5}, {'temperature_current_c': 6.246029263253686, 'compressor_on': 1, 'door_open': 0, 'energy_consumption_kwh': 0.00990162037037037, 'voltage_v': 233.1201201334018, 'ambient_temp_c': 22.5}, {'temperature_current_c': 6.491699100456301, 'compressor_on': 1, 'door_open': 0, 'energy_consumption_kwh': 0.009902199074074074, 'voltage_v': 240.58695515432586, 'ambient_temp_c': 22.5}, {'temperature_current_c': 6.8364040888828015, 'compressor_on': 1, 'door_open': 0, 'energy_consumption_kwh': 0.009902777777777778, 'voltage_v': 242.55302704210857, 'ambient_temp_c': 22.5}, {'temperature_current_c': 6.687832009785289, 'compressor_on': 1, 'door_open': 0, 'energy_consumption_kwh': 0.009903356481481482, 'voltage_v': 233.43297428660642, 'ambient_temp_c': 22.5}, {'temperature_current_c': 6.303922958539474, 'compressor_on': 1, 'door_open': 0, 'energy_consumption_kwh': 0.009903935185185186, 'voltage_v': 233.92508037740708, 'ambient_temp_c': 22.5}, {'temperature_current_c': 6.756795223308189, 'compressor_on': 1, 'door_open': 0, 'energy_consumption_kwh': 0.00990451388888889, 'voltage_v': 244.06279807957793, 'ambient_temp_c': 22.5}, {'temperature_current_c': 6.736620454475267, 'compressor_on': 1, 'door_open': 0, 'energy_consumption_kwh': 0.009905092592592594, 'voltage_v': 238.5250552527789, 'ambient_temp_c': 22.5}, {'temperature_current_c': 6.539890518507643, 'compressor_on': 1, 'door_open': 0, 'energy_consumption_kwh': 0.009905671296296296, 'voltage_v': 239.16311783062997, 'ambient_temp_c': 22.5}, {'temperature_current_c': 6.244305637095725, 'compressor_on': 1, 'door_open': 0, 'energy_consumption_kwh': 0.00990625, 'voltage_v': 236.90762298710604, 'ambient_temp_c': 22.5}, {'temperature_current_c': 6.403973187063323, 'compressor_on': 1, 'door_open': 0, 'energy_consumption_kwh': 0.009906828703703704, 'voltage_v': 229.9860043625077, 'ambient_temp_c': 22.5}, {'temperature_current_c': 6.583308545628103, 'compressor_on': 1, 'door_open': 0, 'energy_consumption_kwh': 0.009907407407407408, 'voltage_v': 235.51173807795578, 'ambient_temp_c': 22.5}, {'temperature_current_c': 6.331936204030654, 'compressor_on': 1, 'door_open': 0, 'energy_consumption_kwh': 0.00990798611111111, 'voltage_v': 239.8383789296449, 'ambient_temp_c': 22.5}, {'temperature_current_c': 6.887467312879117, 'compressor_on': 1, 'door_open': 0, 'energy_consumption_kwh': 0.009908564814814814, 'voltage_v': 242.49942322491393, 'ambient_temp_c': 22.5}, {'temperature_current_c': 6.400399926278883, 'compressor_on': 1, 'door_open': 0, 'energy_consumption_kwh': 0.009909143518518519, 'voltage_v': 225.98715595519502, 'ambient_temp_c': 22.5}, {'temperature_current_c': 6.462076390717522, 'compressor_on': 1, 'door_open': 0, 'energy_consumption_kwh': 0.009909722222222223, 'voltage_v': 230.64118883583282, 'ambient_temp_c': 22.5}, {'temperature_current_c': 6.4075539628229325, 'compressor_on': 1, 'door_open': 0, 'energy_consumption_kwh': 0.009910300925925927, 'voltage_v': 225.49368064502107, 'ambient_temp_c': 22.5}, {'temperature_current_c': 6.4530537756608854, 'compressor_on': 1, 'door_open': 0, 'energy_consumption_kwh': 0.00991087962962963, 'voltage_v': 234.65521815645255, 'ambient_temp_c': 22.5}, {'temperature_current_c': 6.373871816286215, 'compressor_on': 1, 'door_open': 0, 'energy_consumption_kwh': 0.009911458333333335, 'voltage_v': 236.158468448951, 'ambient_temp_c': 22.5}, {'temperature_current_c': 6.519389200354752, 'compressor_on': 1, 'door_open': 0, 'energy_consumption_kwh': 0.009912037037037037, 'voltage_v': 236.36572139510815, 'ambient_temp_c': 22.5}, {'temperature_current_c': 6.428402512063608, 'compressor_on': 1, 'door_open': 0, 'energy_consumption_kwh': 0.009912615740740741, 'voltage_v': 227.77268291568683, 'ambient_temp_c': 22.5}, {'temperature_current_c': 6.6517303422827245, 'compressor_on': 1, 'door_open': 0, 'energy_consumption_kwh': 0.009913194444444443, 'voltage_v': 236.35497094734183, 'ambient_temp_c': 22.5}, {'temperature_current_c': 6.204655154999417, 'compressor_on': 1, 'door_open': 0, 'energy_consumption_kwh': 0.009913773148148149, 'voltage_v': 229.67751609779438, 'ambient_temp_c': 22.5}, {'temperature_current_c': 6.035148566774421, 'compressor_on': 1, 'door_open': 0, 'energy_consumption_kwh': 0.009914351851851851, 'voltage_v': 240.2774350489443, 'ambient_temp_c': 22.5}, {'temperature_current_c': 6.535753790518523, 'compressor_on': 1, 'door_open': 0, 'energy_consumption_kwh': 0.009914930555555555, 'voltage_v': 229.27344881594084, 'ambient_temp_c': 22.5}, {'temperature_current_c': 6.243960736565788, 'compressor_on': 1, 'door_open': 0, 'energy_consumption_kwh': 0.00991550925925926, 'voltage_v': 226.71966185868692, 'ambient_temp_c': 22.5}, {'temperature_current_c': 6.165354915416787, 'compressor_on': 1, 'door_open': 0, 'energy_consumption_kwh': 0.009916087962962963, 'voltage_v': 239.7085569125094, 'ambient_temp_c': 22.5}, {'temperature_current_c': 6.198132217753654, 'compressor_on': 1, 'door_open': 0, 'energy_consumption_kwh': 0.009916666666666667, 'voltage_v': 242.17312287965308, 'ambient_temp_c': 22.5}, {'temperature_current_c': 6.862241722813209, 'compressor_on': 1, 'door_open': 0, 'energy_consumption_kwh': 0.009917245370370371, 'voltage_v': 228.64475811065898, 'ambient_temp_c': 22.5}, {'temperature_current_c': 6.2537222155712, 'compressor_on': 1, 'door_open': 0, 'energy_consumption_kwh': 0.009917824074074075, 'voltage_v': 229.21987333717595, 'ambient_temp_c': 22.5}, {'temperature_current_c': 6.475624319448027, 'compressor_on': 1, 'door_open': 0, 'energy_consumption_kwh': 0.009918402777777778, 'voltage_v': 228.53798820128165, 'ambient_temp_c': 22.5}, {'temperature_current_c': 5.970323302518972, 'compressor_on': 1, 'door_open': 0, 'energy_consumption_kwh': 0.009918981481481482, 'voltage_v': 236.96988372445486, 'ambient_temp_c': 22.5}, {'temperature_current_c': 6.141678683437261, 'compressor_on': 1, 'door_open': 0, 'energy_consumption_kwh': 0.009919560185185184, 'voltage_v': 226.46125613865667, 'ambient_temp_c': 22.5}, {'temperature_current_c': 6.472513421185539, 'compressor_on': 1, 'door_open': 0, 'energy_consumption_kwh': 0.009920138888888888, 'voltage_v': 226.78972460120406, 'ambient_temp_c': 22.5}, {'temperature_current_c': 6.131755299988486, 'compressor_on': 1, 'door_open': 0, 'energy_consumption_kwh': 0.009920717592592592, 'voltage_v': 239.42459440272793, 'ambient_temp_c': 22.5}, {'temperature_current_c': 6.747575698721803, 'compressor_on': 1, 'door_open': 0, 'energy_consumption_kwh': 0.009921296296296296, 'voltage_v': 233.22793765833524, 'ambient_temp_c': 22.5}, {'temperature_current_c': 6.627244793466833, 'compressor_on': 1, 'door_open': 0, 'energy_consumption_kwh': 0.009921875, 'voltage_v': 231.10379562668527, 'ambient_temp_c': 22.5}, {'temperature_current_c': 6.38485188400038, 'compressor_on': 1, 'door_open': 0, 'energy_consumption_kwh': 0.009922453703703704, 'voltage_v': 243.6093542104215, 'ambient_temp_c': 22.5}, {'temperature_current_c': 6.8692452570304585, 'compressor_on': 1, 'door_open': 0, 'energy_consumption_kwh': 0.009923032407407408, 'voltage_v': 235.8928514345915, 'ambient_temp_c': 22.5}, {'temperature_current_c': 6.189486281135785, 'compressor_on': 1, 'door_open': 0, 'energy_consumption_kwh': 0.009923611111111112, 'voltage_v': 229.51235935484658, 'ambient_temp_c': 22.5}, {'temperature_current_c': 6.433932626459346, 'compressor_on': 1, 'door_open': 0, 'energy_consumption_kwh': 0.009924189814814816, 'voltage_v': 238.568207436998, 'ambient_temp_c': 22.5}, {'temperature_current_c': 6.039555754321004, 'compressor_on': 1, 'door_open': 0, 'energy_consumption_kwh': 0.009924768518518519, 'voltage_v': 226.74748261774477, 'ambient_temp_c': 22.5}, {'temperature_current_c': 6.528434159987352, 'compressor_on': 1, 'door_open': 0, 'energy_consumption_kwh': 0.009925347222222223, 'voltage_v': 228.282493873645, 'ambient_temp_c': 22.5}, {'temperature_current_c': 6.667050311050487, 'compressor_on': 1, 'door_open': 0, 'energy_consumption_kwh': 0.009925925925925925, 'voltage_v': 232.2785653193719, 'ambient_temp_c': 22.5}, {'temperature_current_c': 5.981584765433947, 'compressor_on': 1, 'door_open': 0, 'energy_consumption_kwh': 0.009926504629629629, 'voltage_v': 237.68231809422642, 'ambient_temp_c': 22.5}, {'temperature_current_c': 6.895007918786861, 'compressor_on': 1, 'door_open': 0, 'energy_consumption_kwh': 0.009927083333333333, 'voltage_v': 241.554014379288, 'ambient_temp_c': 22.5}, {'temperature_current_c': 6.847078019856006, 'compressor_on': 1, 'door_open': 0, 'energy_consumption_kwh': 0.009927662037037037, 'voltage_v': 241.10842134436945, 'ambient_temp_c': 22.5}, {'temperature_current_c': 6.306876831359347, 'compressor_on': 1, 'door_open': 0, 'energy_consumption_kwh': 0.009928240740740741, 'voltage_v': 233.26364469233695, 'ambient_temp_c': 22.5}, {'temperature_current_c': 6.444970118007397, 'compressor_on': 1, 'door_open': 0, 'energy_consumption_kwh': 0.009928819444444445, 'voltage_v': 238.41327307816346, 'ambient_temp_c': 22.5}, {'temperature_current_c': 6.229750270246049, 'compressor_on': 1, 'door_open': 0, 'energy_consumption_kwh': 0.009929398148148149, 'voltage_v': 227.9609637534095, 'ambient_temp_c': 22.5}, {'temperature_current_c': 6.290202597801799, 'compressor_on': 1, 'door_open': 0, 'energy_consumption_kwh': 0.009929976851851853, 'voltage_v': 241.12417449918297, 'ambient_temp_c': 22.5}, {'temperature_current_c': 6.60374139734518, 'compressor_on': 1, 'door_open': 0, 'energy_consumption_kwh': 0.009930555555555557, 'voltage_v': 241.6272616076352, 'ambient_temp_c': 22.5}, {'temperature_current_c': 6.088151052811009, 'compressor_on': 1, 'door_open': 0, 'energy_consumption_kwh': 0.00993113425925926, 'voltage_v': 236.1044679032753, 'ambient_temp_c': 22.5}, {'temperature_current_c': 6.048543798580091, 'compressor_on': 1, 'door_open': 0, 'energy_consumption_kwh': 0.009931712962962963, 'voltage_v': 230.22052873731712, 'ambient_temp_c': 22.5}, {'temperature_current_c': 6.920631110928545, 'compressor_on': 1, 'door_open': 0, 'energy_consumption_kwh': 0.009932291666666666, 'voltage_v': 236.31391776171472, 'ambient_temp_c': 22.5}, {'temperature_current_c': 6.367703114272183, 'compressor_on': 1, 'door_open': 0, 'energy_consumption_kwh': 0.00993287037037037, 'voltage_v': 228.16180921678387, 'ambient_temp_c': 22.5}, {'temperature_current_c': 6.336026339463876, 'compressor_on': 1, 'door_open': 0, 'energy_consumption_kwh': 0.009933449074074074, 'voltage_v': 228.33284807962332, 'ambient_temp_c': 22.5}, {'temperature_current_c': 6.878832198898371, 'compressor_on': 1, 'door_open': 0, 'energy_consumption_kwh': 0.009934027777777778, 'voltage_v': 233.9491027731132, 'ambient_temp_c': 22.5}, {'temperature_current_c': 6.074271263873172, 'compressor_on': 1, 'door_open': 0, 'energy_consumption_kwh': 0.009934606481481482, 'voltage_v': 229.60925928103197, 'ambient_temp_c': 22.5}, {'temperature_current_c': 6.9333819720897925, 'compressor_on': 1, 'door_open': 0, 'energy_consumption_kwh': 0.009935185185185186, 'voltage_v': 225.1998428842053, 'ambient_temp_c': 22.5}, {'temperature_current_c': 6.272091686040321, 'compressor_on': 1, 'door_open': 0, 'energy_consumption_kwh': 0.00993576388888889, 'voltage_v': 240.8901678327268, 'ambient_temp_c': 22.5}, {'temperature_current_c': 6.752367765452233, 'compressor_on': 1, 'door_open': 0, 'energy_consumption_kwh': 0.009936342592592594, 'voltage_v': 244.75835744200495, 'ambient_temp_c': 22.5}, {'temperature_current_c': 6.809949572606824, 'compressor_on': 1, 'door_open': 0, 'energy_consumption_kwh': 0.009936921296296296, 'voltage_v': 236.82730791955905, 'ambient_temp_c': 22.5}, {'temperature_current_c': 6.6065223644141, 'compressor_on': 1, 'door_open': 0, 'energy_consumption_kwh': 0.0099375, 'voltage_v': 244.68130574131374, 'ambient_temp_c': 22.5}, {'temperature_current_c': 6.29815441942042, 'compressor_on': 1, 'door_open': 0, 'energy_consumption_kwh': 0.009938078703703704, 'voltage_v': 226.74898313552544, 'ambient_temp_c': 22.5}, {'temperature_current_c': 6.390764793695299, 'compressor_on': 1, 'door_open': 0, 'energy_consumption_kwh': 0.009938657407407406, 'voltage_v': 241.34234684333381, 'ambient_temp_c': 22.5}, {'temperature_current_c': 6.008055545747142, 'compressor_on': 1, 'door_open': 0, 'energy_consumption_kwh': 0.00993923611111111, 'voltage_v': 227.23005911908194, 'ambient_temp_c': 22.5}, {'temperature_current_c': 6.865364089069506, 'compressor_on': 1, 'door_open': 0, 'energy_consumption_kwh': 0.009939814814814815, 'voltage_v': 229.07463397262703, 'ambient_temp_c': 22.5}, {'temperature_current_c': 6.410060478335907, 'compressor_on': 1, 'door_open': 0, 'energy_consumption_kwh': 0.009940393518518519, 'voltage_v': 230.8878620950588, 'ambient_temp_c': 22.5}, {'temperature_current_c': 6.238242487421641, 'compressor_on': 1, 'door_open': 0, 'energy_consumption_kwh': 0.009940972222222223, 'voltage_v': 234.31374170519786, 'ambient_temp_c': 22.5}, {'temperature_current_c': 6.692280546113605, 'compressor_on': 1, 'door_open': 0, 'energy_consumption_kwh': 0.009941550925925927, 'voltage_v': 231.36099869827427, 'ambient_temp_c': 22.5}, {'temperature_current_c': 6.813157482754091, 'compressor_on': 1, 'door_open': 0, 'energy_consumption_kwh': 0.00994212962962963, 'voltage_v': 237.54076048771657, 'ambient_temp_c': 22.5}, {'temperature_current_c': 6.694823801846175, 'compressor_on': 1, 'door_open': 0, 'energy_consumption_kwh': 0.009942708333333335, 'voltage_v': 236.92045034062548, 'ambient_temp_c': 22.5}, {'temperature_current_c': 6.875777204402818, 'compressor_on': 1, 'door_open': 0, 'energy_consumption_kwh': 0.009943287037037037, 'voltage_v': 230.8343133447556, 'ambient_temp_c': 22.5}, {'temperature_current_c': 6.020180515359687, 'compressor_on': 1, 'door_open': 0, 'energy_consumption_kwh': 0.009943865740740741, 'voltage_v': 232.3080341192669, 'ambient_temp_c': 22.5}, {'temperature_current_c': 6.945725721507693, 'compressor_on': 1, 'door_open': 0, 'energy_consumption_kwh': 0.009944444444444445, 'voltage_v': 242.29752478035473, 'ambient_temp_c': 22.5}, {'temperature_current_c': 6.564077267213676, 'compressor_on': 1, 'door_open': 0, 'energy_consumption_kwh': 0.009945023148148147, 'voltage_v': 239.09108139842797, 'ambient_temp_c': 22.5}, {'temperature_current_c': 6.041884759543747, 'compressor_on': 1, 'door_open': 0, 'energy_consumption_kwh': 0.009945601851851851, 'voltage_v': 232.9811367849872, 'ambient_temp_c': 22.5}, {'temperature_current_c': 6.834435642956013, 'compressor_on': 1, 'door_open': 0, 'energy_consumption_kwh': 0.009946180555555555, 'voltage_v': 227.52286710738073, 'ambient_temp_c': 22.5}, {'temperature_current_c': 6.206636837145835, 'compressor_on': 1, 'door_open': 0, 'energy_consumption_kwh': 0.00994675925925926, 'voltage_v': 226.56709001197038, 'ambient_temp_c': 22.5}, {'temperature_current_c': 6.049691784750615, 'compressor_on': 1, 'door_open': 0, 'energy_consumption_kwh': 0.009947337962962963, 'voltage_v': 240.75871733392194, 'ambient_temp_c': 22.5}, {'temperature_current_c': 6.741797875734317, 'compressor_on': 1, 'door_open': 0, 'energy_consumption_kwh': 0.009947916666666667, 'voltage_v': 230.8286240927515, 'ambient_temp_c': 22.5}, {'temperature_current_c': 6.546264604409056, 'compressor_on': 1, 'door_open': 0, 'energy_consumption_kwh': 0.009948495370370371, 'voltage_v': 244.7703732616633, 'ambient_temp_c': 22.5}, {'temperature_current_c': 6.548081636557137, 'compressor_on': 1, 'door_open': 0, 'energy_consumption_kwh': 0.009949074074074075, 'voltage_v': 228.36857006999423, 'ambient_temp_c': 22.5}, {'temperature_current_c': 6.968551553030826, 'compressor_on': 1, 'door_open': 0, 'energy_consumption_kwh': 0.009949652777777778, 'voltage_v': 226.0933473701393, 'ambient_temp_c': 22.5}, {'temperature_current_c': 6.13792556370165, 'compressor_on': 1, 'door_open': 0, 'energy_consumption_kwh': 0.009950231481481482, 'voltage_v': 230.31859220515767, 'ambient_temp_c': 22.5}, {'temperature_current_c': 6.654887110057568, 'compressor_on': 1, 'door_open': 0, 'energy_consumption_kwh': 0.009950810185185186, 'voltage_v': 232.79918407499028, 'ambient_temp_c': 22.5}, {'temperature_current_c': 6.658327315928484, 'compressor_on': 1, 'door_open': 0, 'energy_consumption_kwh': 0.009951388888888888, 'voltage_v': 233.49703202491952, 'ambient_temp_c': 22.5}, {'temperature_current_c': 6.32756515336641, 'compressor_on': 1, 'door_open': 0, 'energy_consumption_kwh': 0.009951967592592592, 'voltage_v': 240.5681004756943, 'ambient_temp_c': 22.5}, {'temperature_current_c': 6.366656063443186, 'compressor_on': 1, 'door_open': 0, 'energy_consumption_kwh': 0.009952546296296296, 'voltage_v': 235.43770875832368, 'ambient_temp_c': 22.5}, {'temperature_current_c': 6.52052141265051, 'compressor_on': 1, 'door_open': 0, 'energy_consumption_kwh': 0.009953125, 'voltage_v': 239.78360806044498, 'ambient_temp_c': 22.5}, {'temperature_current_c': 6.943932822546419, 'compressor_on': 1, 'door_open': 0, 'energy_consumption_kwh': 0.009953703703703704, 'voltage_v': 244.00306745238973, 'ambient_temp_c': 22.5}, {'temperature_current_c': 6.232882550648139, 'compressor_on': 1, 'door_open': 0, 'energy_consumption_kwh': 0.009954282407407408, 'voltage_v': 241.96505846964146, 'ambient_temp_c': 22.5}, {'temperature_current_c': 6.890453687863857, 'compressor_on': 1, 'door_open': 0, 'energy_consumption_kwh': 0.009954861111111112, 'voltage_v': 242.3267470145143, 'ambient_temp_c': 22.5}, {'temperature_current_c': 6.774076824732956, 'compressor_on': 1, 'door_open': 0, 'energy_consumption_kwh': 0.009955439814814816, 'voltage_v': 241.00190935270194, 'ambient_temp_c': 22.5}, {'temperature_current_c': 6.956217425624553, 'compressor_on': 1, 'door_open': 0, 'energy_consumption_kwh': 0.009956018518518519, 'voltage_v': 225.23913092745562, 'ambient_temp_c': 22.5}, {'temperature_current_c': 6.237132254348406, 'compressor_on': 1, 'door_open': 0, 'energy_consumption_kwh': 0.009956597222222223, 'voltage_v': 236.5324319532673, 'ambient_temp_c': 22.5}, {'temperature_current_c': 6.521957351739915, 'compressor_on': 1, 'door_open': 0, 'energy_consumption_kwh': 0.009957175925925925, 'voltage_v': 226.2718171879862, 'ambient_temp_c': 22.5}, {'temperature_current_c': 6.046716456493067, 'compressor_on': 1, 'door_open': 0, 'energy_consumption_kwh': 0.009957754629629629, 'voltage_v': 241.28739647630476, 'ambient_temp_c': 22.5}, {'temperature_current_c': 6.63689512609866, 'compressor_on': 1, 'door_open': 0, 'energy_consumption_kwh': 0.009958333333333333, 'voltage_v': 240.8027288792489, 'ambient_temp_c': 22.5}, {'temperature_current_c': 6.677921491400857, 'compressor_on': 1, 'door_open': 0, 'energy_consumption_kwh': 0.009958912037037037, 'voltage_v': 240.2020153937945, 'ambient_temp_c': 22.5}, {'temperature_current_c': 6.565262851173441, 'compressor_on': 1, 'door_open': 0, 'energy_consumption_kwh': 0.009959490740740741, 'voltage_v': 227.04457146168147, 'ambient_temp_c': 22.5}, {'temperature_current_c': 6.007212835548508, 'compressor_on': 1, 'door_open': 0, 'energy_consumption_kwh': 0.009960069444444445, 'voltage_v': 243.25298633366262, 'ambient_temp_c': 22.5}, {'temperature_current_c': 6.972884525733457, 'compressor_on': 1, 'door_open': 0, 'energy_consumption_kwh': 0.009960648148148149, 'voltage_v': 228.68462048079508, 'ambient_temp_c': 22.5}, {'temperature_current_c': 6.6150667977421165, 'compressor_on': 1, 'door_open': 0, 'energy_consumption_kwh': 0.009961226851851853, 'voltage_v': 233.90168253308929, 'ambient_temp_c': 22.5}, {'temperature_current_c': 6.136703991106151, 'compressor_on': 1, 'door_open': 0, 'energy_consumption_kwh': 0.009961805555555557, 'voltage_v': 231.4162977799761, 'ambient_temp_c': 22.5}, {'temperature_current_c': 6.027508534870128, 'compressor_on': 1, 'door_open': 0, 'energy_consumption_kwh': 0.00996238425925926, 'voltage_v': 236.1276249421576, 'ambient_temp_c': 22.5}, {'temperature_current_c': 6.028720365230166, 'compressor_on': 1, 'door_open': 0, 'energy_consumption_kwh': 0.009962962962962963, 'voltage_v': 225.21557673655337, 'ambient_temp_c': 22.5}, {'temperature_current_c': 6.530878417622931, 'compressor_on': 1, 'door_open': 0, 'energy_consumption_kwh': 0.009963541666666666, 'voltage_v': 227.65126962667176, 'ambient_temp_c': 22.5}, {'temperature_current_c': 6.6419817959688086, 'compressor_on': 1, 'door_open': 0, 'energy_consumption_kwh': 0.00996412037037037, 'voltage_v': 227.48491336971426, 'ambient_temp_c': 22.5}, {'temperature_current_c': 6.878878219590538, 'compressor_on': 1, 'door_open': 0, 'energy_consumption_kwh': 0.009964699074074074, 'voltage_v': 229.90930922271605, 'ambient_temp_c': 22.5}, {'temperature_current_c': 6.766424241133514, 'compressor_on': 1, 'door_open': 0, 'energy_consumption_kwh': 0.009965277777777778, 'voltage_v': 240.04691877858247, 'ambient_temp_c': 22.5}, {'temperature_current_c': 6.890411395644097, 'compressor_on': 1, 'door_open': 0, 'energy_consumption_kwh': 0.009965856481481482, 'voltage_v': 241.60207832940634, 'ambient_temp_c': 22.5}, {'temperature_current_c': 6.513586607779938, 'compressor_on': 1, 'door_open': 0, 'energy_consumption_kwh': 0.009966435185185186, 'voltage_v': 229.2811621457141, 'ambient_temp_c': 22.5}, {'temperature_current_c': 6.668891845032052, 'compressor_on': 1, 'door_open': 0, 'energy_consumption_kwh': 0.00996701388888889, 'voltage_v': 243.30154547076887, 'ambient_temp_c': 22.5}, {'temperature_current_c': 6.578392157392768, 'compressor_on': 1, 'door_open': 0, 'energy_consumption_kwh': 0.009967592592592592, 'voltage_v': 244.84675036334514, 'ambient_temp_c': 22.5}, {'temperature_current_c': 6.925350950777039, 'compressor_on': 1, 'door_open': 0, 'energy_consumption_kwh': 0.009968171296296298, 'voltage_v': 228.17758396283472, 'ambient_temp_c': 22.5}, {'temperature_current_c': 6.663203125740872, 'compressor_on': 1, 'door_open': 0, 'energy_consumption_kwh': 0.00996875, 'voltage_v': 243.74037619825626, 'ambient_temp_c': 22.5}, {'temperature_current_c': 6.87392823534094, 'compressor_on': 1, 'door_open': 0, 'energy_consumption_kwh': 0.009969328703703704, 'voltage_v': 226.54239293888693, 'ambient_temp_c': 22.5}, {'temperature_current_c': 6.641716395114635, 'compressor_on': 1, 'door_open': 0, 'energy_consumption_kwh': 0.009969907407407406, 'voltage_v': 243.45939080231415, 'ambient_temp_c': 22.5}, {'temperature_current_c': 6.36218731208791, 'compressor_on': 1, 'door_open': 0, 'energy_consumption_kwh': 0.00997048611111111, 'voltage_v': 242.57072919196904, 'ambient_temp_c': 22.5}, {'temperature_current_c': 6.2935762448528125, 'compressor_on': 1, 'door_open': 0, 'energy_consumption_kwh': 0.009971064814814815, 'voltage_v': 239.85762532634482, 'ambient_temp_c': 22.5}, {'temperature_current_c': 6.648548257899448, 'compressor_on': 1, 'door_open': 0, 'energy_consumption_kwh': 0.009971643518518519, 'voltage_v': 225.07049081529246, 'ambient_temp_c': 22.5}, {'temperature_current_c': 6.92043699602039, 'compressor_on': 1, 'door_open': 0, 'energy_consumption_kwh': 0.009972222222222223, 'voltage_v': 235.25532844504684, 'ambient_temp_c': 22.5}, {'temperature_current_c': 6.369133663075375, 'compressor_on': 1, 'door_open': 0, 'energy_consumption_kwh': 0.009972800925925927, 'voltage_v': 225.1789635802674, 'ambient_temp_c': 22.5}, {'temperature_current_c': 6.219264987471273, 'compressor_on': 1, 'door_open': 0, 'energy_consumption_kwh': 0.00997337962962963, 'voltage_v': 244.40420652182644, 'ambient_temp_c': 22.5}, {'temperature_current_c': 6.719190510104218, 'compressor_on': 1, 'door_open': 0, 'energy_consumption_kwh': 0.009973958333333333, 'voltage_v': 225.03821032490276, 'ambient_temp_c': 22.5}, {'temperature_current_c': 6.336503022633909, 'compressor_on': 1, 'door_open': 0, 'energy_consumption_kwh': 0.009974537037037037, 'voltage_v': 226.55984804960462, 'ambient_temp_c': 22.5}, {'temperature_current_c': 6.581604115413058, 'compressor_on': 1, 'door_open': 0, 'energy_consumption_kwh': 0.009975115740740741, 'voltage_v': 241.63307337581426, 'ambient_temp_c': 22.5}, {'temperature_current_c': 6.004540475608776, 'compressor_on': 1, 'door_open': 0, 'energy_consumption_kwh': 0.009975694444444445, 'voltage_v': 228.28814099323426, 'ambient_temp_c': 22.5}, {'temperature_current_c': 6.568786630094186, 'compressor_on': 1, 'door_open': 0, 'energy_consumption_kwh': 0.009976273148148147, 'voltage_v': 226.83305448312328, 'ambient_temp_c': 22.5}, {'temperature_current_c': 6.911179512826276, 'compressor_on': 1, 'door_open': 0, 'energy_consumption_kwh': 0.009976851851851851, 'voltage_v': 238.52956594847024, 'ambient_temp_c': 22.5}, {'temperature_current_c': 6.7729016823227814, 'compressor_on': 1, 'door_open': 0, 'energy_consumption_kwh': 0.009977430555555555, 'voltage_v': 236.43599079489073, 'ambient_temp_c': 22.5}, {'temperature_current_c': 6.207001788564591, 'compressor_on': 1, 'door_open': 0, 'energy_consumption_kwh': 0.00997800925925926, 'voltage_v': 240.98214914692787, 'ambient_temp_c': 22.5}, {'temperature_current_c': 6.014995383357515, 'compressor_on': 1, 'door_open': 0, 'energy_consumption_kwh': 0.009978587962962963, 'voltage_v': 239.0608435384008, 'ambient_temp_c': 22.5}, {'temperature_current_c': 6.601577589255903, 'compressor_on': 1, 'door_open': 0, 'energy_consumption_kwh': 0.009979166666666667, 'voltage_v': 242.85929496280113, 'ambient_temp_c': 22.5}, {'temperature_current_c': 6.124089713039945, 'compressor_on': 1, 'door_open': 0, 'energy_consumption_kwh': 0.009979745370370371, 'voltage_v': 238.9791980486083, 'ambient_temp_c': 22.5}, {'temperature_current_c': 6.695245000454551, 'compressor_on': 1, 'door_open': 0, 'energy_consumption_kwh': 0.009980324074074074, 'voltage_v': 239.9009175771681, 'ambient_temp_c': 22.5}, {'temperature_current_c': 6.038641439381626, 'compressor_on': 1, 'door_open': 0, 'energy_consumption_kwh': 0.009980902777777778, 'voltage_v': 241.6046304951622, 'ambient_temp_c': 22.5}, {'temperature_current_c': 6.070768041937297, 'compressor_on': 1, 'door_open': 0, 'energy_consumption_kwh': 0.009981481481481482, 'voltage_v': 226.77792152090444, 'ambient_temp_c': 22.5}, {'temperature_current_c': 6.2657152343468985, 'compressor_on': 1, 'door_open': 0, 'energy_consumption_kwh': 0.009982060185185186, 'voltage_v': 238.61451568134584, 'ambient_temp_c': 22.5}, {'temperature_current_c': 6.750309636435329, 'compressor_on': 1, 'door_open': 0, 'energy_consumption_kwh': 0.009982638888888888, 'voltage_v': 232.84696919695935, 'ambient_temp_c': 22.5}, {'temperature_current_c': 6.9311867956605475, 'compressor_on': 1, 'door_open': 0, 'energy_consumption_kwh': 0.009983217592592592, 'voltage_v': 231.25469315538362, 'ambient_temp_c': 22.5}, {'temperature_current_c': 6.39976798118008, 'compressor_on': 1, 'door_open': 0, 'energy_consumption_kwh': 0.009983796296296296, 'voltage_v': 240.7558694299631, 'ambient_temp_c': 22.5}, {'temperature_current_c': 6.927132523227481, 'compressor_on': 1, 'door_open': 0, 'energy_consumption_kwh': 0.009984375, 'voltage_v': 244.74410017358224, 'ambient_temp_c': 22.5}, {'temperature_current_c': 6.368435965559261, 'compressor_on': 1, 'door_open': 0, 'energy_consumption_kwh': 0.009984953703703704, 'voltage_v': 244.33239082935984, 'ambient_temp_c': 22.5}, {'temperature_current_c': 6.2618290644479195, 'compressor_on': 1, 'door_open': 0, 'energy_consumption_kwh': 0.009985532407407408, 'voltage_v': 238.76886772827675, 'ambient_temp_c': 22.5}, {'temperature_current_c': 6.926711062077015, 'compressor_on': 1, 'door_open': 0, 'energy_consumption_kwh': 0.009986111111111112, 'voltage_v': 236.3048389494847, 'ambient_temp_c': 22.5}, {'temperature_current_c': 6.12654613466967, 'compressor_on': 1, 'door_open': 0, 'energy_consumption_kwh': 0.009986689814814815, 'voltage_v': 239.4499747072355, 'ambient_temp_c': 22.5}, {'temperature_current_c': 6.125275114587038, 'compressor_on': 1, 'door_open': 0, 'energy_consumption_kwh': 0.009987268518518519, 'voltage_v': 238.18419783320618, 'ambient_temp_c': 22.5}, {'temperature_current_c': 6.906477809066466, 'compressor_on': 1, 'door_open': 0, 'energy_consumption_kwh': 0.009987847222222223, 'voltage_v': 237.35275295856536, 'ambient_temp_c': 22.5}, {'temperature_current_c': 6.4088356230566585, 'compressor_on': 1, 'door_open': 0, 'energy_consumption_kwh': 0.009988425925925927, 'voltage_v': 232.92209274739474, 'ambient_temp_c': 22.5}, {'temperature_current_c': 6.036888934973432, 'compressor_on': 1, 'door_open': 0, 'energy_consumption_kwh': 0.009989004629629629, 'voltage_v': 237.3769387915331, 'ambient_temp_c': 22.5}, {'temperature_current_c': 6.91935974808419, 'compressor_on': 1, 'door_open': 0, 'energy_consumption_kwh': 0.009989583333333333, 'voltage_v': 236.22057789031092, 'ambient_temp_c': 22.5}, {'temperature_current_c': 6.855004494480047, 'compressor_on': 1, 'door_open': 0, 'energy_consumption_kwh': 0.009990162037037037, 'voltage_v': 230.39227471925525, 'ambient_temp_c': 22.5}, {'temperature_current_c': 6.895886180206254, 'compressor_on': 1, 'door_open': 0, 'energy_consumption_kwh': 0.009990740740740741, 'voltage_v': 243.3997049827272, 'ambient_temp_c': 22.5}, {'temperature_current_c': 6.378294295487202, 'compressor_on': 1, 'door_open': 0, 'energy_consumption_kwh': 0.009991319444444445, 'voltage_v': 242.81654536125055, 'ambient_temp_c': 22.5}, {'temperature_current_c': 6.471482858613342, 'compressor_on': 1, 'door_open': 0, 'energy_consumption_kwh': 0.009991898148148149, 'voltage_v': 241.94275466503484, 'ambient_temp_c': 22.5}, {'temperature_current_c': 6.215752954489785, 'compressor_on': 1, 'door_open': 0, 'energy_consumption_kwh': 0.009992476851851853, 'voltage_v': 227.75394104629913, 'ambient_temp_c': 22.5}, {'temperature_current_c': 6.156631072853111, 'compressor_on': 1, 'door_open': 0, 'energy_consumption_kwh': 0.009993055555555555, 'voltage_v': 228.04061516255481, 'ambient_temp_c': 22.5}, {'temperature_current_c': 6.011467302157021, 'compressor_on': 1, 'door_open': 0, 'energy_consumption_kwh': 0.00999363425925926, 'voltage_v': 238.2995295146754, 'ambient_temp_c': 22.5}, {'temperature_current_c': 6.382487106911372, 'compressor_on': 1, 'door_open': 0, 'energy_consumption_kwh': 0.009994212962962963, 'voltage_v': 243.24812621329912, 'ambient_temp_c': 22.5}, {'temperature_current_c': 6.526639003410891, 'compressor_on': 1, 'door_open': 0, 'energy_consumption_kwh': 0.009994791666666666, 'voltage_v': 238.11695695447483, 'ambient_temp_c': 22.5}, {'temperature_current_c': 6.378193143573226, 'compressor_on': 1, 'door_open': 0, 'energy_consumption_kwh': 0.00999537037037037, 'voltage_v': 243.94767712560247, 'ambient_temp_c': 22.5}, {'temperature_current_c': 6.797331098959417, 'compressor_on': 1, 'door_open': 0, 'energy_consumption_kwh': 0.009995949074074074, 'voltage_v': 244.81478734517262, 'ambient_temp_c': 22.5}, {'temperature_current_c': 6.731390340649451, 'compressor_on': 1, 'door_open': 0, 'energy_consumption_kwh': 0.009996527777777778, 'voltage_v': 227.82870872434538, 'ambient_temp_c': 22.5}, {'temperature_current_c': 6.603486209112853, 'compressor_on': 1, 'door_open': 0, 'energy_consumption_kwh': 0.009997106481481482, 'voltage_v': 229.2352979237201, 'ambient_temp_c': 22.5}, {'temperature_current_c': 6.26339320530833, 'compressor_on': 1, 'door_open': 0, 'energy_consumption_kwh': 0.009997685185185186, 'voltage_v': 227.11244817419038, 'ambient_temp_c': 22.5}, {'temperature_current_c': 6.357110819251327, 'compressor_on': 1, 'door_open': 0, 'energy_consumption_kwh': 0.00999826388888889, 'voltage_v': 240.44960814162303, 'ambient_temp_c': 22.5}, {'temperature_current_c': 6.473362677040328, 'compressor_on': 1, 'door_open': 0, 'energy_consumption_kwh': 0.009998842592592594, 'voltage_v': 226.7753241817401, 'ambient_temp_c': 22.5}, {'temperature_current_c': 6.298455224176097, 'compressor_on': 1, 'door_open': 0, 'energy_consumption_kwh': 0.009999421296296296, 'voltage_v': 232.8836103414859, 'ambient_temp_c': 22.5}]\n",
            "\u001b[1m1/1\u001b[0m \u001b[32m━━━━━━━━━━━━━━━━━━━━\u001b[0m\u001b[37m\u001b[0m \u001b[1m0s\u001b[0m 491ms/step\n",
            "\n",
            "--- Inference Result ---\n",
            "Model Prediction: 'Failure Imminent'\n",
            "Failure Risk Score: 1.0000\n",
            "----------------------\n"
          ]
        }
      ]
    }
  ]
}