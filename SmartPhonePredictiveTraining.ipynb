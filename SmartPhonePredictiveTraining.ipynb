{
  "nbformat": 4,
  "nbformat_minor": 0,
  "metadata": {
    "colab": {
      "provenance": []
    },
    "kernelspec": {
      "name": "python3",
      "display_name": "Python 3"
    },
    "language_info": {
      "name": "python"
    }
  },
  "cells": [
    {
      "cell_type": "code",
      "execution_count": 2,
      "metadata": {
        "colab": {
          "base_uri": "https://localhost:8080/"
        },
        "id": "s-pZB_lGLUc9",
        "outputId": "01628a98-0593-4bd7-fb28-48764a57df75"
      },
      "outputs": [
        {
          "output_type": "stream",
          "name": "stdout",
          "text": [
            "Smartphone telemetry dataset generated and saved to 'smartphone_telemetry.csv'\n"
          ]
        }
      ],
      "source": [
        "import pandas as pd\n",
        "import numpy as np\n",
        "from datetime import datetime, timedelta\n",
        "\n",
        "# --- Configuration ---\n",
        "# You can adjust these parameters to change the size and characteristics of the dataset\n",
        "N_DEVICES = 50  # Total number of devices in the dataset\n",
        "N_FAILING_DEVICES = 15  # Number of devices that will experience a failure\n",
        "TIME_START = datetime(2023, 1, 1)  # Start date for the time-series data\n",
        "TIME_END = datetime(2023, 12, 31)  # End date for the time-series data\n",
        "SAMPLING_INTERVAL_HOURS = 6  # The interval in hours between data points\n",
        "\n",
        "# --- Function to generate data for a single device ---\n",
        "def generate_device_data(device_id, is_failing):\n",
        "    \"\"\"\n",
        "    This function generates a time-series dataset for a single smartphone.\n",
        "    It simulates various telemetry data like battery level, CPU usage, etc.\n",
        "    If 'is_failing' is True, it introduces anomalies in the data to simulate a failing device.\n",
        "    \"\"\"\n",
        "    # Create a range of timestamps for the device\n",
        "    timestamps = pd.to_datetime(np.arange(TIME_START, TIME_END, timedelta(hours=SAMPLING_INTERVAL_HOURS)))\n",
        "    n_samples = len(timestamps)\n",
        "    df = pd.DataFrame({'timestamp': timestamps, 'device_id': device_id})\n",
        "\n",
        "    # --- Generate features for a healthy device ---\n",
        "    # These lines generate random data for each feature, with some patterns to make it more realistic\n",
        "    df['battery_level'] = 100 - (np.sin(np.arange(n_samples) / (24 / SAMPLING_INTERVAL_HOURS) * np.pi) + 1) * 40 + np.random.normal(0, 2, n_samples)\n",
        "    df['cpu_usage_percent'] = np.random.uniform(5, 30, n_samples) + np.sin(np.arange(n_samples) / 50) * 10\n",
        "    df['memory_usage_percent'] = np.random.uniform(40, 60, n_samples) + np.random.normal(0, 5, n_samples)\n",
        "    df['storage_usage_percent'] = np.linspace(20, 80, n_samples) + np.random.normal(0, 1, n_samples) # Storage fills up over time\n",
        "    df['app_crashes'] = np.random.poisson(0.05, n_samples)\n",
        "    df['network_signal_strength_dbm'] = np.random.uniform(-110, -80, n_samples)\n",
        "    df['screen_on_time_minutes'] = np.random.exponential(30, n_samples)\n",
        "    df['fast_charging_active'] = np.random.choice([0, 1], size=n_samples, p=[0.8, 0.2])\n",
        "    df['speaker_volume_percent'] = np.random.uniform(0, 100, n_samples)\n",
        "    df['ambient_temp_c'] = np.random.uniform(15, 35, n_samples) + np.sin(np.arange(n_samples) / (365 * 24 / SAMPLING_INTERVAL_HOURS) * 2 * np.pi) * 5 # Seasonal temp change\n",
        "\n",
        "    # --- Introduce anomalies for failing devices ---\n",
        "    if is_failing:\n",
        "        # Determine the point of failure and the period of degradation\n",
        "        failure_point = int(n_samples * np.random.uniform(0.8, 0.95)) # Fails in the last 5-20% of its life\n",
        "        degradation_period = int(n_samples * 0.15) # Show signs of failure in the last 15% of life\n",
        "\n",
        "        # Introduce anomalies in the data to simulate a failing device\n",
        "        df.loc[failure_point - degradation_period:, 'battery_level'] *= np.linspace(1, 0.7, n_samples - (failure_point - degradation_period))\n",
        "        df.loc[failure_point - degradation_period:, 'cpu_usage_percent'] += np.linspace(0, 30, n_samples - (failure_point - degradation_period))\n",
        "        df.loc[failure_point - degradation_period:, 'memory_usage_percent'] += np.linspace(0, 25, n_samples - (failure_point - degradation_period))\n",
        "        df.loc[failure_point - degradation_period:, 'app_crashes'] += np.random.poisson(0.5, n_samples - (failure_point - degradation_period))\n",
        "        df.loc[failure_point - degradation_period:, 'ambient_temp_c'] += np.linspace(0, 15, n_samples - (failure_point - degradation_period))\n",
        "\n",
        "        # --- Set target variable ---\n",
        "        # The target variable 'failed_in_next_7d' is set to 1 for the 7 days leading up to the failure\n",
        "        df['failed_in_next_7d'] = 0\n",
        "        failure_window_start = failure_point - int(7 * 24 / SAMPLING_INTERVAL_HOURS)\n",
        "        df.loc[failure_window_start:failure_point, 'failed_in_next_7d'] = 1\n",
        "    else:\n",
        "        # For healthy devices, the target variable is always 0\n",
        "        df['failed_in_next_7d'] = 0\n",
        "\n",
        "    # Clip values to be within realistic bounds (e.g., battery level cannot be > 100)\n",
        "    df['battery_level'] = df['battery_level'].clip(0, 100)\n",
        "    df['cpu_usage_percent'] = df['cpu_usage_percent'].clip(0, 100)\n",
        "    df['memory_usage_percent'] = df['memory_usage_percent'].clip(0, 100)\n",
        "    df['storage_usage_percent'] = df['storage_usage_percent'].clip(0, 100)\n",
        "\n",
        "    return df\n",
        "\n",
        "# --- Generate data for all devices and combine ---\n",
        "all_devices_df = []\n",
        "failing_device_ids = [f\"device_{i:03d}\" for i in range(N_FAILING_DEVICES)]\n",
        "\n",
        "# Loop through each device and generate its data\n",
        "for i in range(N_DEVICES):\n",
        "    device_id = f\"device_{i:03d}\"\n",
        "    is_failing = device_id in failing_device_ids\n",
        "    device_df = generate_device_data(device_id, is_failing)\n",
        "    all_devices_df.append(device_df)\n",
        "\n",
        "# Concatenate the data from all devices into a single DataFrame\n",
        "final_df = pd.concat(all_devices_df, ignore_index=True)\n",
        "\n",
        "# --- Save to CSV ---\n",
        "final_df.to_csv('smartphone_telemetry.csv', index=False)\n",
        "\n",
        "print(\"Smartphone telemetry dataset generated and saved to 'smartphone_telemetry.csv'\")"
      ]
    },
    {
      "cell_type": "code",
      "source": [
        "import pandas as pd\n",
        "import numpy as np\n",
        "from sklearn.preprocessing import MinMaxScaler\n",
        "import joblib\n",
        "from tqdm import tqdm\n",
        "import os\n",
        "\n",
        "# --- Configuration ---\n",
        "INPUT_CSV = \"smartphone_telemetry.csv\"\n",
        "OUTPUT_PATH = \".\"\n",
        "\n",
        "# Define the sequence length based on the data's 6-hour interval\n",
        "SAMPLING_INTERVAL_HOURS = 6\n",
        "TIMESTEPS_PER_DAY = 24 // SAMPLING_INTERVAL_HOURS\n",
        "SEQUENCE_DAYS = 14  # We'll look at 14 days of history for each prediction\n",
        "SEQUENCE_TIMESTEPS = SEQUENCE_DAYS * TIMESTEPS_PER_DAY\n",
        "\n",
        "def prepare_smartphone_data():\n",
        "    \"\"\"\n",
        "    Loads raw smartphone data, scales it, creates sequences, and saves the final arrays.\n",
        "    \"\"\"\n",
        "    print(\"--- Step 1: Loading and Preprocessing Data ---\")\n",
        "\n",
        "    try:\n",
        "        # Define efficient data types\n",
        "        dtype_map = {\n",
        "            'battery_level': 'float32', 'cpu_usage_percent': 'float32', 'memory_usage_percent': 'float32',\n",
        "            'storage_usage_percent': 'float32', 'app_crashes': 'int8', 'network_signal_strength_dbm': 'float32',\n",
        "            'screen_on_time_minutes': 'float32', 'fast_charging_active': 'int8', 'speaker_volume_percent': 'float32',\n",
        "            'ambient_temp_c': 'float32', 'failed_in_next_7d': 'int8'\n",
        "        }\n",
        "        df = pd.read_csv(INPUT_CSV, dtype=dtype_map, parse_dates=['timestamp'])\n",
        "    except FileNotFoundError:\n",
        "        print(f\"Error: The file '{INPUT_CSV}' was not found.\")\n",
        "        return\n",
        "\n",
        "    df.sort_values(by=['device_id', 'timestamp'], inplace=True)\n",
        "    print(f\"Loaded {len(df)} data points from {df['device_id'].nunique()} devices.\")\n",
        "\n",
        "    # --- Step 2: Scaling Features ---\n",
        "\n",
        "    # Define the features the LSTM will use\n",
        "    feature_columns = [\n",
        "        'battery_level', 'cpu_usage_percent', 'memory_usage_percent',\n",
        "        'storage_usage_percent', 'app_crashes', 'network_signal_strength_dbm',\n",
        "        'screen_on_time_minutes', 'fast_charging_active', 'speaker_volume_percent',\n",
        "        'ambient_temp_c'\n",
        "    ]\n",
        "\n",
        "    print(f\"\\n--- Step 2: Scaling {len(feature_columns)} Features ---\")\n",
        "\n",
        "    scaler = MinMaxScaler()\n",
        "    df[feature_columns] = scaler.fit_transform(df[feature_columns])\n",
        "\n",
        "    scaler_filename = os.path.join(OUTPUT_PATH, \"smartphone_scaler.joblib\")\n",
        "    joblib.dump(scaler, scaler_filename)\n",
        "    print(f\"Scaler saved to '{scaler_filename}'.\")\n",
        "\n",
        "    # --- Step 3: Creating Sequences ---\n",
        "\n",
        "    print(f\"\\n--- Step 3: Creating Sequences with {SEQUENCE_TIMESTEPS} Timesteps ({SEQUENCE_DAYS} days) ---\")\n",
        "\n",
        "    sequences = []\n",
        "    labels = []\n",
        "\n",
        "    grouped_data = df.groupby('device_id')\n",
        "\n",
        "    for device_id, device_data in tqdm(grouped_data, desc=\"Processing Devices\"):\n",
        "        feature_data = device_data[feature_columns].values\n",
        "        label_data = device_data['failed_in_next_7d'].values\n",
        "\n",
        "        for i in range(len(feature_data) - SEQUENCE_TIMESTEPS):\n",
        "            seq = feature_data[i:i + SEQUENCE_TIMESTEPS]\n",
        "            label = label_data[i + SEQUENCE_TIMESTEPS - 1]\n",
        "\n",
        "            sequences.append(seq)\n",
        "            labels.append(label)\n",
        "\n",
        "    X = np.array(sequences)\n",
        "    y = np.array(labels)\n",
        "\n",
        "    print(\"\\n--- Step 4: Finalizing and Saving Data ---\")\n",
        "    print(f\"Final shape of sequences (X): {X.shape}\")\n",
        "    print(f\"Final shape of labels (y): {y.shape}\")\n",
        "\n",
        "    np.save(os.path.join(OUTPUT_PATH, \"smartphone_sequences.npy\"), X)\n",
        "    np.save(os.path.join(OUTPUT_PATH, \"smartphone_labels.npy\"), y)\n",
        "\n",
        "    print(f\"\\nData preparation complete. Model-ready files saved.\")\n",
        "    print(\"You are now ready for the next step: training the LSTM model.\")\n",
        "\n",
        "\n",
        "if __name__ == \"__main__\":\n",
        "    prepare_smartphone_data()"
      ],
      "metadata": {
        "colab": {
          "base_uri": "https://localhost:8080/"
        },
        "id": "qUX5aaa5m7E2",
        "outputId": "ed6b551f-7f01-47f3-9cb5-11b02677aaa8"
      },
      "execution_count": 15,
      "outputs": [
        {
          "output_type": "stream",
          "name": "stdout",
          "text": [
            "--- Step 1: Loading and Preprocessing Data ---\n",
            "Loaded 72800 data points from 50 devices.\n",
            "\n",
            "--- Step 2: Scaling 10 Features ---\n",
            "Scaler saved to './smartphone_scaler.joblib'.\n",
            "\n",
            "--- Step 3: Creating Sequences with 56 Timesteps (14 days) ---\n"
          ]
        },
        {
          "output_type": "stream",
          "name": "stderr",
          "text": [
            "Processing Devices: 100%|██████████| 50/50 [00:00<00:00, 168.13it/s]\n"
          ]
        },
        {
          "output_type": "stream",
          "name": "stdout",
          "text": [
            "\n",
            "--- Step 4: Finalizing and Saving Data ---\n",
            "Final shape of sequences (X): (70000, 56, 10)\n",
            "Final shape of labels (y): (70000,)\n",
            "\n",
            "Data preparation complete. Model-ready files saved.\n",
            "You are now ready for the next step: training the LSTM model.\n"
          ]
        }
      ]
    },
    {
      "cell_type": "code",
      "source": [
        "import numpy as np\n",
        "import tensorflow as tf\n",
        "from tensorflow import keras\n",
        "from tensorflow.keras.models import Sequential\n",
        "from tensorflow.keras.layers import LSTM, Dense, Dropout\n",
        "from sklearn.model_selection import train_test_split\n",
        "from sklearn.metrics import classification_report, confusion_matrix, ConfusionMatrixDisplay\n",
        "from sklearn.utils import class_weight\n",
        "import matplotlib.pyplot as plt\n",
        "import os\n",
        "\n",
        "# --- Step 0: Setup and GPU Check ---\n",
        "print(\"--- Step 0: Setup and GPU Check ---\")\n",
        "print(f\"TensorFlow Version: {tf.__version__}\")\n",
        "\n",
        "device_name = tf.test.gpu_device_name()\n",
        "if device_name != '/device:GPU:0':\n",
        "  print('\\nWARNING: GPU device not found. Training will be much slower.')\n",
        "else:\n",
        "  print('\\nSUCCESS: Found GPU at: {}'.format(device_name))\n",
        "\n",
        "\n",
        "# --- Step 1: Load and Split Data ---\n",
        "print(\"\\n--- Step 1: Loading and Splitting Data ---\")\n",
        "X_FILE = 'smartphone_sequences.npy'\n",
        "Y_FILE = 'smartphone_labels.npy'\n",
        "\n",
        "if not os.path.exists(X_FILE) or not os.path.exists(Y_FILE):\n",
        "    print(f\"Error: Make sure '{X_FILE}' and '{Y_FILE}' are uploaded to your Colab session.\")\n",
        "else:\n",
        "    X = np.load(X_FILE)\n",
        "    y = np.load(Y_FILE)\n",
        "\n",
        "    print(f\"Loaded sequences with shape: {X.shape}\")\n",
        "    print(f\"Loaded labels with shape: {y.shape}\")\n",
        "\n",
        "    X_train, X_test, y_train, y_test = train_test_split(\n",
        "        X, y, test_size=0.2, random_state=42, stratify=y\n",
        "    )\n",
        "\n",
        "    print(f\"\\nTraining data shape: {X_train.shape}\")\n",
        "    print(f\"Testing data shape: {X_test.shape}\")\n",
        "\n",
        "\n",
        "# --- Step 2: Handle Class Imbalance ---\n",
        "print(\"\\n--- Step 2: Calculating Class Weights ---\")\n",
        "\n",
        "class_weights = class_weight.compute_class_weight(\n",
        "    'balanced',\n",
        "    classes=np.unique(y_train),\n",
        "    y=y_train\n",
        ")\n",
        "class_weight_dict = {0: class_weights[0], 1: class_weights[1]}\n",
        "print(f\"Calculated class weights: {class_weight_dict}\")\n",
        "\n",
        "\n",
        "# --- Step 3: Build the LSTM Model Architecture ---\n",
        "print(\"\\n--- Step 3: Building the LSTM Model ---\")\n",
        "\n",
        "input_shape = (X_train.shape[1], X_train.shape[2]) # (timesteps, features)\n",
        "\n",
        "model = Sequential([\n",
        "    LSTM(64, input_shape=input_shape, return_sequences=True), # Return sequences for stacking\n",
        "    Dropout(0.2),\n",
        "    LSTM(32, return_sequences=False), # Last LSTM layer\n",
        "    Dropout(0.2),\n",
        "    Dense(16, activation='relu'),\n",
        "    Dense(1, activation='sigmoid')\n",
        "])\n",
        "\n",
        "model.summary()\n",
        "\n",
        "\n",
        "# --- Step 4: Compile and Train the Model ---\n",
        "print(\"\\n--- Step 4: Compiling and Training the Model ---\")\n",
        "\n",
        "model.compile(\n",
        "    optimizer='adam',\n",
        "    loss='binary_crossentropy',\n",
        "    metrics=[\n",
        "        'accuracy',\n",
        "        tf.keras.metrics.Precision(name='precision'),\n",
        "        tf.keras.metrics.Recall(name='recall')\n",
        "    ]\n",
        ")\n",
        "\n",
        "history = model.fit(\n",
        "    X_train,\n",
        "    y_train,\n",
        "    epochs=15, # Increased epochs slightly for potentially more complex patterns\n",
        "    batch_size=128,\n",
        "    validation_data=(X_test, y_test),\n",
        "    class_weight=class_weight_dict\n",
        ")\n",
        "\n",
        "\n"
      ],
      "metadata": {
        "colab": {
          "base_uri": "https://localhost:8080/",
          "height": 1000
        },
        "id": "MwGvEeMgPf5j",
        "outputId": "11e15eba-bbc8-4846-eba4-ac8e7bf8d4f7"
      },
      "execution_count": 16,
      "outputs": [
        {
          "output_type": "stream",
          "name": "stdout",
          "text": [
            "--- Step 0: Setup and GPU Check ---\n",
            "TensorFlow Version: 2.19.0\n",
            "\n",
            "WARNING: GPU device not found. Training will be much slower.\n",
            "\n",
            "--- Step 1: Loading and Splitting Data ---\n",
            "Loaded sequences with shape: (70000, 56, 10)\n",
            "Loaded labels with shape: (70000,)\n",
            "\n",
            "Training data shape: (56000, 56, 10)\n",
            "Testing data shape: (14000, 56, 10)\n",
            "\n",
            "--- Step 2: Calculating Class Weights ---\n",
            "Calculated class weights: {0: np.float64(0.5031265722705384), 1: np.float64(80.45977011494253)}\n",
            "\n",
            "--- Step 3: Building the LSTM Model ---\n"
          ]
        },
        {
          "output_type": "stream",
          "name": "stderr",
          "text": [
            "/usr/local/lib/python3.12/dist-packages/keras/src/layers/rnn/rnn.py:199: UserWarning: Do not pass an `input_shape`/`input_dim` argument to a layer. When using Sequential models, prefer using an `Input(shape)` object as the first layer in the model instead.\n",
            "  super().__init__(**kwargs)\n"
          ]
        },
        {
          "output_type": "display_data",
          "data": {
            "text/plain": [
              "\u001b[1mModel: \"sequential_3\"\u001b[0m\n"
            ],
            "text/html": [
              "<pre style=\"white-space:pre;overflow-x:auto;line-height:normal;font-family:Menlo,'DejaVu Sans Mono',consolas,'Courier New',monospace\"><span style=\"font-weight: bold\">Model: \"sequential_3\"</span>\n",
              "</pre>\n"
            ]
          },
          "metadata": {}
        },
        {
          "output_type": "display_data",
          "data": {
            "text/plain": [
              "┏━━━━━━━━━━━━━━━━━━━━━━━━━━━━━━━━━┳━━━━━━━━━━━━━━━━━━━━━━━━┳━━━━━━━━━━━━━━━┓\n",
              "┃\u001b[1m \u001b[0m\u001b[1mLayer (type)                   \u001b[0m\u001b[1m \u001b[0m┃\u001b[1m \u001b[0m\u001b[1mOutput Shape          \u001b[0m\u001b[1m \u001b[0m┃\u001b[1m \u001b[0m\u001b[1m      Param #\u001b[0m\u001b[1m \u001b[0m┃\n",
              "┡━━━━━━━━━━━━━━━━━━━━━━━━━━━━━━━━━╇━━━━━━━━━━━━━━━━━━━━━━━━╇━━━━━━━━━━━━━━━┩\n",
              "│ lstm_3 (\u001b[38;5;33mLSTM\u001b[0m)                   │ (\u001b[38;5;45mNone\u001b[0m, \u001b[38;5;34m56\u001b[0m, \u001b[38;5;34m64\u001b[0m)         │        \u001b[38;5;34m19,200\u001b[0m │\n",
              "├─────────────────────────────────┼────────────────────────┼───────────────┤\n",
              "│ dropout_3 (\u001b[38;5;33mDropout\u001b[0m)             │ (\u001b[38;5;45mNone\u001b[0m, \u001b[38;5;34m56\u001b[0m, \u001b[38;5;34m64\u001b[0m)         │             \u001b[38;5;34m0\u001b[0m │\n",
              "├─────────────────────────────────┼────────────────────────┼───────────────┤\n",
              "│ lstm_4 (\u001b[38;5;33mLSTM\u001b[0m)                   │ (\u001b[38;5;45mNone\u001b[0m, \u001b[38;5;34m32\u001b[0m)             │        \u001b[38;5;34m12,416\u001b[0m │\n",
              "├─────────────────────────────────┼────────────────────────┼───────────────┤\n",
              "│ dropout_4 (\u001b[38;5;33mDropout\u001b[0m)             │ (\u001b[38;5;45mNone\u001b[0m, \u001b[38;5;34m32\u001b[0m)             │             \u001b[38;5;34m0\u001b[0m │\n",
              "├─────────────────────────────────┼────────────────────────┼───────────────┤\n",
              "│ dense_6 (\u001b[38;5;33mDense\u001b[0m)                 │ (\u001b[38;5;45mNone\u001b[0m, \u001b[38;5;34m16\u001b[0m)             │           \u001b[38;5;34m528\u001b[0m │\n",
              "├─────────────────────────────────┼────────────────────────┼───────────────┤\n",
              "│ dense_7 (\u001b[38;5;33mDense\u001b[0m)                 │ (\u001b[38;5;45mNone\u001b[0m, \u001b[38;5;34m1\u001b[0m)              │            \u001b[38;5;34m17\u001b[0m │\n",
              "└─────────────────────────────────┴────────────────────────┴───────────────┘\n"
            ],
            "text/html": [
              "<pre style=\"white-space:pre;overflow-x:auto;line-height:normal;font-family:Menlo,'DejaVu Sans Mono',consolas,'Courier New',monospace\">┏━━━━━━━━━━━━━━━━━━━━━━━━━━━━━━━━━┳━━━━━━━━━━━━━━━━━━━━━━━━┳━━━━━━━━━━━━━━━┓\n",
              "┃<span style=\"font-weight: bold\"> Layer (type)                    </span>┃<span style=\"font-weight: bold\"> Output Shape           </span>┃<span style=\"font-weight: bold\">       Param # </span>┃\n",
              "┡━━━━━━━━━━━━━━━━━━━━━━━━━━━━━━━━━╇━━━━━━━━━━━━━━━━━━━━━━━━╇━━━━━━━━━━━━━━━┩\n",
              "│ lstm_3 (<span style=\"color: #0087ff; text-decoration-color: #0087ff\">LSTM</span>)                   │ (<span style=\"color: #00d7ff; text-decoration-color: #00d7ff\">None</span>, <span style=\"color: #00af00; text-decoration-color: #00af00\">56</span>, <span style=\"color: #00af00; text-decoration-color: #00af00\">64</span>)         │        <span style=\"color: #00af00; text-decoration-color: #00af00\">19,200</span> │\n",
              "├─────────────────────────────────┼────────────────────────┼───────────────┤\n",
              "│ dropout_3 (<span style=\"color: #0087ff; text-decoration-color: #0087ff\">Dropout</span>)             │ (<span style=\"color: #00d7ff; text-decoration-color: #00d7ff\">None</span>, <span style=\"color: #00af00; text-decoration-color: #00af00\">56</span>, <span style=\"color: #00af00; text-decoration-color: #00af00\">64</span>)         │             <span style=\"color: #00af00; text-decoration-color: #00af00\">0</span> │\n",
              "├─────────────────────────────────┼────────────────────────┼───────────────┤\n",
              "│ lstm_4 (<span style=\"color: #0087ff; text-decoration-color: #0087ff\">LSTM</span>)                   │ (<span style=\"color: #00d7ff; text-decoration-color: #00d7ff\">None</span>, <span style=\"color: #00af00; text-decoration-color: #00af00\">32</span>)             │        <span style=\"color: #00af00; text-decoration-color: #00af00\">12,416</span> │\n",
              "├─────────────────────────────────┼────────────────────────┼───────────────┤\n",
              "│ dropout_4 (<span style=\"color: #0087ff; text-decoration-color: #0087ff\">Dropout</span>)             │ (<span style=\"color: #00d7ff; text-decoration-color: #00d7ff\">None</span>, <span style=\"color: #00af00; text-decoration-color: #00af00\">32</span>)             │             <span style=\"color: #00af00; text-decoration-color: #00af00\">0</span> │\n",
              "├─────────────────────────────────┼────────────────────────┼───────────────┤\n",
              "│ dense_6 (<span style=\"color: #0087ff; text-decoration-color: #0087ff\">Dense</span>)                 │ (<span style=\"color: #00d7ff; text-decoration-color: #00d7ff\">None</span>, <span style=\"color: #00af00; text-decoration-color: #00af00\">16</span>)             │           <span style=\"color: #00af00; text-decoration-color: #00af00\">528</span> │\n",
              "├─────────────────────────────────┼────────────────────────┼───────────────┤\n",
              "│ dense_7 (<span style=\"color: #0087ff; text-decoration-color: #0087ff\">Dense</span>)                 │ (<span style=\"color: #00d7ff; text-decoration-color: #00d7ff\">None</span>, <span style=\"color: #00af00; text-decoration-color: #00af00\">1</span>)              │            <span style=\"color: #00af00; text-decoration-color: #00af00\">17</span> │\n",
              "└─────────────────────────────────┴────────────────────────┴───────────────┘\n",
              "</pre>\n"
            ]
          },
          "metadata": {}
        },
        {
          "output_type": "display_data",
          "data": {
            "text/plain": [
              "\u001b[1m Total params: \u001b[0m\u001b[38;5;34m32,161\u001b[0m (125.63 KB)\n"
            ],
            "text/html": [
              "<pre style=\"white-space:pre;overflow-x:auto;line-height:normal;font-family:Menlo,'DejaVu Sans Mono',consolas,'Courier New',monospace\"><span style=\"font-weight: bold\"> Total params: </span><span style=\"color: #00af00; text-decoration-color: #00af00\">32,161</span> (125.63 KB)\n",
              "</pre>\n"
            ]
          },
          "metadata": {}
        },
        {
          "output_type": "display_data",
          "data": {
            "text/plain": [
              "\u001b[1m Trainable params: \u001b[0m\u001b[38;5;34m32,161\u001b[0m (125.63 KB)\n"
            ],
            "text/html": [
              "<pre style=\"white-space:pre;overflow-x:auto;line-height:normal;font-family:Menlo,'DejaVu Sans Mono',consolas,'Courier New',monospace\"><span style=\"font-weight: bold\"> Trainable params: </span><span style=\"color: #00af00; text-decoration-color: #00af00\">32,161</span> (125.63 KB)\n",
              "</pre>\n"
            ]
          },
          "metadata": {}
        },
        {
          "output_type": "display_data",
          "data": {
            "text/plain": [
              "\u001b[1m Non-trainable params: \u001b[0m\u001b[38;5;34m0\u001b[0m (0.00 B)\n"
            ],
            "text/html": [
              "<pre style=\"white-space:pre;overflow-x:auto;line-height:normal;font-family:Menlo,'DejaVu Sans Mono',consolas,'Courier New',monospace\"><span style=\"font-weight: bold\"> Non-trainable params: </span><span style=\"color: #00af00; text-decoration-color: #00af00\">0</span> (0.00 B)\n",
              "</pre>\n"
            ]
          },
          "metadata": {}
        },
        {
          "output_type": "stream",
          "name": "stdout",
          "text": [
            "\n",
            "--- Step 4: Compiling and Training the Model ---\n",
            "Epoch 1/15\n",
            "\u001b[1m438/438\u001b[0m \u001b[32m━━━━━━━━━━━━━━━━━━━━\u001b[0m\u001b[37m\u001b[0m \u001b[1m63s\u001b[0m 129ms/step - accuracy: 0.7681 - loss: 0.4491 - precision: 0.0277 - recall: 0.8515 - val_accuracy: 0.9509 - val_loss: 0.1544 - val_precision: 0.1123 - val_recall: 1.0000\n",
            "Epoch 2/15\n",
            "\u001b[1m438/438\u001b[0m \u001b[32m━━━━━━━━━━━━━━━━━━━━\u001b[0m\u001b[37m\u001b[0m \u001b[1m59s\u001b[0m 134ms/step - accuracy: 0.8522 - loss: 0.2259 - precision: 0.0470 - recall: 0.9873 - val_accuracy: 0.9436 - val_loss: 0.1774 - val_precision: 0.0992 - val_recall: 1.0000\n",
            "Epoch 3/15\n",
            "\u001b[1m438/438\u001b[0m \u001b[32m━━━━━━━━━━━━━━━━━━━━\u001b[0m\u001b[37m\u001b[0m \u001b[1m55s\u001b[0m 126ms/step - accuracy: 0.7094 - loss: 0.3629 - precision: 0.0332 - recall: 0.9321 - val_accuracy: 0.9338 - val_loss: 0.2970 - val_precision: 0.0858 - val_recall: 1.0000\n",
            "Epoch 4/15\n",
            "\u001b[1m438/438\u001b[0m \u001b[32m━━━━━━━━━━━━━━━━━━━━\u001b[0m\u001b[37m\u001b[0m \u001b[1m55s\u001b[0m 126ms/step - accuracy: 0.9386 - loss: 0.1487 - precision: 0.0918 - recall: 0.9884 - val_accuracy: 0.9516 - val_loss: 0.1439 - val_precision: 0.1137 - val_recall: 1.0000\n",
            "Epoch 5/15\n",
            "\u001b[1m438/438\u001b[0m \u001b[32m━━━━━━━━━━━━━━━━━━━━\u001b[0m\u001b[37m\u001b[0m \u001b[1m61s\u001b[0m 140ms/step - accuracy: 0.9449 - loss: 0.1294 - precision: 0.0969 - recall: 0.9829 - val_accuracy: 0.9494 - val_loss: 0.1554 - val_precision: 0.1093 - val_recall: 1.0000\n",
            "Epoch 6/15\n",
            "\u001b[1m438/438\u001b[0m \u001b[32m━━━━━━━━━━━━━━━━━━━━\u001b[0m\u001b[37m\u001b[0m \u001b[1m55s\u001b[0m 126ms/step - accuracy: 0.9019 - loss: 0.1764 - precision: 0.0763 - recall: 0.9935 - val_accuracy: 0.9515 - val_loss: 0.1317 - val_precision: 0.1136 - val_recall: 1.0000\n",
            "Epoch 7/15\n",
            "\u001b[1m438/438\u001b[0m \u001b[32m━━━━━━━━━━━━━━━━━━━━\u001b[0m\u001b[37m\u001b[0m \u001b[1m86s\u001b[0m 136ms/step - accuracy: 0.8921 - loss: 0.1946 - precision: 0.0548 - recall: 0.9889 - val_accuracy: 0.9502 - val_loss: 0.1440 - val_precision: 0.1110 - val_recall: 1.0000\n",
            "Epoch 8/15\n",
            "\u001b[1m438/438\u001b[0m \u001b[32m━━━━━━━━━━━━━━━━━━━━\u001b[0m\u001b[37m\u001b[0m \u001b[1m78s\u001b[0m 126ms/step - accuracy: 0.9517 - loss: 0.1001 - precision: 0.1138 - recall: 1.0000 - val_accuracy: 0.9440 - val_loss: 0.1115 - val_precision: 0.0999 - val_recall: 1.0000\n",
            "Epoch 9/15\n",
            "\u001b[1m438/438\u001b[0m \u001b[32m━━━━━━━━━━━━━━━━━━━━\u001b[0m\u001b[37m\u001b[0m \u001b[1m55s\u001b[0m 125ms/step - accuracy: 0.9354 - loss: 0.1390 - precision: 0.0883 - recall: 0.9960 - val_accuracy: 0.9433 - val_loss: 0.1568 - val_precision: 0.0988 - val_recall: 1.0000\n",
            "Epoch 10/15\n",
            "\u001b[1m438/438\u001b[0m \u001b[32m━━━━━━━━━━━━━━━━━━━━\u001b[0m\u001b[37m\u001b[0m \u001b[1m56s\u001b[0m 128ms/step - accuracy: 0.9486 - loss: 0.1084 - precision: 0.1168 - recall: 0.9994 - val_accuracy: 0.9479 - val_loss: 0.1455 - val_precision: 0.1065 - val_recall: 1.0000\n",
            "Epoch 11/15\n",
            "\u001b[1m438/438\u001b[0m \u001b[32m━━━━━━━━━━━━━━━━━━━━\u001b[0m\u001b[37m\u001b[0m \u001b[1m56s\u001b[0m 128ms/step - accuracy: 0.9432 - loss: 0.1217 - precision: 0.1010 - recall: 0.9942 - val_accuracy: 0.9500 - val_loss: 0.1517 - val_precision: 0.1105 - val_recall: 1.0000\n",
            "Epoch 12/15\n",
            "\u001b[1m438/438\u001b[0m \u001b[32m━━━━━━━━━━━━━━━━━━━━\u001b[0m\u001b[37m\u001b[0m \u001b[1m56s\u001b[0m 127ms/step - accuracy: 0.9361 - loss: 0.1355 - precision: 0.0966 - recall: 0.9908 - val_accuracy: 0.9307 - val_loss: 0.2140 - val_precision: 0.0823 - val_recall: 1.0000\n",
            "Epoch 13/15\n",
            "\u001b[1m438/438\u001b[0m \u001b[32m━━━━━━━━━━━━━━━━━━━━\u001b[0m\u001b[37m\u001b[0m \u001b[1m57s\u001b[0m 130ms/step - accuracy: 0.9358 - loss: 0.1291 - precision: 0.0871 - recall: 0.9987 - val_accuracy: 0.9344 - val_loss: 0.1900 - val_precision: 0.0865 - val_recall: 1.0000\n",
            "Epoch 14/15\n",
            "\u001b[1m438/438\u001b[0m \u001b[32m━━━━━━━━━━━━━━━━━━━━\u001b[0m\u001b[37m\u001b[0m \u001b[1m55s\u001b[0m 126ms/step - accuracy: 0.9386 - loss: 0.1259 - precision: 0.0992 - recall: 0.9990 - val_accuracy: 0.9254 - val_loss: 0.2263 - val_precision: 0.0769 - val_recall: 1.0000\n",
            "Epoch 15/15\n",
            "\u001b[1m438/438\u001b[0m \u001b[32m━━━━━━━━━━━━━━━━━━━━\u001b[0m\u001b[37m\u001b[0m \u001b[1m56s\u001b[0m 128ms/step - accuracy: 0.9397 - loss: 0.1207 - precision: 0.0980 - recall: 0.9991 - val_accuracy: 0.9439 - val_loss: 0.1604 - val_precision: 0.0998 - val_recall: 1.0000\n",
            "\n",
            "--- Step 5: Evaluating Model Performance ---\n",
            "\u001b[1m438/438\u001b[0m \u001b[32m━━━━━━━━━━━━━━━━━━━━\u001b[0m\u001b[37m\u001b[0m \u001b[1m8s\u001b[0m 17ms/step\n",
            "\n",
            "Classification Report:\n",
            "                  precision    recall  f1-score   support\n",
            "\n",
            "         Healthy       1.00      0.94      0.97     13913\n",
            "Failure Imminent       0.10      1.00      0.18        87\n",
            "\n",
            "        accuracy                           0.94     14000\n",
            "       macro avg       0.55      0.97      0.58     14000\n",
            "    weighted avg       0.99      0.94      0.97     14000\n",
            "\n",
            "\n",
            "Confusion Matrix:\n"
          ]
        },
        {
          "output_type": "display_data",
          "data": {
            "text/plain": [
              "<Figure size 640x480 with 2 Axes>"
            ],
            "image/png": "[encoded data removed]"
          },
          "metadata": {}
        },
        {
          "output_type": "stream",
          "name": "stderr",
          "text": [
            "WARNING:absl:You are saving your model as an HDF5 file via `model.save()` or `keras.saving.save_model(model)`. This file format is considered legacy. We recommend using instead the native Keras format, e.g. `model.save('my_model.keras')` or `keras.saving.save_model(model, 'my_model.keras')`. \n"
          ]
        },
        {
          "output_type": "stream",
          "name": "stdout",
          "text": [
            "\n",
            "Model training and evaluation complete. Model saved to 'smartphone_model.h5'.\n"
          ]
        }
      ]
    },
    {
      "cell_type": "code",
      "source": [
        "# --- Step 5: Evaluate the Model ---\n",
        "print(\"\\n--- Step 5: Evaluating Model Performance ---\")\n",
        "\n",
        "y_pred_proba = model.predict(X_test)\n",
        "y_pred = (y_pred_proba > 0.9438999).astype(\"int32\")\n",
        "\n",
        "print(\"\\nClassification Report:\")\n",
        "print(classification_report(y_test, y_pred, target_names=['Healthy', 'Failure Imminent']))\n",
        "\n",
        "print(\"\\nConfusion Matrix:\")\n",
        "cm = confusion_matrix(y_test, y_pred)\n",
        "disp = ConfusionMatrixDisplay(confusion_matrix=cm, display_labels=['Healthy', 'Failure Imminent'])\n",
        "disp.plot(cmap=plt.cm.Blues)\n",
        "plt.show()\n",
        "\n",
        "# --- Step 6: Save the Trained Model ---\n",
        "MODEL_FILENAME = 'smartphone_model.h5'\n",
        "model.save(MODEL_FILENAME)\n",
        "print(f\"\\nModel training and evaluation complete. Model saved to '{MODEL_FILENAME}'.\")"
      ],
      "metadata": {
        "colab": {
          "base_uri": "https://localhost:8080/",
          "height": 799
        },
        "id": "e9PA9n_vWE-U",
        "outputId": "62ee0e74-8c0a-4430-900d-390bff4cc2b9"
      },
      "execution_count": 29,
      "outputs": [
        {
          "output_type": "stream",
          "name": "stdout",
          "text": [
            "\n",
            "--- Step 5: Evaluating Model Performance ---\n",
            "\u001b[1m438/438\u001b[0m \u001b[32m━━━━━━━━━━━━━━━━━━━━\u001b[0m\u001b[37m\u001b[0m \u001b[1m7s\u001b[0m 16ms/step\n",
            "\n",
            "Classification Report:\n",
            "                  precision    recall  f1-score   support\n",
            "\n",
            "         Healthy       1.00      0.96      0.98     13913\n",
            "Failure Imminent       0.14      0.95      0.25        87\n",
            "\n",
            "        accuracy                           0.96     14000\n",
            "       macro avg       0.57      0.96      0.62     14000\n",
            "    weighted avg       0.99      0.96      0.98     14000\n",
            "\n",
            "\n",
            "Confusion Matrix:\n"
          ]
        },
        {
          "output_type": "display_data",
          "data": {
            "text/plain": [
              "<Figure size 640x480 with 2 Axes>"
            ],
            "image/png": "[encoded data removed]"
          },
          "metadata": {}
        },
        {
          "output_type": "stream",
          "name": "stderr",
          "text": [
            "WARNING:absl:You are saving your model as an HDF5 file via `model.save()` or `keras.saving.save_model(model)`. This file format is considered legacy. We recommend using instead the native Keras format, e.g. `model.save('my_model.keras')` or `keras.saving.save_model(model, 'my_model.keras')`. \n"
          ]
        },
        {
          "output_type": "stream",
          "name": "stdout",
          "text": [
            "\n",
            "Model training and evaluation complete. Model saved to 'smartphone_model.h5'.\n"
          ]
        }
      ]
    }
  ]
}